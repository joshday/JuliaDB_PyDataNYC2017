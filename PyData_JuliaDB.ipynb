{
 "cells": [
  {
   "cell_type": "markdown",
   "metadata": {
    "slideshow": {
     "slide_type": "slide"
    }
   },
   "source": [
    "<center><img src = \"https://juliacomputing.com/assets/img/new/JuliaDB_logo2.svg\" width=400>\n",
    "\n",
    "# A data system for Julia\n",
    "</center>\n",
    "<br>\n",
    "<table>\n",
    "    <tr>\n",
    "        <td style=\"width: 200px\"><strong style=\"font-size:20px;\">Jeff Bezanson<br>Shashi Gowda<br>Josh Day</strong></td>\n",
    "        <td><img src = \"https://juliacomputing.com/assets/img/new/julia-computing.svg\" width=400></td>\n",
    "    </tr>\n",
    "</table>\n"
   ]
  },
  {
   "cell_type": "markdown",
   "metadata": {
    "slideshow": {
     "slide_type": "slide"
    }
   },
   "source": [
    "# Overview\n",
    "\n",
    "- Why Julia\n",
    "- Why JuliaDB\n",
    "- Analytics with JuliaDB\n",
    "- Benchmarks\n",
    "- API Overview"
   ]
  },
  {
   "cell_type": "markdown",
   "metadata": {
    "slideshow": {
     "slide_type": "slide"
    }
   },
   "source": [
    "## Why Do We Need Another Language?\n",
    "\n",
    "https://julialang.org/blog/2012/02/why-we-created-julia"
   ]
  },
  {
   "cell_type": "markdown",
   "metadata": {
    "slideshow": {
     "slide_type": "slide"
    }
   },
   "source": [
    "# The Two Language Problem\n",
    "\n",
    "- **Prototype** code goes into a high-level language\n",
    "- **Production** code goes into a low-level language"
   ]
  },
  {
   "cell_type": "markdown",
   "metadata": {
    "slideshow": {
     "slide_type": "slide"
    }
   },
   "source": [
    "<center><img src=\"https://upload.wikimedia.org/wikipedia/commons/thumb/6/69/Julia_prog_language.svg/1280px-Julia_prog_language.svg.png\" width=200></center>\n",
    "\n",
    "# The dream:"
   ]
  },
  {
   "cell_type": "markdown",
   "metadata": {
    "slideshow": {
     "slide_type": "fragment"
    }
   },
   "source": [
    "- Be (at least) as nice as Python/R/Matlab"
   ]
  },
  {
   "cell_type": "markdown",
   "metadata": {
    "slideshow": {
     "slide_type": "fragment"
    }
   },
   "source": [
    "- Be as fast as C/Fortran"
   ]
  },
  {
   "cell_type": "markdown",
   "metadata": {
    "slideshow": {
     "slide_type": "fragment"
    }
   },
   "source": [
    "*Julia is fast because of features which work well together, and it is more than \"Fast Python/R/Matlab\"*"
   ]
  },
  {
   "cell_type": "markdown",
   "metadata": {
    "slideshow": {
     "slide_type": "slide"
    }
   },
   "source": [
    "# Julia Features\n",
    "\n",
    "- **JIT Compiler**: User code runs fast\n",
    "- **Multiple Dispatch**:  Code specialized to argument types\n",
    "- **Type System**: Express yourself\n",
    "- **Metaprogramming**: Transform and generate code\n",
    "- **Parallelism**: Built-in\n",
    "- **Interop** (Call C directly, RCall.jl, PyCall.jl), **Unicode Support**, **MIT Licensed**, ..."
   ]
  },
  {
   "cell_type": "markdown",
   "metadata": {
    "slideshow": {
     "slide_type": "slide"
    }
   },
   "source": [
    "# Introducing JuliaDB"
   ]
  },
  {
   "cell_type": "markdown",
   "metadata": {
    "slideshow": {
     "slide_type": "skip"
    }
   },
   "source": [
    "# Julia \"Developers\"\n",
    "\n",
    "![](https://pkg.julialang.org/img/allver.svg)"
   ]
  },
  {
   "cell_type": "markdown",
   "metadata": {
    "slideshow": {
     "slide_type": "skip"
    }
   },
   "source": [
    "# Julia \"Users\"\n",
    "\n",
    "![](https://pkg.julialang.org/img/stars.svg)"
   ]
  },
  {
   "cell_type": "markdown",
   "metadata": {
    "slideshow": {
     "slide_type": "slide"
    }
   },
   "source": [
    "# Why JuliaDB?\n",
    "\n",
    "We shouldn't need to glue together tools to get performance\n",
    "\n",
    "<img src=\"https://media.giphy.com/media/xT0xelg3s22Ni7gYO4/giphy.gif\" width=400>"
   ]
  },
  {
   "cell_type": "markdown",
   "metadata": {
    "slideshow": {
     "slide_type": "slide"
    }
   },
   "source": [
    "<table>\n",
    "    <tr>\n",
    "        <td width=\"100\"><h1>pandas</h1></td>\n",
    "        <td><img src = \"images/pandas.png\"></td>\n",
    "    </tr>\n",
    "</table>"
   ]
  },
  {
   "cell_type": "markdown",
   "metadata": {
    "slideshow": {
     "slide_type": "fragment"
    }
   },
   "source": [
    "<table>\n",
    "    <tr>\n",
    "        <td width=\"100\"><h1>dplyr</h1></td>\n",
    "        <td><img src = \"images/dplyr.png\"></td>\n",
    "    </tr>\n",
    "</table>"
   ]
  },
  {
   "cell_type": "markdown",
   "metadata": {
    "slideshow": {
     "slide_type": "fragment"
    }
   },
   "source": [
    "<table>\n",
    "    <tr>\n",
    "        <td width=\"100\"><h1>data.table</h1></td>\n",
    "        <td><img src = \"images/datatable.png\"></td>\n",
    "    </tr>\n",
    "</table>"
   ]
  },
  {
   "cell_type": "markdown",
   "metadata": {
    "slideshow": {
     "slide_type": "fragment"
    }
   },
   "source": [
    "<table>\n",
    "    <tr>\n",
    "        <td width=\"100\"><h1>JuliaDB</h1></td>\n",
    "        <td><img src = \"images/juliadb.png\"></td>\n",
    "    </tr>\n",
    "</table>"
   ]
  },
  {
   "cell_type": "markdown",
   "metadata": {
    "slideshow": {
     "slide_type": "slide"
    }
   },
   "source": [
    "# JuliaDB Goals\n",
    "\n",
    "**JuliaDB brings the promise of Julia to Data Science**\n",
    "\n",
    "- Efficiently work with multi-file persistent datasets\n",
    "- Queries/user-defined functions are fast\n",
    "- Perform the heavy lifting of distributed computing\n",
    "- Batteries are included (tools for analytics)"
   ]
  },
  {
   "cell_type": "markdown",
   "metadata": {
    "slideshow": {
     "slide_type": "slide"
    }
   },
   "source": [
    "# Example: NYC Taxi Data\n",
    "\n",
    "![](http://www.nyc.gov/html/tlc/includes/site_images/branding/banner.gif)\n",
    "\n",
    "- First 4 months of yellow cab data for 2017 (3.2 GB)\n",
    "- One file per month"
   ]
  },
  {
   "cell_type": "code",
   "execution_count": 32,
   "metadata": {
    "slideshow": {
     "slide_type": "-"
    }
   },
   "outputs": [
    {
     "name": "stdout",
     "output_type": "stream",
     "text": [
      "yellow_tripdata_2017-01.csv\n",
      "yellow_tripdata_2017-02.csv\n",
      "yellow_tripdata_2017-03.csv\n",
      "yellow_tripdata_2017-04.csv\n"
     ]
    }
   ],
   "source": [
    ";ls /Users/joshday/datasets/taxi"
   ]
  },
  {
   "cell_type": "code",
   "execution_count": 33,
   "metadata": {
    "slideshow": {
     "slide_type": "skip"
    }
   },
   "outputs": [
    {
     "name": "stdout",
     "output_type": "stream",
     "text": [
      "4.0K\t/Users/joshday/datasets/taxi/.juliadb\n",
      "3.2G\t/Users/joshday/datasets/taxi\n"
     ]
    }
   ],
   "source": [
    ";du -h /Users/joshday/datasets/taxi"
   ]
  },
  {
   "cell_type": "code",
   "execution_count": 34,
   "metadata": {
    "slideshow": {
     "slide_type": "slide"
    }
   },
   "outputs": [
    {
     "name": "stdout",
     "output_type": "stream",
     "text": [
      "VendorID,tpep_pickup_datetime,tpep_dropoff_datetime,passenger_count,trip_distance,RatecodeID,store_and_fwd_flag,PULocationID,DOLocationID,payment_type,fare_amount,extra,mta_tax,tip_amount,tolls_amount,improvement_surcharge,total_amount\n",
      "\r\n",
      "1,2017-01-09 11:13:28,2017-01-09 11:25:45,1,3.30,1,N,263,161,1,12.5,0,0.5,2,0,0.3,15.3\r\n",
      "1,2017-01-09 11:32:27,2017-01-09 11:36:01,1,.90,1,N,186,234,1,5,0,0.5,1.45,0,0.3,7.25\r\n",
      "1,2017-01-09 11:38:20,2017-01-09 11:42:05,1,1.10,1,N,164,161,1,5.5,0,0.5,1,0,0.3,7.3\r\n",
      "1,2017-01-09 11:52:13,2017-01-09 11:57:36,1,1.10,1,N,236,75,1,6,0,0.5,1.7,0,0.3,8.5\r\n",
      "2,2017-01-01 00:00:00,2017-01-01 00:00:00,1,.02,2,N,249,234,2,52,0,0.5,0,0,0.3,52.8\r\n",
      "1,2017-01-01 00:00:02,2017-01-01 00:03:50,1,.50,1,N,48,48,2,4,0.5,0.5,0,0,0.3,5.3\r\n",
      "2,2017-01-01 00:00:02,2017-01-01 00:39:22,4,7.75,1,N,186,36,1,22,0.5,0.5,4.66,0,0.3,27.96\r\n",
      "1,2017-01-01 00:00:03,2017-01-01 00:06:58,1,.80,1,N,162,161,1,6,0.5,0.5,1.45,0,0.3,8.75\r\n"
     ]
    }
   ],
   "source": [
    ";head /Users/joshday/datasets/taxi/yellow_tripdata_2017-01.csv"
   ]
  },
  {
   "cell_type": "code",
   "execution_count": 35,
   "metadata": {
    "slideshow": {
     "slide_type": "skip"
    }
   },
   "outputs": [
    {
     "name": "stdout",
     "output_type": "stream",
     "text": [
      "Metadata for 4 / 4 files can be loaded from cache.\n"
     ]
    },
    {
     "data": {
      "text/plain": [
       "Distributed Table with 39219765 rows in 4 chunks:\n",
       "Columns:\n",
       "\u001b[1m#   \u001b[22m\u001b[1mcolname                \u001b[22m\u001b[1mtype\u001b[22m\n",
       "───────────────────────────────────\n",
       "1   VendorID               Int64\n",
       "2   tpep_pickup_datetime   DateTime\n",
       "3   tpep_dropoff_datetime  DateTime\n",
       "4   passenger_count        Int64\n",
       "5   trip_distance          Float64\n",
       "6   RatecodeID             Int64\n",
       "7   store_and_fwd_flag     String\n",
       "8   PULocationID           Int64\n",
       "9   DOLocationID           Int64\n",
       "10  payment_type           Int64\n",
       "11  fare_amount            Float64\n",
       "12  extra                  Float64\n",
       "13  mta_tax                Float64\n",
       "14  tip_amount             Float64\n",
       "15  tolls_amount           Float64\n",
       "16  improvement_surcharge  Float64\n",
       "17  total_amount           Float64"
      ]
     },
     "execution_count": 35,
     "metadata": {},
     "output_type": "execute_result"
    }
   ],
   "source": [
    "if nprocs() == 1\n",
    "    @show addprocs(4)\n",
    "end\n",
    "using JuliaDB\n",
    "\n",
    "\n",
    "path = \"/Users/joshday/datasets/taxi\"\n",
    "db = loadtable(path; indexcols=[1, 2])\n",
    "save(db, \"mydata\")"
   ]
  },
  {
   "cell_type": "markdown",
   "metadata": {
    "slideshow": {
     "slide_type": "slide"
    }
   },
   "source": [
    "# Run This Once:\n",
    "\n",
    "```julia\n",
    "addprocs()\n",
    "using JuliaDB\n",
    "\n",
    "path = \"/Users/joshday/datasets/taxi\"\n",
    "\n",
    "db = loadtable(path; indexcols=[1, 2])\n",
    "\n",
    "save(db, \"mydata\")\n",
    "```"
   ]
  },
  {
   "cell_type": "markdown",
   "metadata": {
    "slideshow": {
     "slide_type": "slide"
    }
   },
   "source": [
    "### Future Julia Sessions  Quickly Reload Data"
   ]
  },
  {
   "cell_type": "code",
   "execution_count": 36,
   "metadata": {
    "slideshow": {
     "slide_type": "-"
    }
   },
   "outputs": [
    {
     "name": "stdout",
     "output_type": "stream",
     "text": [
      "  0.008048 seconds (3.31 k allocations: 177.506 KiB)\n"
     ]
    },
    {
     "data": {
      "text/plain": [
       "Distributed Table with 39219765 rows in 4 chunks:\n",
       "Columns:\n",
       "\u001b[1m#   \u001b[22m\u001b[1mcolname                \u001b[22m\u001b[1mtype\u001b[22m\n",
       "───────────────────────────────────\n",
       "1   VendorID               Int64\n",
       "2   tpep_pickup_datetime   DateTime\n",
       "3   tpep_dropoff_datetime  DateTime\n",
       "4   passenger_count        Int64\n",
       "5   trip_distance          Float64\n",
       "6   RatecodeID             Int64\n",
       "7   store_and_fwd_flag     String\n",
       "8   PULocationID           Int64\n",
       "9   DOLocationID           Int64\n",
       "10  payment_type           Int64\n",
       "11  fare_amount            Float64\n",
       "12  extra                  Float64\n",
       "13  mta_tax                Float64\n",
       "14  tip_amount             Float64\n",
       "15  tolls_amount           Float64\n",
       "16  improvement_surcharge  Float64\n",
       "17  total_amount           Float64"
      ]
     },
     "execution_count": 36,
     "metadata": {},
     "output_type": "execute_result"
    }
   ],
   "source": [
    "@time db = load(\"mydata\")"
   ]
  },
  {
   "cell_type": "markdown",
   "metadata": {
    "slideshow": {
     "slide_type": "slide"
    }
   },
   "source": [
    "# Analytics With OnlineStats\n",
    " \n",
    " http://joshday.github.io/OnlineStats.jl/latest/\n",
    " \n",
    "- Each statistic/model has its own type\n",
    "- Values are updated one observation at a time"
   ]
  },
  {
   "cell_type": "markdown",
   "metadata": {
    "slideshow": {
     "slide_type": "slide"
    }
   },
   "source": [
    "# OnlineStats (Batteries included)\n",
    "\n",
    "- **Summary Statistics** (`Mean`, `CovMatrix`, `Quantile`, etc.)\n",
    "- **Density Estimation** (`OHistogram`, `IHistogram`, `FitCategorical`)\n",
    "- **Regression** (`LinReg`, `LinRegBuilder`)\n",
    "- **(Approximate) Penalized GLMs** with a variety of:\n",
    "    - **Algorithms**: `SGD`, `ADAGRAD`, `ADAM`,...\n",
    "    - **Losses**: `L2DistLoss`, `L1HingeLoss`,...\n",
    "    - **Penalties**: `ElasticNetPenalty`, ..."
   ]
  },
  {
   "cell_type": "markdown",
   "metadata": {
    "slideshow": {
     "slide_type": "slide"
    }
   },
   "source": [
    "# OnlineStats Features\n",
    "\n",
    "- Different weighting schemes to handle parameter drift\n",
    "\n",
    "<center>\n",
    "![](https://user-images.githubusercontent.com/8075494/27964296-c249baec-6305-11e7-89d0-9875d3bdab3e.gif)\n",
    "</center>"
   ]
  },
  {
   "cell_type": "markdown",
   "metadata": {
    "slideshow": {
     "slide_type": "slide"
    }
   },
   "source": [
    "# OnlineStats Features\n",
    "\n",
    "- Calculations can be done in parallel\n",
    "\n",
    "<center><img src=\"https://user-images.githubusercontent.com/8075494/32748459-519986e8-c88a-11e7-89b3-80dedf7f261b.png\" width=500></center>"
   ]
  },
  {
   "cell_type": "code",
   "execution_count": 37,
   "metadata": {
    "slideshow": {
     "slide_type": "slide"
    }
   },
   "outputs": [
    {
     "data": {
      "text/plain": [
       "Plots.PlotlyBackend()"
      ]
     },
     "execution_count": 37,
     "metadata": {},
     "output_type": "execute_result"
    }
   ],
   "source": [
    "using Plots, OnlineStats\n",
    "plotly()  # Use plotly backend"
   ]
  },
  {
   "cell_type": "markdown",
   "metadata": {
    "slideshow": {
     "slide_type": "slide"
    }
   },
   "source": [
    "# `reduce` Operations"
   ]
  },
  {
   "cell_type": "code",
   "execution_count": 38,
   "metadata": {},
   "outputs": [
    {
     "data": {
      "text/plain": [
       "12.711173323960018"
      ]
     },
     "execution_count": 38,
     "metadata": {},
     "output_type": "execute_result"
    }
   ],
   "source": [
    "reduce(+, db; select = :fare_amount) / length(db)"
   ]
  },
  {
   "cell_type": "code",
   "execution_count": 39,
   "metadata": {},
   "outputs": [
    {
     "name": "stdout",
     "output_type": "stream",
     "text": [
      "  0.315611 seconds (12.48 k allocations: 651.479 KiB)\n"
     ]
    },
    {
     "data": {
      "text/plain": [
       "▦ Series{0}  |  EqualWeight  |  nobs = 39219765\n",
       "└── Mean(12.7112)"
      ]
     },
     "execution_count": 39,
     "metadata": {},
     "output_type": "execute_result"
    }
   ],
   "source": [
    "@time reduce(Mean(), db; select = :fare_amount)"
   ]
  },
  {
   "cell_type": "code",
   "execution_count": 40,
   "metadata": {
    "slideshow": {
     "slide_type": "slide"
    }
   },
   "outputs": [
    {
     "name": "stdout",
     "output_type": "stream",
     "text": [
      "  0.768730 seconds (15.59 k allocations: 833.419 KiB)\n"
     ]
    },
    {
     "data": {
      "text/html": [
       "<script src=\"file:///Users/joshday/.julia/v0.6/Plots/src/backends/../../deps/plotly-latest.min.js\"></script>    <div id=\"8e7179e2-fdd1-430e-9702-348f0dc2e390\" style=\"width:600px;height:400px;\"></div>\n",
       "    <script>\n",
       "    PLOT = document.getElementById('8e7179e2-fdd1-430e-9702-348f0dc2e390');\n",
       "    Plotly.plot(PLOT, [{\"showlegend\":true,\"marker\":{\"color\":\"rgba(0, 154, 250, 1.000)\"},\"xaxis\":\"x\",\"colorbar\":{\"title\":\"\"},\"y\":[1437,205843,28,18,1463419,419333,477272,27,293967,7184844],\"type\":\"bar\",\"name\":\"y1\",\"yaxis\":\"y\",\"orientation\":\"v\",\"x\":[0,4,7,9,2,3,5,8,6,1]}], {\"showlegend\":true,\"xaxis\":{\"showticklabels\":true,\"gridwidth\":0.5,\"tickvals\":[0.0,2.0,4.0,6.0,8.0],\"visible\":true,\"ticks\":\"inside\",\"range\":[-0.4,9.4],\"domain\":[0.11026538349372993,0.9934383202099738],\"tickmode\":\"array\",\"linecolor\":\"rgba(0, 0, 0, 1.000)\",\"showgrid\":true,\"title\":\"Number of Passengers\",\"mirror\":false,\"tickangle\":0,\"showline\":true,\"gridcolor\":\"rgba(0, 0, 0, 0.100)\",\"titlefont\":{\"color\":\"rgba(0, 0, 0, 1.000)\",\"family\":\"sans-serif\",\"size\":15},\"tickcolor\":\"rgb(0, 0, 0)\",\"ticktext\":[\"0\",\"2\",\"4\",\"6\",\"8\"],\"zeroline\":false,\"type\":\"-\",\"tickfont\":{\"color\":\"rgba(0, 0, 0, 1.000)\",\"family\":\"sans-serif\",\"size\":11},\"zerolinecolor\":\"rgba(0, 0, 0, 1.000)\",\"anchor\":\"y\"},\"paper_bgcolor\":\"rgba(255, 255, 255, 1.000)\",\"annotations\":[],\"height\":400,\"margin\":{\"l\":0,\"b\":20,\"r\":0,\"t\":20},\"plot_bgcolor\":\"rgba(255, 255, 255, 1.000)\",\"yaxis\":{\"showticklabels\":true,\"gridwidth\":0.5,\"tickvals\":[0.0,2.0e6,4.0e6,6.0e6],\"visible\":true,\"ticks\":\"inside\",\"range\":[0.0,7.184844e6],\"domain\":[0.07581474190726165,0.9901574803149606],\"tickmode\":\"array\",\"linecolor\":\"rgba(0, 0, 0, 1.000)\",\"showgrid\":true,\"title\":\"\",\"mirror\":false,\"tickangle\":0,\"showline\":true,\"gridcolor\":\"rgba(0, 0, 0, 0.100)\",\"titlefont\":{\"color\":\"rgba(0, 0, 0, 1.000)\",\"family\":\"sans-serif\",\"size\":15},\"tickcolor\":\"rgb(0, 0, 0)\",\"ticktext\":[\"0\",\"2000000\",\"4000000\",\"6000000\"],\"zeroline\":false,\"type\":\"-\",\"tickfont\":{\"color\":\"rgba(0, 0, 0, 1.000)\",\"family\":\"sans-serif\",\"size\":11},\"zerolinecolor\":\"rgba(0, 0, 0, 1.000)\",\"anchor\":\"x\"},\"legend\":{\"bordercolor\":\"rgba(0, 0, 0, 1.000)\",\"bgcolor\":\"rgba(255, 255, 255, 1.000)\",\"font\":{\"color\":\"rgba(0, 0, 0, 1.000)\",\"family\":\"sans-serif\",\"size\":11},\"y\":1.0,\"x\":1.0},\"width\":600});\n",
       "    </script>\n"
      ]
     },
     "execution_count": 40,
     "metadata": {},
     "output_type": "execute_result"
    }
   ],
   "source": [
    "@time s = reduce(FitCategorical(Int64), db; select = :passenger_count)\n",
    "plot(s, xlab = \"Number of Passengers\")"
   ]
  },
  {
   "cell_type": "code",
   "execution_count": null,
   "metadata": {
    "scrolled": false,
    "slideshow": {
     "slide_type": "slide"
    }
   },
   "outputs": [],
   "source": [
    "@time s = reduce(2 * OHistogram(0:.5:60), db; \n",
    "    select = (:fare_amount, :tip_amount))\n",
    "plot(s, label = [:Fare :Tip], xlab = :Amount, title = \"Fare and Tips\")"
   ]
  },
  {
   "cell_type": "markdown",
   "metadata": {
    "slideshow": {
     "slide_type": "slide"
    }
   },
   "source": [
    "# Benchmarks\n",
    "\n",
    "\n",
    "bit.ly/juliadb-pydata-benchmarks"
   ]
  },
  {
   "cell_type": "code",
   "execution_count": null,
   "metadata": {
    "slideshow": {
     "slide_type": "skip"
    }
   },
   "outputs": [],
   "source": [
    "benchtype = vcat(fill(\"loadtable\", 2), fill(\"groupby\", 5), fill(\"join\", 6))\n",
    "bench = [\"Read CSV (DateTime)\", \n",
    "    \"Read CSV (String)\", \n",
    "    \"mean(VendorID)\", \n",
    "    \"count(dayofweek, passenger_count)\",\n",
    "    \"count(UDF, passenger_count)\", \n",
    "    \"count(dayofweek, passenger_count, floor)\", \n",
    "    \"count(passenger_count, dayofweek)\", \n",
    "    \"Inner Join (String)\", \"Inner Join (Number)\", \"Outer Join (String)\", \"Outer Join (Number)\",\n",
    "    \"Left Join (String)\",\"Left Join (Number)\"]\n",
    "jdb = [16.8086,18.0826,11.797,47.192, 51.797,190.741, 5.207,41.59,12.40,44.43,15.06,42.88,13.34]\n",
    "pan = [32.8733,29.6489,16.487,83.629,280.981,115.429,51.726,16.48,19.28,24.92,37.32,16.87,19.57]\n",
    "\n",
    "tb = table(benchtype, bench, jdb, pan; names = [:benchgroup, :benchmark, :JuliaDB, :Pandas])"
   ]
  },
  {
   "cell_type": "code",
   "execution_count": null,
   "metadata": {
    "slideshow": {
     "slide_type": "skip"
    }
   },
   "outputs": [],
   "source": [
    "ratio = JuliaDB.select(tb, (:JuliaDB, :Pandas) => t -> t[1] / t[2])\n",
    "plt = scatter(JuliaDB.select(tb, :benchgroup), ratio, group=JuliaDB.select(tb, :benchmark),\n",
    "    title = \"JuliaDB vs. Pandas Benchmarks\", size=(1000, 400), ylab = \"Time Relative to Pandas\");"
   ]
  },
  {
   "cell_type": "code",
   "execution_count": null,
   "metadata": {
    "slideshow": {
     "slide_type": "slide"
    }
   },
   "outputs": [],
   "source": [
    "plt"
   ]
  },
  {
   "cell_type": "markdown",
   "metadata": {
    "slideshow": {
     "slide_type": "slide"
    }
   },
   "source": [
    "# `loadtable` benchmarks\n",
    "\n",
    "- NY Taxi file: yellow_trips_2016-01.csv -- 10.9 million rows, 19 columns\n",
    "<br>\n",
    "<table>\n",
    "    <tr>\n",
    "        <td style=\"width: 200px\"><strong style=\"font-size:20px;\">Benchmark</strong></td> \n",
    "        <td style=\"width: 200px\"><strong style=\"font-size:20px;\">JuliaDB</strong></td>\n",
    "        <td style=\"width: 200px\"><strong style=\"font-size:20px;\">Pandas</strong></td>\n",
    "    </tr>\n",
    "    <tr>\n",
    "        <td style=\"width: 300px\"><strong style=\"font-size:20px;\">Read CSV (DateTime)</strong></td>\n",
    "        <td style=\"font-size:20px;\">16.8086 s</td>\n",
    "        <td style=\"font-size:20px;\">32.8733 s</td>\n",
    "    </tr>\n",
    "    <tr>\n",
    "        <td style=\"width: 300px\"><strong style=\"font-size:20px;\">Read CSV (String)</strong></td>\n",
    "        <td style=\"font-size:20px;\">18.0826 s</td>\n",
    "        <td style=\"font-size:20px;\">29.6489 s</td>\n",
    "    </tr>\n",
    "</table>"
   ]
  },
  {
   "cell_type": "markdown",
   "metadata": {
    "slideshow": {
     "slide_type": "slide"
    }
   },
   "source": [
    "# `groupby` Benchmarks\n",
    "\n",
    "1.6 million rows of taxi data\n",
    "\n",
    "<br>\n",
    "<table>\n",
    "    <tr>\n",
    "        <td style=\"width: 200px\"><strong style=\"font-size:20px;\">Benchmark</strong></td> \n",
    "        <td style=\"width: 200px\"><strong style=\"font-size:20px;\">JuliaDB</strong></td>\n",
    "        <td style=\"width: 200px\"><strong style=\"font-size:20px;\">Pandas</strong></td>\n",
    "    </tr>\n",
    "    <tr>\n",
    "        <td style=\"width: 300px\"><strong style=\"font-size:20px;\">mean(VendorID)</strong></td>\n",
    "        <td style=\"font-size:20px;\">11.797 ms</td>\n",
    "        <td style=\"font-size:20px;\">16.487 ms</td>\n",
    "    </tr>\n",
    "    <tr>\n",
    "        <td style=\"width: 300px\"><strong style=\"font-size:20px;\">count(dayofweek, passenger_count)</strong></td>\n",
    "        <td style=\"font-size:20px;\">47.192 ms</td>\n",
    "        <td style=\"font-size:20px;\">83.629 ms</td>\n",
    "    </tr>\n",
    "    <tr>\n",
    "        <td style=\"width: 300px\"><strong style=\"font-size:20px;\">count(UDF, passenger_count)</strong></td>\n",
    "        <td style=\"font-size:20px;\">51.797 ms</td>\n",
    "        <td style=\"font-size:20px;\">280.981 ms</td>\n",
    "    </tr>\n",
    "    <tr>\n",
    "        <td style=\"width: 300px\"><strong style=\"font-size:20px;\">count(dayofweek, passenger_count, floor)</strong></td>\n",
    "        <td style=\"font-size:20px;\">190.741 ms</td>\n",
    "        <td style=\"font-size:20px;\">115.429 ms</td>\n",
    "    </tr>\n",
    "    <tr>\n",
    "        <td style=\"width: 300px\"><strong style=\"font-size:20px;\">count(dayofweek, passenger_count, floor(Int))</strong></td>\n",
    "        <td style=\"font-size:20px;\">95.103 ms</td>\n",
    "        <td style=\"font-size:20px;\">NA</td>\n",
    "    </tr>\n",
    "    <tr>\n",
    "        <td style=\"width: 300px\"><strong style=\"font-size:20px;\">count(passenger_count, dayofweek)</strong></td>\n",
    "        <td style=\"font-size:20px;\">5.207 ms</td>\n",
    "        <td style=\"font-size:20px;\">51.726 ms</td>\n",
    "    </tr>\n",
    "</table>"
   ]
  },
  {
   "cell_type": "markdown",
   "metadata": {
    "slideshow": {
     "slide_type": "slide"
    }
   },
   "source": [
    "# Join Benchmarks\n",
    "\n",
    "**left:** 80k keys with 8k with uniques\n",
    "\n",
    "**right:** 8k keys where 6k are present in left\n",
    "\n",
    "**Key types:** 2 string fields, 2 floating point fields\n",
    "\n",
    "<br>\n",
    "<table>\n",
    "    <tr>\n",
    "        <td style=\"width: 200px\"><strong style=\"font-size:20px;\">Benchmark</strong></td> \n",
    "        <td style=\"width: 200px\"><strong style=\"font-size:20px;\">JuliaDB (String)</strong></td>\n",
    "        <td style=\"width: 200px\"><strong style=\"font-size:20px;\">Pandas (String)</strong></td>\n",
    "        <td style=\"width: 200px\"><strong style=\"font-size:20px;\">JuliaDB (Number)</strong></td>\n",
    "        <td style=\"width: 200px\"><strong style=\"font-size:20px;\">Pandas (Number)</strong></td>\n",
    "    </tr>\n",
    "    <tr>\n",
    "        <td style=\"width: 300px\"><strong style=\"font-size:20px;\">Inner Join</strong></td>\n",
    "        <td style=\"font-size:20px;\">41.59 ms</td>\n",
    "        <td style=\"font-size:20px;\">16.48 ms</td>\n",
    "        <td style=\"font-size:20px;\">12.40 ms</td>\n",
    "        <td style=\"font-size:20px;\">19.28 ms</td>\n",
    "    </tr>\n",
    "    <tr>\n",
    "        <td style=\"width: 300px\"><strong style=\"font-size:20px;\">Outer Join</strong></td>\n",
    "        <td style=\"font-size:20px;\">44.43 ms</td>\n",
    "        <td style=\"font-size:20px;\">24.92 ms</td>\n",
    "        <td style=\"font-size:20px;\">15.06 ms</td>\n",
    "        <td style=\"font-size:20px;\">37.32 ms</td>\n",
    "    </tr>\n",
    "    <tr>\n",
    "        <td style=\"width: 300px\"><strong style=\"font-size:20px;\">Left Join</strong></td>\n",
    "        <td style=\"font-size:20px;\">42.88 ms</td>\n",
    "        <td style=\"font-size:20px;\">16.87 ms</td>\n",
    "        <td style=\"font-size:20px;\">13.34 ms</td>\n",
    "        <td style=\"font-size:20px;\">19.57 ms</td>\n",
    "    </tr>\n",
    "</table>"
   ]
  },
  {
   "cell_type": "markdown",
   "metadata": {
    "slideshow": {
     "slide_type": "slide"
    }
   },
   "source": [
    "# API Overview\n",
    "\n",
    "## Data structures\n",
    "\n",
    "- **Table** -- a collection of rows, ordered by some fields\n",
    "  - Good for analytics workloads\n",
    "- **NDSparse** -- N-Dimensional sparse array\n",
    "  - Good for scientific computing workloads"
   ]
  },
  {
   "cell_type": "markdown",
   "metadata": {
    "slideshow": {
     "slide_type": "slide"
    }
   },
   "source": [
    "# API Overview\n",
    "\n",
    "```\n",
    "reindex, select, map, filter, dropna, columns, rows\n",
    "\n",
    "setcol, pushcol, popcol, insertcol, insertcolafter, insertcolbefore, renamecol\n",
    "\n",
    "reduce, groupreduce, groupby, flatten\n",
    "\n",
    "join, groupjoin, asofjoin, merge\n",
    "\n",
    "save, load\n",
    "```"
   ]
  },
  {
   "cell_type": "markdown",
   "metadata": {
    "slideshow": {
     "slide_type": "slide"
    }
   },
   "source": [
    "## Table specific\n",
    "\n",
    "`loadtable`\n",
    "\n",
    "## NDSparse specific\n",
    "\n",
    "`loadndsparse, keys, values, selectkeys, selectvalues, reducedim, broadcast`"
   ]
  },
  {
   "cell_type": "markdown",
   "metadata": {
    "slideshow": {
     "slide_type": "slide"
    }
   },
   "source": [
    "# Selection\n"
   ]
  },
  {
   "cell_type": "code",
   "execution_count": null,
   "metadata": {
    "slideshow": {
     "slide_type": "skip"
    }
   },
   "outputs": [],
   "source": [
    "using Interact, JuliaDB\n",
    "tbl = table([0.01,0.05,0.07], [1,2,3], [6,5,4], names=[:t, :x, :y])\n",
    "\n",
    "selectors = split(\"\"\"\n",
    "    :x\n",
    "    (:x, :y)\n",
    "    :x => -\n",
    "    (:x, :y) => p -> hypot(p.x, p.y)\n",
    "    [1,2,3]\n",
    "    (:x, :z => [7,8,9])\n",
    "    (:t, :r => (:x, :y) => p -> hypot(p.x, p.y))\"\"\", \"\\n\")\n",
    "\n",
    "\n",
    "opts = Interact.selection(selectors)\n",
    "\n",
    "result = map(signal(opts)) do sel\n",
    "    code = \"JuliaDB.select(tbl, $sel)\"\n",
    "    HTML(\"<pre>\n",
    "        <strong>\n",
    "        select(tbl, <span style='color:green'>$sel</span>)</strong>\\n\\n\" * repr(\n",
    "        eval(parse(\"JuliaDB.$code\"))) * \"</pre>\"\n",
    "    )\n",
    "    end;"
   ]
  },
  {
   "cell_type": "code",
   "execution_count": null,
   "metadata": {
    "slideshow": {
     "slide_type": "-"
    }
   },
   "outputs": [],
   "source": [
    "display(tbl)\n",
    "display(opts)\n",
    "display(result)"
   ]
  },
  {
   "cell_type": "markdown",
   "metadata": {
    "slideshow": {
     "slide_type": "slide"
    }
   },
   "source": [
    "# Selection\n",
    "\n",
    "Wildly useful.\n",
    "\n",
    "<code>select(t, <span style=\"color: green\">which</span>)\n",
    "map(f, t; <span style=\"color: green\">select</span>)\n",
    "reduce(f, t; <span style=\"color: green\">select</span>)\n",
    "filter(f, t; <span style=\"color: green\">select</span>)\n",
    "groupby(f, t, <span style=\"color: green\">by</span>; <span style=\"color: green\">select</span>)\n",
    "groupreduce(f, t, <span style=\"color: green\">by</span>; <span style=\"color: green\">select</span>)\n",
    "join(f, l, r; how, <span style=\"color: green\">lkey</span>, <span style=\"color: green\">rkey</span>, <span style=\"color: green\">lselect</span>, <span style=\"color: green\">rselect</span>)\n",
    "groupjoin(f, l, r;how,  <span style=\"color: green\">lkey</span>, <span style=\"color: green\">rkey</span>, <span style=\"color: green\">lselect</span>, <span style=\"color: green\">rselect</span>)\n",
    "</code>\n",
    "\n",
    "\n",
    "(Green arguments are selectors)"
   ]
  },
  {
   "cell_type": "markdown",
   "metadata": {
    "slideshow": {
     "slide_type": "slide"
    }
   },
   "source": [
    "# NDSparse\n",
    "\n",
    "Key-value store that behaves like an n-dimensional array"
   ]
  },
  {
   "cell_type": "code",
   "execution_count": null,
   "metadata": {
    "slideshow": {
     "slide_type": "fragment"
    }
   },
   "outputs": [],
   "source": [
    "path = \"/Users/joshday/datasets/pydatanyc/truefx\"\n",
    "X = loadndsparse(path,\n",
    "        indexcols=[1,2],\n",
    "        header_exists=false,\n",
    "        distributed=false,\n",
    "        colnames=[\"pair\", \"time\", \"bid\", \"ask\"])"
   ]
  },
  {
   "cell_type": "markdown",
   "metadata": {
    "slideshow": {
     "slide_type": "slide"
    }
   },
   "source": [
    "# Indexing by arbitrary keys"
   ]
  },
  {
   "cell_type": "code",
   "execution_count": null,
   "metadata": {},
   "outputs": [],
   "source": [
    "keytype(X)"
   ]
  },
  {
   "cell_type": "code",
   "execution_count": null,
   "metadata": {},
   "outputs": [],
   "source": [
    "eltype(X)"
   ]
  },
  {
   "cell_type": "code",
   "execution_count": null,
   "metadata": {},
   "outputs": [],
   "source": [
    "X[\"AUD/JPY\", DateTime(\"2016-12-30T00:00:00.032\")]"
   ]
  },
  {
   "cell_type": "code",
   "execution_count": null,
   "metadata": {
    "slideshow": {
     "slide_type": "skip"
    }
   },
   "outputs": [],
   "source": [
    "using IntervalSets"
   ]
  },
  {
   "cell_type": "code",
   "execution_count": null,
   "metadata": {
    "slideshow": {
     "slide_type": "fragment"
    }
   },
   "outputs": [],
   "source": [
    "t = table(X)\n",
    "eltype(t)"
   ]
  },
  {
   "cell_type": "code",
   "execution_count": null,
   "metadata": {},
   "outputs": [],
   "source": [
    "t[1]"
   ]
  },
  {
   "cell_type": "markdown",
   "metadata": {
    "slideshow": {
     "slide_type": "slide"
    }
   },
   "source": [
    "# Indexing by arbitrary keys"
   ]
  },
  {
   "cell_type": "code",
   "execution_count": null,
   "metadata": {},
   "outputs": [],
   "source": [
    "X[:, Date(\"2016-12-30\")..Date(\"2016-12-31\")]"
   ]
  },
  {
   "cell_type": "markdown",
   "metadata": {
    "slideshow": {
     "slide_type": "slide"
    }
   },
   "source": [
    "# Indexing by arbitrary keys"
   ]
  },
  {
   "cell_type": "code",
   "execution_count": null,
   "metadata": {
    "slideshow": {
     "slide_type": "-"
    }
   },
   "outputs": [],
   "source": [
    "X[[\"AUD/USD\", \"CAD/JPY\"], Date(\"2016-12-30\")..Date(\"2016-12-31\")]"
   ]
  },
  {
   "cell_type": "markdown",
   "metadata": {
    "slideshow": {
     "slide_type": "slide"
    }
   },
   "source": [
    "# Indexing by arbitrary keys"
   ]
  },
  {
   "cell_type": "code",
   "execution_count": null,
   "metadata": {},
   "outputs": [],
   "source": [
    "bids = selectvalues(X, :bid)"
   ]
  },
  {
   "cell_type": "markdown",
   "metadata": {
    "slideshow": {
     "slide_type": "slide"
    }
   },
   "source": [
    "# Behaves like N-Dimensional Array"
   ]
  },
  {
   "cell_type": "code",
   "execution_count": null,
   "metadata": {},
   "outputs": [],
   "source": [
    "eltype(bids)"
   ]
  },
  {
   "cell_type": "code",
   "execution_count": null,
   "metadata": {},
   "outputs": [],
   "source": [
    "reducedim(+, bids, 2)"
   ]
  },
  {
   "cell_type": "markdown",
   "metadata": {
    "slideshow": {
     "slide_type": "slide"
    }
   },
   "source": [
    "# Behaves like N-Dimensional Array"
   ]
  },
  {
   "cell_type": "code",
   "execution_count": null,
   "metadata": {},
   "outputs": [],
   "source": [
    "# Aggregate maximum bid for every hour\n",
    "\n",
    "hourlybids = convertdim(bids, :time, x->trunc(x, Dates.Hour),\n",
    "                        agg=max)"
   ]
  },
  {
   "cell_type": "markdown",
   "metadata": {
    "slideshow": {
     "slide_type": "slide"
    }
   },
   "source": [
    "# Behaves like N-Dimensional Array"
   ]
  },
  {
   "cell_type": "code",
   "execution_count": null,
   "metadata": {},
   "outputs": [],
   "source": [
    "audjpy = hourlybids[\"AUD/JPY\", :]\n",
    "audjpy = selectkeys(audjpy, (:time,)) # squeeze"
   ]
  },
  {
   "cell_type": "markdown",
   "metadata": {
    "slideshow": {
     "slide_type": "slide"
    }
   },
   "source": [
    "# Behaves like N-Dimensional Array"
   ]
  },
  {
   "cell_type": "code",
   "execution_count": null,
   "metadata": {},
   "outputs": [],
   "source": [
    "hourlybids ./ audjpy"
   ]
  },
  {
   "cell_type": "markdown",
   "metadata": {
    "slideshow": {
     "slide_type": "slide"
    }
   },
   "source": [
    "# Behaves like N-Dimensional Array"
   ]
  },
  {
   "cell_type": "code",
   "execution_count": null,
   "metadata": {},
   "outputs": [],
   "source": [
    "broadcast(hypot, hourlybids, audjpy)"
   ]
  },
  {
   "cell_type": "markdown",
   "metadata": {
    "slideshow": {
     "slide_type": "slide"
    }
   },
   "source": [
    "# NDSparse -- summary\n",
    "\n",
    "- indexing by arbitrary keys or intervals of values\n",
    "- iterates by values\n",
    "- behaves like multi-dimensional arrays\n",
    "- supports array syntax like broadcast, reducedim, map, reduce\n",
    "- great for any \"Series\" -- esp. time series"
   ]
  },
  {
   "cell_type": "markdown",
   "metadata": {
    "slideshow": {
     "slide_type": "slide"
    }
   },
   "source": [
    "## Onward!\n",
    "\n",
    "- Feature extraction for machine-learning\n",
    "- More comprehensive out-of-core support\n",
    "- Dense ND data store (e.g. satellite imagery: X, Y, Z, T -> R, G, B)\n",
    "- Streaming updates"
   ]
  },
  {
   "cell_type": "markdown",
   "metadata": {
    "slideshow": {
     "slide_type": "slide"
    }
   },
   "source": [
    "# Thank You\n",
    "\n",
    "<center><img src = \"https://juliacomputing.com/assets/img/new/JuliaDB_logo2.svg\" width=400>\n",
    "\n",
    "</center>\n",
    "<br>\n",
    "<table>\n",
    "    <tr>\n",
    "        <td style=\"width: 200px\"><strong style=\"font-size:20px;\">jeff@juliacomputing.com<br>shashi@juliacomputing.com<br>josh@juliacomputing.com</strong></td>\n",
    "        <td><img src = \"https://juliacomputing.com/assets/img/new/julia-computing.svg\" width=400></td>\n",
    "    </tr>\n",
    "</table>\n",
    "\n",
    "- https://github.com/JuliaComputing/JuliaDB.jl\n",
    "- https://juliacomputing.com"
   ]
  },
  {
   "cell_type": "code",
   "execution_count": null,
   "metadata": {},
   "outputs": [],
   "source": []
  }
 ],
 "metadata": {
  "celltoolbar": "Slideshow",
  "kernelspec": {
   "display_name": "Julia 0.6.1-pre",
   "language": "julia",
   "name": "julia-0.6"
  },
  "language_info": {
   "file_extension": ".jl",
   "mimetype": "application/julia",
   "name": "julia",
   "version": "0.6.2"
  }
 },
 "nbformat": 4,
 "nbformat_minor": 2
}
