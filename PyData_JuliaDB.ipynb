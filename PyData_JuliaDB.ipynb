{
 "cells": [
  {
   "cell_type": "markdown",
   "metadata": {
    "slideshow": {
     "slide_type": "slide"
    }
   },
   "source": [
    "<center><img src = \"https://juliacomputing.com/assets/img/new/JuliaDB_logo2.svg\" width=400>\n",
    "\n",
    "# A data system for Julia\n",
    "</center>\n",
    "<br>\n",
    "<table>\n",
    "    <tr>\n",
    "        <td style=\"width: 200px\"><strong style=\"font-size:20px;\">Jeff Bezanson<br>Shashi Gowda<br>Josh Day</strong></td>\n",
    "        <td><img src = \"https://juliacomputing.com/assets/img/new/julia-computing.svg\" width=400></td>\n",
    "    </tr>\n",
    "</table>\n"
   ]
  },
  {
   "cell_type": "markdown",
   "metadata": {
    "slideshow": {
     "slide_type": "slide"
    }
   },
   "source": [
    "# Overview\n",
    "\n",
    "- Why Julia\n",
    "- Why JuliaDB\n",
    "- Analytics with JuliaDB\n",
    "- Benchmarks\n",
    "- API Overview"
   ]
  },
  {
   "cell_type": "markdown",
   "metadata": {
    "slideshow": {
     "slide_type": "slide"
    }
   },
   "source": [
    "## Why Do We Need Another Language?\n",
    "\n",
    "https://julialang.org/blog/2012/02/why-we-created-julia"
   ]
  },
  {
   "cell_type": "markdown",
   "metadata": {
    "slideshow": {
     "slide_type": "slide"
    }
   },
   "source": [
    "# The Two Language Problem\n",
    "\n",
    "- **Prototype** code goes into a high-level language\n",
    "- **Production** code goes into a low-level language"
   ]
  },
  {
   "cell_type": "markdown",
   "metadata": {
    "slideshow": {
     "slide_type": "slide"
    }
   },
   "source": [
    "<center><img src=\"https://upload.wikimedia.org/wikipedia/commons/thumb/6/69/Julia_prog_language.svg/1280px-Julia_prog_language.svg.png\" width=200></center>\n",
    "\n",
    "# The dream:"
   ]
  },
  {
   "cell_type": "markdown",
   "metadata": {
    "slideshow": {
     "slide_type": "fragment"
    }
   },
   "source": [
    "- Be (at least) as nice as Python/R/Matlab"
   ]
  },
  {
   "cell_type": "markdown",
   "metadata": {
    "slideshow": {
     "slide_type": "fragment"
    }
   },
   "source": [
    "- Be as fast as C/Fortran"
   ]
  },
  {
   "cell_type": "markdown",
   "metadata": {
    "slideshow": {
     "slide_type": "fragment"
    }
   },
   "source": [
    "*Julia is fast because of features which work well together, and it is more than \"Fast Python/R/Matlab\"*"
   ]
  },
  {
   "cell_type": "markdown",
   "metadata": {
    "slideshow": {
     "slide_type": "slide"
    }
   },
   "source": [
    "# Julia Features\n",
    "\n",
    "- **JIT Compiler**: User code runs fast\n",
    "- **Multiple Dispatch**:  Code specialized to argument types\n",
    "- **Type System**: Express yourself\n",
    "- **Metaprogramming**: Transform and generate code\n",
    "- **Parallelism**: Built-in\n",
    "- **Interop** (Call C directly, RCall.jl, PyCall.jl), **Unicode Support**, **MIT Licensed**, ..."
   ]
  },
  {
   "cell_type": "markdown",
   "metadata": {
    "slideshow": {
     "slide_type": "slide"
    }
   },
   "source": [
    "# Introducing JuliaDB"
   ]
  },
  {
   "cell_type": "markdown",
   "metadata": {
    "slideshow": {
     "slide_type": "skip"
    }
   },
   "source": [
    "# Julia \"Developers\"\n",
    "\n",
    "![](https://pkg.julialang.org/img/allver.svg)"
   ]
  },
  {
   "cell_type": "markdown",
   "metadata": {
    "slideshow": {
     "slide_type": "skip"
    }
   },
   "source": [
    "# Julia \"Users\"\n",
    "\n",
    "![](https://pkg.julialang.org/img/stars.svg)"
   ]
  },
  {
   "cell_type": "markdown",
   "metadata": {
    "slideshow": {
     "slide_type": "slide"
    }
   },
   "source": [
    "# Why JuliaDB?\n",
    "\n",
    "We shouldn't need to glue together tools to get performance\n",
    "\n",
    "<img src=\"https://media.giphy.com/media/xT0xelg3s22Ni7gYO4/giphy.gif\" width=400>"
   ]
  },
  {
   "cell_type": "markdown",
   "metadata": {
    "slideshow": {
     "slide_type": "slide"
    }
   },
   "source": [
    "<table>\n",
    "    <tr>\n",
    "        <td width=\"100\"><h1>pandas</h1></td>\n",
    "        <td><img src = \"images/pandas.png\"></td>\n",
    "    </tr>\n",
    "</table>"
   ]
  },
  {
   "cell_type": "markdown",
   "metadata": {
    "slideshow": {
     "slide_type": "fragment"
    }
   },
   "source": [
    "<table>\n",
    "    <tr>\n",
    "        <td width=\"100\"><h1>dplyr</h1></td>\n",
    "        <td><img src = \"images/dplyr.png\"></td>\n",
    "    </tr>\n",
    "</table>"
   ]
  },
  {
   "cell_type": "markdown",
   "metadata": {
    "slideshow": {
     "slide_type": "fragment"
    }
   },
   "source": [
    "<table>\n",
    "    <tr>\n",
    "        <td width=\"100\"><h1>data.table</h1></td>\n",
    "        <td><img src = \"images/datatable.png\"></td>\n",
    "    </tr>\n",
    "</table>"
   ]
  },
  {
   "cell_type": "markdown",
   "metadata": {
    "slideshow": {
     "slide_type": "fragment"
    }
   },
   "source": [
    "<table>\n",
    "    <tr>\n",
    "        <td width=\"100\"><h1>JuliaDB</h1></td>\n",
    "        <td><img src = \"images/juliadb.png\"></td>\n",
    "    </tr>\n",
    "</table>"
   ]
  },
  {
   "cell_type": "markdown",
   "metadata": {
    "slideshow": {
     "slide_type": "slide"
    }
   },
   "source": [
    "# JuliaDB Goals\n",
    "\n",
    "**JuliaDB brings the promise of Julia to Data Science**\n",
    "\n",
    "- Efficiently work with multi-file persistent datasets\n",
    "- Queries/user-defined functions are fast\n",
    "- Perform the heavy lifting of distributed computing\n",
    "- Batteries are included (tools for analytics)"
   ]
  },
  {
   "cell_type": "markdown",
   "metadata": {
    "slideshow": {
     "slide_type": "slide"
    }
   },
   "source": [
    "# Example: NYC Taxi Data\n",
    "\n",
    "![](http://www.nyc.gov/html/tlc/includes/site_images/branding/banner.gif)\n",
    "\n",
    "- First 4 months of yellow cab data for 2017 (3.2 GB)\n",
    "- One file per month"
   ]
  },
  {
   "cell_type": "code",
   "execution_count": 63,
   "metadata": {
    "slideshow": {
     "slide_type": "-"
    }
   },
   "outputs": [
    {
     "name": "stdout",
     "output_type": "stream",
     "text": [
      "yellow_tripdata_2017-01.csv\n",
      "yellow_tripdata_2017-02.csv\n",
      "yellow_tripdata_2017-03.csv\n",
      "yellow_tripdata_2017-04.csv\n"
     ]
    }
   ],
   "source": [
    ";ls /Users/joshday/datasets/taxi"
   ]
  },
  {
   "cell_type": "code",
   "execution_count": 64,
   "metadata": {
    "slideshow": {
     "slide_type": "skip"
    }
   },
   "outputs": [
    {
     "name": "stdout",
     "output_type": "stream",
     "text": [
      "4.0K\t/Users/joshday/datasets/taxi/.juliadb\n",
      "3.2G\t/Users/joshday/datasets/taxi\n"
     ]
    }
   ],
   "source": [
    ";du -h /Users/joshday/datasets/taxi"
   ]
  },
  {
   "cell_type": "code",
   "execution_count": 65,
   "metadata": {
    "slideshow": {
     "slide_type": "slide"
    }
   },
   "outputs": [
    {
     "name": "stdout",
     "output_type": "stream",
     "text": [
      "VendorID,tpep_pickup_datetime,tpep_dropoff_datetime,passenger_count,trip_distance,RatecodeID,store_and_fwd_flag,PULocationID,DOLocationID,payment_type,fare_amount,extra,mta_tax,tip_amount,tolls_amount,improvement_surcharge,total_amount\n",
      "\r\n",
      "1,2017-01-09 11:13:28,2017-01-09 11:25:45,1,3.30,1,N,263,161,1,12.5,0,0.5,2,0,0.3,15.3\r\n",
      "1,2017-01-09 11:32:27,2017-01-09 11:36:01,1,.90,1,N,186,234,1,5,0,0.5,1.45,0,0.3,7.25\r\n",
      "1,2017-01-09 11:38:20,2017-01-09 11:42:05,1,1.10,1,N,164,161,1,5.5,0,0.5,1,0,0.3,7.3\r\n",
      "1,2017-01-09 11:52:13,2017-01-09 11:57:36,1,1.10,1,N,236,75,1,6,0,0.5,1.7,0,0.3,8.5\r\n",
      "2,2017-01-01 00:00:00,2017-01-01 00:00:00,1,.02,2,N,249,234,2,52,0,0.5,0,0,0.3,52.8\r\n",
      "1,2017-01-01 00:00:02,2017-01-01 00:03:50,1,.50,1,N,48,48,2,4,0.5,0.5,0,0,0.3,5.3\r\n",
      "2,2017-01-01 00:00:02,2017-01-01 00:39:22,4,7.75,1,N,186,36,1,22,0.5,0.5,4.66,0,0.3,27.96\r\n",
      "1,2017-01-01 00:00:03,2017-01-01 00:06:58,1,.80,1,N,162,161,1,6,0.5,0.5,1.45,0,0.3,8.75\r\n"
     ]
    }
   ],
   "source": [
    ";head /Users/joshday/datasets/taxi/yellow_tripdata_2017-01.csv"
   ]
  },
  {
   "cell_type": "code",
   "execution_count": 66,
   "metadata": {
    "slideshow": {
     "slide_type": "skip"
    }
   },
   "outputs": [
    {
     "name": "stdout",
     "output_type": "stream",
     "text": [
      "Metadata for 4 / 4 files can be loaded from cache.\n"
     ]
    },
    {
     "data": {
      "text/plain": [
       "Distributed Table with 39219765 rows in 4 chunks:\n",
       "Columns:\n",
       "\u001b[1m#   \u001b[22m\u001b[1mcolname                \u001b[22m\u001b[1mtype\u001b[22m\n",
       "───────────────────────────────────\n",
       "1   VendorID               Int64\n",
       "2   tpep_pickup_datetime   DateTime\n",
       "3   tpep_dropoff_datetime  DateTime\n",
       "4   passenger_count        Int64\n",
       "5   trip_distance          Float64\n",
       "6   RatecodeID             Int64\n",
       "7   store_and_fwd_flag     String\n",
       "8   PULocationID           Int64\n",
       "9   DOLocationID           Int64\n",
       "10  payment_type           Int64\n",
       "11  fare_amount            Float64\n",
       "12  extra                  Float64\n",
       "13  mta_tax                Float64\n",
       "14  tip_amount             Float64\n",
       "15  tolls_amount           Float64\n",
       "16  improvement_surcharge  Float64\n",
       "17  total_amount           Float64"
      ]
     },
     "execution_count": 66,
     "metadata": {},
     "output_type": "execute_result"
    }
   ],
   "source": [
    "if nprocs() == 1\n",
    "    @show addprocs(4)\n",
    "end\n",
    "using JuliaDB\n",
    "\n",
    "\n",
    "path = \"/Users/joshday/datasets/taxi\"\n",
    "db = loadtable(path; indexcols=[1, 2])\n",
    "save(db, \"mydata\")"
   ]
  },
  {
   "cell_type": "markdown",
   "metadata": {
    "slideshow": {
     "slide_type": "slide"
    }
   },
   "source": [
    "# Run This Once:\n",
    "\n",
    "```julia\n",
    "addprocs()\n",
    "using JuliaDB\n",
    "\n",
    "path = \"/Users/joshday/datasets/taxi\"\n",
    "\n",
    "db = loadtable(path; indexcols=[1, 2])\n",
    "\n",
    "save(db, \"mydata\")\n",
    "```"
   ]
  },
  {
   "cell_type": "markdown",
   "metadata": {
    "slideshow": {
     "slide_type": "slide"
    }
   },
   "source": [
    "### Future Julia Sessions  Quickly Reload Data"
   ]
  },
  {
   "cell_type": "code",
   "execution_count": 67,
   "metadata": {
    "slideshow": {
     "slide_type": "-"
    }
   },
   "outputs": [
    {
     "name": "stdout",
     "output_type": "stream",
     "text": [
      "  0.001078 seconds (1.64 k allocations: 82.172 KiB)\n"
     ]
    },
    {
     "data": {
      "text/plain": [
       "Distributed Table with 39219765 rows in 4 chunks:\n",
       "Columns:\n",
       "\u001b[1m#   \u001b[22m\u001b[1mcolname                \u001b[22m\u001b[1mtype\u001b[22m\n",
       "───────────────────────────────────\n",
       "1   VendorID               Int64\n",
       "2   tpep_pickup_datetime   DateTime\n",
       "3   tpep_dropoff_datetime  DateTime\n",
       "4   passenger_count        Int64\n",
       "5   trip_distance          Float64\n",
       "6   RatecodeID             Int64\n",
       "7   store_and_fwd_flag     String\n",
       "8   PULocationID           Int64\n",
       "9   DOLocationID           Int64\n",
       "10  payment_type           Int64\n",
       "11  fare_amount            Float64\n",
       "12  extra                  Float64\n",
       "13  mta_tax                Float64\n",
       "14  tip_amount             Float64\n",
       "15  tolls_amount           Float64\n",
       "16  improvement_surcharge  Float64\n",
       "17  total_amount           Float64"
      ]
     },
     "execution_count": 67,
     "metadata": {},
     "output_type": "execute_result"
    }
   ],
   "source": [
    "@time db = load(\"mydata\")"
   ]
  },
  {
   "cell_type": "markdown",
   "metadata": {
    "slideshow": {
     "slide_type": "slide"
    }
   },
   "source": [
    "# Analytics With OnlineStats\n",
    " \n",
    " http://joshday.github.io/OnlineStats.jl/latest/\n",
    " \n",
    "- Each statistic/model has its own type\n",
    "- Values are updated one observation at a time"
   ]
  },
  {
   "cell_type": "markdown",
   "metadata": {
    "slideshow": {
     "slide_type": "slide"
    }
   },
   "source": [
    "# OnlineStats (Batteries included)\n",
    "\n",
    "- **Summary Statistics** (`Mean`, `CovMatrix`, `Quantile`, etc.)\n",
    "- **Density Estimation** (`OHistogram`, `IHistogram`, `FitCategorical`)\n",
    "- **Regression** (`LinReg`, `LinRegBuilder`)\n",
    "- **(Approximate) Penalized GLMs** with a variety of:\n",
    "    - **Algorithms**: `SGD`, `ADAGRAD`, `ADAM`,...\n",
    "    - **Losses**: `L2DistLoss`, `L1HingeLoss`,...\n",
    "    - **Penalties**: `ElasticNetPenalty`, ..."
   ]
  },
  {
   "cell_type": "markdown",
   "metadata": {
    "slideshow": {
     "slide_type": "slide"
    }
   },
   "source": [
    "# OnlineStats Features\n",
    "\n",
    "- Different weighting schemes to handle parameter drift\n",
    "\n",
    "<center>\n",
    "![](https://user-images.githubusercontent.com/8075494/27964296-c249baec-6305-11e7-89d0-9875d3bdab3e.gif)\n",
    "</center>"
   ]
  },
  {
   "cell_type": "markdown",
   "metadata": {
    "slideshow": {
     "slide_type": "slide"
    }
   },
   "source": [
    "# OnlineStats Features\n",
    "\n",
    "- Calculations can be done in parallel\n",
    "\n",
    "<center><img src=\"https://user-images.githubusercontent.com/8075494/32748459-519986e8-c88a-11e7-89b3-80dedf7f261b.png\" width=500></center>"
   ]
  },
  {
   "cell_type": "code",
   "execution_count": 68,
   "metadata": {
    "slideshow": {
     "slide_type": "slide"
    }
   },
   "outputs": [
    {
     "data": {
      "text/plain": [
       "Plots.GRBackend()"
      ]
     },
     "execution_count": 68,
     "metadata": {},
     "output_type": "execute_result"
    }
   ],
   "source": [
    "using Plots, OnlineStats\n",
    "gr()  # Use plotly backend"
   ]
  },
  {
   "cell_type": "markdown",
   "metadata": {
    "slideshow": {
     "slide_type": "slide"
    }
   },
   "source": [
    "# `reduce` Operations"
   ]
  },
  {
   "cell_type": "code",
   "execution_count": 69,
   "metadata": {},
   "outputs": [
    {
     "data": {
      "text/plain": [
       "12.711173323960018"
      ]
     },
     "execution_count": 69,
     "metadata": {},
     "output_type": "execute_result"
    }
   ],
   "source": [
    "reduce(+, db; select = :fare_amount) / length(db)"
   ]
  },
  {
   "cell_type": "code",
   "execution_count": 70,
   "metadata": {},
   "outputs": [
    {
     "name": "stdout",
     "output_type": "stream",
     "text": [
      "  0.099197 seconds (3.58 k allocations: 181.891 KiB)\n"
     ]
    },
    {
     "data": {
      "text/plain": [
       "▦ Series{0}  |  EqualWeight  |  nobs = 39219765\n",
       "└── Mean(12.7112)"
      ]
     },
     "execution_count": 70,
     "metadata": {},
     "output_type": "execute_result"
    }
   ],
   "source": [
    "@time reduce(Mean(), db; select = :fare_amount)"
   ]
  },
  {
   "cell_type": "code",
   "execution_count": 71,
   "metadata": {
    "slideshow": {
     "slide_type": "slide"
    }
   },
   "outputs": [
    {
     "name": "stdout",
     "output_type": "stream",
     "text": [
      "  1.048131 seconds (4.98 k allocations: 271.313 KiB)\n"
     ]
    },
    {
     "data": {
      "text/html": [
       "<?xml version=\"1.0\" encoding=\"utf-8\"?>\n",
       "<svg xmlns=\"http://www.w3.org/2000/svg\" xmlns:xlink=\"http://www.w3.org/1999/xlink\" width=\"600\" height=\"400\" viewBox=\"0 0 600 400\">\n",
       "<defs>\n",
       "  <clipPath id=\"clip00\">\n",
       "    <rect x=\"0\" y=\"0\" width=\"600\" height=\"400\"/>\n",
       "  </clipPath>\n",
       "</defs>\n",
       "<polygon clip-path=\"url(#clip00)\" points=\"\n",
       "0,400 600,400 600,0 0,0 \n",
       "  \" fill=\"#ffffff\" fill-opacity=\"1\"/>\n",
       "<defs>\n",
       "  <clipPath id=\"clip01\">\n",
       "    <rect x=\"120\" y=\"0\" width=\"421\" height=\"400\"/>\n",
       "  </clipPath>\n",
       "</defs>\n",
       "<polygon clip-path=\"url(#clip00)\" points=\"\n",
       "61.8754,360.065 580.315,360.065 580.315,11.811 61.8754,11.811 \n",
       "  \" fill=\"#ffffff\" fill-opacity=\"1\"/>\n",
       "<defs>\n",
       "  <clipPath id=\"clip02\">\n",
       "    <rect x=\"61\" y=\"11\" width=\"519\" height=\"349\"/>\n",
       "  </clipPath>\n",
       "</defs>\n",
       "<polyline clip-path=\"url(#clip02)\" style=\"stroke:#000000; stroke-width:0.5; stroke-opacity:0.1; fill:none\" points=\"\n",
       "  96.5113,354.842 96.5113,17.0348 \n",
       "  \"/>\n",
       "<polyline clip-path=\"url(#clip02)\" style=\"stroke:#000000; stroke-width:0.5; stroke-opacity:0.1; fill:none\" points=\"\n",
       "  196.326,354.842 196.326,17.0348 \n",
       "  \"/>\n",
       "<polyline clip-path=\"url(#clip02)\" style=\"stroke:#000000; stroke-width:0.5; stroke-opacity:0.1; fill:none\" points=\"\n",
       "  296.141,354.842 296.141,17.0348 \n",
       "  \"/>\n",
       "<polyline clip-path=\"url(#clip02)\" style=\"stroke:#000000; stroke-width:0.5; stroke-opacity:0.1; fill:none\" points=\"\n",
       "  395.957,354.842 395.957,17.0348 \n",
       "  \"/>\n",
       "<polyline clip-path=\"url(#clip02)\" style=\"stroke:#000000; stroke-width:0.5; stroke-opacity:0.1; fill:none\" points=\"\n",
       "  495.772,354.842 495.772,17.0348 \n",
       "  \"/>\n",
       "<polyline clip-path=\"url(#clip02)\" style=\"stroke:#000000; stroke-width:0.5; stroke-opacity:0.1; fill:none\" points=\"\n",
       "  69.652,360.065 572.538,360.065 \n",
       "  \"/>\n",
       "<polyline clip-path=\"url(#clip02)\" style=\"stroke:#000000; stroke-width:0.5; stroke-opacity:0.1; fill:none\" points=\"\n",
       "  69.652,263.124 572.538,263.124 \n",
       "  \"/>\n",
       "<polyline clip-path=\"url(#clip02)\" style=\"stroke:#000000; stroke-width:0.5; stroke-opacity:0.1; fill:none\" points=\"\n",
       "  69.652,166.183 572.538,166.183 \n",
       "  \"/>\n",
       "<polyline clip-path=\"url(#clip02)\" style=\"stroke:#000000; stroke-width:0.5; stroke-opacity:0.1; fill:none\" points=\"\n",
       "  69.652,69.2412 572.538,69.2412 \n",
       "  \"/>\n",
       "<polyline clip-path=\"url(#clip00)\" style=\"stroke:#000000; stroke-width:1; stroke-opacity:1; fill:none\" points=\"\n",
       "  61.8754,360.065 580.315,360.065 \n",
       "  \"/>\n",
       "<polyline clip-path=\"url(#clip00)\" style=\"stroke:#000000; stroke-width:1; stroke-opacity:1; fill:none\" points=\"\n",
       "  61.8754,360.065 61.8754,11.811 \n",
       "  \"/>\n",
       "<polyline clip-path=\"url(#clip00)\" style=\"stroke:#000000; stroke-width:1; stroke-opacity:1; fill:none\" points=\"\n",
       "  96.5113,360.065 96.5113,354.842 \n",
       "  \"/>\n",
       "<polyline clip-path=\"url(#clip00)\" style=\"stroke:#000000; stroke-width:1; stroke-opacity:1; fill:none\" points=\"\n",
       "  196.326,360.065 196.326,354.842 \n",
       "  \"/>\n",
       "<polyline clip-path=\"url(#clip00)\" style=\"stroke:#000000; stroke-width:1; stroke-opacity:1; fill:none\" points=\"\n",
       "  296.141,360.065 296.141,354.842 \n",
       "  \"/>\n",
       "<polyline clip-path=\"url(#clip00)\" style=\"stroke:#000000; stroke-width:1; stroke-opacity:1; fill:none\" points=\"\n",
       "  395.957,360.065 395.957,354.842 \n",
       "  \"/>\n",
       "<polyline clip-path=\"url(#clip00)\" style=\"stroke:#000000; stroke-width:1; stroke-opacity:1; fill:none\" points=\"\n",
       "  495.772,360.065 495.772,354.842 \n",
       "  \"/>\n",
       "<polyline clip-path=\"url(#clip00)\" style=\"stroke:#000000; stroke-width:1; stroke-opacity:1; fill:none\" points=\"\n",
       "  61.8754,360.065 69.652,360.065 \n",
       "  \"/>\n",
       "<polyline clip-path=\"url(#clip00)\" style=\"stroke:#000000; stroke-width:1; stroke-opacity:1; fill:none\" points=\"\n",
       "  61.8754,263.124 69.652,263.124 \n",
       "  \"/>\n",
       "<polyline clip-path=\"url(#clip00)\" style=\"stroke:#000000; stroke-width:1; stroke-opacity:1; fill:none\" points=\"\n",
       "  61.8754,166.183 69.652,166.183 \n",
       "  \"/>\n",
       "<polyline clip-path=\"url(#clip00)\" style=\"stroke:#000000; stroke-width:1; stroke-opacity:1; fill:none\" points=\"\n",
       "  61.8754,69.2412 69.652,69.2412 \n",
       "  \"/>\n",
       "<g clip-path=\"url(#clip00)\">\n",
       "<text style=\"fill:#000000; fill-opacity:1; font-family:Arial,Helvetica Neue,Helvetica,sans-serif; font-size:12; text-anchor:middle;\" transform=\"rotate(0, 96.5113, 373.865)\" x=\"96.5113\" y=\"373.865\">0</text>\n",
       "</g>\n",
       "<g clip-path=\"url(#clip00)\">\n",
       "<text style=\"fill:#000000; fill-opacity:1; font-family:Arial,Helvetica Neue,Helvetica,sans-serif; font-size:12; text-anchor:middle;\" transform=\"rotate(0, 196.326, 373.865)\" x=\"196.326\" y=\"373.865\">2</text>\n",
       "</g>\n",
       "<g clip-path=\"url(#clip00)\">\n",
       "<text style=\"fill:#000000; fill-opacity:1; font-family:Arial,Helvetica Neue,Helvetica,sans-serif; font-size:12; text-anchor:middle;\" transform=\"rotate(0, 296.141, 373.865)\" x=\"296.141\" y=\"373.865\">4</text>\n",
       "</g>\n",
       "<g clip-path=\"url(#clip00)\">\n",
       "<text style=\"fill:#000000; fill-opacity:1; font-family:Arial,Helvetica Neue,Helvetica,sans-serif; font-size:12; text-anchor:middle;\" transform=\"rotate(0, 395.957, 373.865)\" x=\"395.957\" y=\"373.865\">6</text>\n",
       "</g>\n",
       "<g clip-path=\"url(#clip00)\">\n",
       "<text style=\"fill:#000000; fill-opacity:1; font-family:Arial,Helvetica Neue,Helvetica,sans-serif; font-size:12; text-anchor:middle;\" transform=\"rotate(0, 495.772, 373.865)\" x=\"495.772\" y=\"373.865\">8</text>\n",
       "</g>\n",
       "<g clip-path=\"url(#clip00)\">\n",
       "<text style=\"fill:#000000; fill-opacity:1; font-family:Arial,Helvetica Neue,Helvetica,sans-serif; font-size:12; text-anchor:end;\" transform=\"rotate(0, 55.8754, 364.565)\" x=\"55.8754\" y=\"364.565\">0</text>\n",
       "</g>\n",
       "<g clip-path=\"url(#clip00)\">\n",
       "<text style=\"fill:#000000; fill-opacity:1; font-family:Arial,Helvetica Neue,Helvetica,sans-serif; font-size:12; text-anchor:end;\" transform=\"rotate(0, 55.8754, 267.624)\" x=\"55.8754\" y=\"267.624\">2000000</text>\n",
       "</g>\n",
       "<g clip-path=\"url(#clip00)\">\n",
       "<text style=\"fill:#000000; fill-opacity:1; font-family:Arial,Helvetica Neue,Helvetica,sans-serif; font-size:12; text-anchor:end;\" transform=\"rotate(0, 55.8754, 170.683)\" x=\"55.8754\" y=\"170.683\">4000000</text>\n",
       "</g>\n",
       "<g clip-path=\"url(#clip00)\">\n",
       "<text style=\"fill:#000000; fill-opacity:1; font-family:Arial,Helvetica Neue,Helvetica,sans-serif; font-size:12; text-anchor:end;\" transform=\"rotate(0, 55.8754, 73.7412)\" x=\"55.8754\" y=\"73.7412\">6000000</text>\n",
       "</g>\n",
       "<g clip-path=\"url(#clip00)\">\n",
       "<text style=\"fill:#000000; fill-opacity:1; font-family:Arial,Helvetica Neue,Helvetica,sans-serif; font-size:16; text-anchor:middle;\" transform=\"rotate(0, 321.095, 397.6)\" x=\"321.095\" y=\"397.6\">Number of Passengers</text>\n",
       "</g>\n",
       "<polygon clip-path=\"url(#clip02)\" points=\"\n",
       "76.5483,359.996 76.5483,360.065 116.474,360.065 116.474,359.996 76.5483,359.996 76.5483,359.996 \n",
       "  \" fill=\"#009af9\" fill-opacity=\"1\"/>\n",
       "<polyline clip-path=\"url(#clip02)\" style=\"stroke:#000000; stroke-width:1; stroke-opacity:1; fill:none\" points=\"\n",
       "  76.5483,359.996 76.5483,360.065 116.474,360.065 116.474,359.996 76.5483,359.996 \n",
       "  \"/>\n",
       "<polygon clip-path=\"url(#clip02)\" points=\"\n",
       "276.178,350.088 276.178,360.065 316.104,360.065 316.104,350.088 276.178,350.088 276.178,350.088 \n",
       "  \" fill=\"#009af9\" fill-opacity=\"1\"/>\n",
       "<polyline clip-path=\"url(#clip02)\" style=\"stroke:#000000; stroke-width:1; stroke-opacity:1; fill:none\" points=\"\n",
       "  276.178,350.088 276.178,360.065 316.104,360.065 316.104,350.088 276.178,350.088 \n",
       "  \"/>\n",
       "<polygon clip-path=\"url(#clip02)\" points=\"\n",
       "425.901,360.064 425.901,360.065 465.827,360.065 465.827,360.064 425.901,360.064 425.901,360.064 \n",
       "  \" fill=\"#009af9\" fill-opacity=\"1\"/>\n",
       "<polyline clip-path=\"url(#clip02)\" style=\"stroke:#000000; stroke-width:1; stroke-opacity:1; fill:none\" points=\"\n",
       "  425.901,360.064 425.901,360.065 465.827,360.065 465.827,360.064 425.901,360.064 \n",
       "  \"/>\n",
       "<polygon clip-path=\"url(#clip02)\" points=\"\n",
       "525.716,360.065 525.716,360.065 565.642,360.065 565.642,360.065 525.716,360.065 525.716,360.065 \n",
       "  \" fill=\"#009af9\" fill-opacity=\"1\"/>\n",
       "<polyline clip-path=\"url(#clip02)\" style=\"stroke:#000000; stroke-width:1; stroke-opacity:1; fill:none\" points=\"\n",
       "  525.716,360.065 525.716,360.065 565.642,360.065 565.642,360.065 525.716,360.065 \n",
       "  \"/>\n",
       "<polygon clip-path=\"url(#clip02)\" points=\"\n",
       "176.363,289.132 176.363,360.065 216.289,360.065 216.289,289.132 176.363,289.132 176.363,289.132 \n",
       "  \" fill=\"#009af9\" fill-opacity=\"1\"/>\n",
       "<polyline clip-path=\"url(#clip02)\" style=\"stroke:#000000; stroke-width:1; stroke-opacity:1; fill:none\" points=\"\n",
       "  176.363,289.132 176.363,360.065 216.289,360.065 216.289,289.132 176.363,289.132 \n",
       "  \"/>\n",
       "<polygon clip-path=\"url(#clip02)\" points=\"\n",
       "226.271,339.74 226.271,360.065 266.197,360.065 266.197,339.74 226.271,339.74 226.271,339.74 \n",
       "  \" fill=\"#009af9\" fill-opacity=\"1\"/>\n",
       "<polyline clip-path=\"url(#clip02)\" style=\"stroke:#000000; stroke-width:1; stroke-opacity:1; fill:none\" points=\"\n",
       "  226.271,339.74 226.271,360.065 266.197,360.065 266.197,339.74 226.271,339.74 \n",
       "  \"/>\n",
       "<polygon clip-path=\"url(#clip02)\" points=\"\n",
       "326.086,336.932 326.086,360.065 366.012,360.065 366.012,336.932 326.086,336.932 326.086,336.932 \n",
       "  \" fill=\"#009af9\" fill-opacity=\"1\"/>\n",
       "<polyline clip-path=\"url(#clip02)\" style=\"stroke:#000000; stroke-width:1; stroke-opacity:1; fill:none\" points=\"\n",
       "  326.086,336.932 326.086,360.065 366.012,360.065 366.012,336.932 326.086,336.932 \n",
       "  \"/>\n",
       "<polygon clip-path=\"url(#clip02)\" points=\"\n",
       "475.809,360.064 475.809,360.065 515.735,360.065 515.735,360.064 475.809,360.064 475.809,360.064 \n",
       "  \" fill=\"#009af9\" fill-opacity=\"1\"/>\n",
       "<polyline clip-path=\"url(#clip02)\" style=\"stroke:#000000; stroke-width:1; stroke-opacity:1; fill:none\" points=\"\n",
       "  475.809,360.064 475.809,360.065 515.735,360.065 515.735,360.064 475.809,360.064 \n",
       "  \"/>\n",
       "<polygon clip-path=\"url(#clip02)\" points=\"\n",
       "375.993,345.817 375.993,360.065 415.92,360.065 415.92,345.817 375.993,345.817 375.993,345.817 \n",
       "  \" fill=\"#009af9\" fill-opacity=\"1\"/>\n",
       "<polyline clip-path=\"url(#clip02)\" style=\"stroke:#000000; stroke-width:1; stroke-opacity:1; fill:none\" points=\"\n",
       "  375.993,345.817 375.993,360.065 415.92,360.065 415.92,345.817 375.993,345.817 \n",
       "  \"/>\n",
       "<polygon clip-path=\"url(#clip02)\" points=\"\n",
       "126.456,11.811 126.456,360.065 166.382,360.065 166.382,11.811 126.456,11.811 126.456,11.811 \n",
       "  \" fill=\"#009af9\" fill-opacity=\"1\"/>\n",
       "<polyline clip-path=\"url(#clip02)\" style=\"stroke:#000000; stroke-width:1; stroke-opacity:1; fill:none\" points=\"\n",
       "  126.456,11.811 126.456,360.065 166.382,360.065 166.382,11.811 126.456,11.811 \n",
       "  \"/>\n",
       "<polygon clip-path=\"url(#clip00)\" points=\"\n",
       "489.799,62.931 562.315,62.931 562.315,32.691 489.799,32.691 \n",
       "  \" fill=\"#ffffff\" fill-opacity=\"1\"/>\n",
       "<polyline clip-path=\"url(#clip00)\" style=\"stroke:#000000; stroke-width:1; stroke-opacity:1; fill:none\" points=\"\n",
       "  489.799,62.931 562.315,62.931 562.315,32.691 489.799,32.691 489.799,62.931 \n",
       "  \"/>\n",
       "<polygon clip-path=\"url(#clip00)\" points=\"\n",
       "495.799,53.859 531.799,53.859 531.799,41.763 495.799,41.763 495.799,53.859 \n",
       "  \" fill=\"#009af9\" fill-opacity=\"1\"/>\n",
       "<polyline clip-path=\"url(#clip00)\" style=\"stroke:#000000; stroke-width:1; stroke-opacity:1; fill:none\" points=\"\n",
       "  495.799,53.859 531.799,53.859 531.799,41.763 495.799,41.763 495.799,53.859 \n",
       "  \"/>\n",
       "<g clip-path=\"url(#clip00)\">\n",
       "<text style=\"fill:#000000; fill-opacity:1; font-family:Arial,Helvetica Neue,Helvetica,sans-serif; font-size:12; text-anchor:start;\" transform=\"rotate(0, 537.799, 52.311)\" x=\"537.799\" y=\"52.311\">y1</text>\n",
       "</g>\n",
       "</svg>\n"
      ]
     },
     "execution_count": 71,
     "metadata": {},
     "output_type": "execute_result"
    }
   ],
   "source": [
    "@time s = reduce(FitCategorical(Int64), db; select = :passenger_count)\n",
    "plot(s, xlab = \"Number of Passengers\")"
   ]
  },
  {
   "cell_type": "code",
   "execution_count": 72,
   "metadata": {
    "scrolled": false,
    "slideshow": {
     "slide_type": "slide"
    }
   },
   "outputs": [
    {
     "name": "stdout",
     "output_type": "stream",
     "text": [
      "  0.585766 seconds (5.03 k allocations: 279.078 KiB)\n"
     ]
    },
    {
     "data": {
      "text/html": [
       "<?xml version=\"1.0\" encoding=\"utf-8\"?>\n",
       "<svg xmlns=\"http://www.w3.org/2000/svg\" xmlns:xlink=\"http://www.w3.org/1999/xlink\" width=\"600\" height=\"400\" viewBox=\"0 0 600 400\">\n",
       "<defs>\n",
       "  <clipPath id=\"clip00\">\n",
       "    <rect x=\"0\" y=\"0\" width=\"600\" height=\"400\"/>\n",
       "  </clipPath>\n",
       "</defs>\n",
       "<polygon clip-path=\"url(#clip00)\" points=\"\n",
       "0,400 600,400 600,0 0,0 \n",
       "  \" fill=\"#ffffff\" fill-opacity=\"1\"/>\n",
       "<defs>\n",
       "  <clipPath id=\"clip01\">\n",
       "    <rect x=\"120\" y=\"0\" width=\"421\" height=\"400\"/>\n",
       "  </clipPath>\n",
       "</defs>\n",
       "<polygon clip-path=\"url(#clip00)\" points=\"\n",
       "68.4651,360.065 580.315,360.065 580.315,31.4961 68.4651,31.4961 \n",
       "  \" fill=\"#ffffff\" fill-opacity=\"1\"/>\n",
       "<defs>\n",
       "  <clipPath id=\"clip02\">\n",
       "    <rect x=\"68\" y=\"31\" width=\"513\" height=\"330\"/>\n",
       "  </clipPath>\n",
       "</defs>\n",
       "<polyline clip-path=\"url(#clip02)\" style=\"stroke:#000000; stroke-width:0.5; stroke-opacity:0.1; fill:none\" points=\"\n",
       "  82.9514,355.137 82.9514,36.4246 \n",
       "  \"/>\n",
       "<polyline clip-path=\"url(#clip02)\" style=\"stroke:#000000; stroke-width:0.5; stroke-opacity:0.1; fill:none\" points=\"\n",
       "  163.431,355.137 163.431,36.4246 \n",
       "  \"/>\n",
       "<polyline clip-path=\"url(#clip02)\" style=\"stroke:#000000; stroke-width:0.5; stroke-opacity:0.1; fill:none\" points=\"\n",
       "  243.91,355.137 243.91,36.4246 \n",
       "  \"/>\n",
       "<polyline clip-path=\"url(#clip02)\" style=\"stroke:#000000; stroke-width:0.5; stroke-opacity:0.1; fill:none\" points=\"\n",
       "  324.39,355.137 324.39,36.4246 \n",
       "  \"/>\n",
       "<polyline clip-path=\"url(#clip02)\" style=\"stroke:#000000; stroke-width:0.5; stroke-opacity:0.1; fill:none\" points=\"\n",
       "  404.87,355.137 404.87,36.4246 \n",
       "  \"/>\n",
       "<polyline clip-path=\"url(#clip02)\" style=\"stroke:#000000; stroke-width:0.5; stroke-opacity:0.1; fill:none\" points=\"\n",
       "  485.349,355.137 485.349,36.4246 \n",
       "  \"/>\n",
       "<polyline clip-path=\"url(#clip02)\" style=\"stroke:#000000; stroke-width:0.5; stroke-opacity:0.1; fill:none\" points=\"\n",
       "  565.829,355.137 565.829,36.4246 \n",
       "  \"/>\n",
       "<polyline clip-path=\"url(#clip02)\" style=\"stroke:#000000; stroke-width:0.5; stroke-opacity:0.1; fill:none\" points=\"\n",
       "  76.1428,360.065 572.637,360.065 \n",
       "  \"/>\n",
       "<polyline clip-path=\"url(#clip02)\" style=\"stroke:#000000; stroke-width:0.5; stroke-opacity:0.1; fill:none\" points=\"\n",
       "  76.1428,312.872 572.637,312.872 \n",
       "  \"/>\n",
       "<polyline clip-path=\"url(#clip02)\" style=\"stroke:#000000; stroke-width:0.5; stroke-opacity:0.1; fill:none\" points=\"\n",
       "  76.1428,265.679 572.637,265.679 \n",
       "  \"/>\n",
       "<polyline clip-path=\"url(#clip02)\" style=\"stroke:#000000; stroke-width:0.5; stroke-opacity:0.1; fill:none\" points=\"\n",
       "  76.1428,218.486 572.637,218.486 \n",
       "  \"/>\n",
       "<polyline clip-path=\"url(#clip02)\" style=\"stroke:#000000; stroke-width:0.5; stroke-opacity:0.1; fill:none\" points=\"\n",
       "  76.1428,171.293 572.637,171.293 \n",
       "  \"/>\n",
       "<polyline clip-path=\"url(#clip02)\" style=\"stroke:#000000; stroke-width:0.5; stroke-opacity:0.1; fill:none\" points=\"\n",
       "  76.1428,124.1 572.637,124.1 \n",
       "  \"/>\n",
       "<polyline clip-path=\"url(#clip02)\" style=\"stroke:#000000; stroke-width:0.5; stroke-opacity:0.1; fill:none\" points=\"\n",
       "  76.1428,76.9069 572.637,76.9069 \n",
       "  \"/>\n",
       "<polyline clip-path=\"url(#clip00)\" style=\"stroke:#000000; stroke-width:1; stroke-opacity:1; fill:none\" points=\"\n",
       "  68.4651,360.065 580.315,360.065 \n",
       "  \"/>\n",
       "<polyline clip-path=\"url(#clip00)\" style=\"stroke:#000000; stroke-width:1; stroke-opacity:1; fill:none\" points=\"\n",
       "  68.4651,360.065 68.4651,31.4961 \n",
       "  \"/>\n",
       "<polyline clip-path=\"url(#clip00)\" style=\"stroke:#000000; stroke-width:1; stroke-opacity:1; fill:none\" points=\"\n",
       "  82.9514,360.065 82.9514,355.137 \n",
       "  \"/>\n",
       "<polyline clip-path=\"url(#clip00)\" style=\"stroke:#000000; stroke-width:1; stroke-opacity:1; fill:none\" points=\"\n",
       "  163.431,360.065 163.431,355.137 \n",
       "  \"/>\n",
       "<polyline clip-path=\"url(#clip00)\" style=\"stroke:#000000; stroke-width:1; stroke-opacity:1; fill:none\" points=\"\n",
       "  243.91,360.065 243.91,355.137 \n",
       "  \"/>\n",
       "<polyline clip-path=\"url(#clip00)\" style=\"stroke:#000000; stroke-width:1; stroke-opacity:1; fill:none\" points=\"\n",
       "  324.39,360.065 324.39,355.137 \n",
       "  \"/>\n",
       "<polyline clip-path=\"url(#clip00)\" style=\"stroke:#000000; stroke-width:1; stroke-opacity:1; fill:none\" points=\"\n",
       "  404.87,360.065 404.87,355.137 \n",
       "  \"/>\n",
       "<polyline clip-path=\"url(#clip00)\" style=\"stroke:#000000; stroke-width:1; stroke-opacity:1; fill:none\" points=\"\n",
       "  485.349,360.065 485.349,355.137 \n",
       "  \"/>\n",
       "<polyline clip-path=\"url(#clip00)\" style=\"stroke:#000000; stroke-width:1; stroke-opacity:1; fill:none\" points=\"\n",
       "  565.829,360.065 565.829,355.137 \n",
       "  \"/>\n",
       "<polyline clip-path=\"url(#clip00)\" style=\"stroke:#000000; stroke-width:1; stroke-opacity:1; fill:none\" points=\"\n",
       "  68.4651,360.065 76.1428,360.065 \n",
       "  \"/>\n",
       "<polyline clip-path=\"url(#clip00)\" style=\"stroke:#000000; stroke-width:1; stroke-opacity:1; fill:none\" points=\"\n",
       "  68.4651,312.872 76.1428,312.872 \n",
       "  \"/>\n",
       "<polyline clip-path=\"url(#clip00)\" style=\"stroke:#000000; stroke-width:1; stroke-opacity:1; fill:none\" points=\"\n",
       "  68.4651,265.679 76.1428,265.679 \n",
       "  \"/>\n",
       "<polyline clip-path=\"url(#clip00)\" style=\"stroke:#000000; stroke-width:1; stroke-opacity:1; fill:none\" points=\"\n",
       "  68.4651,218.486 76.1428,218.486 \n",
       "  \"/>\n",
       "<polyline clip-path=\"url(#clip00)\" style=\"stroke:#000000; stroke-width:1; stroke-opacity:1; fill:none\" points=\"\n",
       "  68.4651,171.293 76.1428,171.293 \n",
       "  \"/>\n",
       "<polyline clip-path=\"url(#clip00)\" style=\"stroke:#000000; stroke-width:1; stroke-opacity:1; fill:none\" points=\"\n",
       "  68.4651,124.1 76.1428,124.1 \n",
       "  \"/>\n",
       "<polyline clip-path=\"url(#clip00)\" style=\"stroke:#000000; stroke-width:1; stroke-opacity:1; fill:none\" points=\"\n",
       "  68.4651,76.9069 76.1428,76.9069 \n",
       "  \"/>\n",
       "<g clip-path=\"url(#clip00)\">\n",
       "<text style=\"fill:#000000; fill-opacity:1; font-family:Arial,Helvetica Neue,Helvetica,sans-serif; font-size:12; text-anchor:middle;\" transform=\"rotate(0, 82.9514, 373.865)\" x=\"82.9514\" y=\"373.865\">0</text>\n",
       "</g>\n",
       "<g clip-path=\"url(#clip00)\">\n",
       "<text style=\"fill:#000000; fill-opacity:1; font-family:Arial,Helvetica Neue,Helvetica,sans-serif; font-size:12; text-anchor:middle;\" transform=\"rotate(0, 163.431, 373.865)\" x=\"163.431\" y=\"373.865\">10</text>\n",
       "</g>\n",
       "<g clip-path=\"url(#clip00)\">\n",
       "<text style=\"fill:#000000; fill-opacity:1; font-family:Arial,Helvetica Neue,Helvetica,sans-serif; font-size:12; text-anchor:middle;\" transform=\"rotate(0, 243.91, 373.865)\" x=\"243.91\" y=\"373.865\">20</text>\n",
       "</g>\n",
       "<g clip-path=\"url(#clip00)\">\n",
       "<text style=\"fill:#000000; fill-opacity:1; font-family:Arial,Helvetica Neue,Helvetica,sans-serif; font-size:12; text-anchor:middle;\" transform=\"rotate(0, 324.39, 373.865)\" x=\"324.39\" y=\"373.865\">30</text>\n",
       "</g>\n",
       "<g clip-path=\"url(#clip00)\">\n",
       "<text style=\"fill:#000000; fill-opacity:1; font-family:Arial,Helvetica Neue,Helvetica,sans-serif; font-size:12; text-anchor:middle;\" transform=\"rotate(0, 404.87, 373.865)\" x=\"404.87\" y=\"373.865\">40</text>\n",
       "</g>\n",
       "<g clip-path=\"url(#clip00)\">\n",
       "<text style=\"fill:#000000; fill-opacity:1; font-family:Arial,Helvetica Neue,Helvetica,sans-serif; font-size:12; text-anchor:middle;\" transform=\"rotate(0, 485.349, 373.865)\" x=\"485.349\" y=\"373.865\">50</text>\n",
       "</g>\n",
       "<g clip-path=\"url(#clip00)\">\n",
       "<text style=\"fill:#000000; fill-opacity:1; font-family:Arial,Helvetica Neue,Helvetica,sans-serif; font-size:12; text-anchor:middle;\" transform=\"rotate(0, 565.829, 373.865)\" x=\"565.829\" y=\"373.865\">60</text>\n",
       "</g>\n",
       "<g clip-path=\"url(#clip00)\">\n",
       "<text style=\"fill:#000000; fill-opacity:1; font-family:Arial,Helvetica Neue,Helvetica,sans-serif; font-size:12; text-anchor:end;\" transform=\"rotate(0, 62.4651, 364.565)\" x=\"62.4651\" y=\"364.565\">0</text>\n",
       "</g>\n",
       "<g clip-path=\"url(#clip00)\">\n",
       "<text style=\"fill:#000000; fill-opacity:1; font-family:Arial,Helvetica Neue,Helvetica,sans-serif; font-size:12; text-anchor:end;\" transform=\"rotate(0, 62.4651, 317.372)\" x=\"62.4651\" y=\"317.372\">2000000</text>\n",
       "</g>\n",
       "<g clip-path=\"url(#clip00)\">\n",
       "<text style=\"fill:#000000; fill-opacity:1; font-family:Arial,Helvetica Neue,Helvetica,sans-serif; font-size:12; text-anchor:end;\" transform=\"rotate(0, 62.4651, 270.179)\" x=\"62.4651\" y=\"270.179\">4000000</text>\n",
       "</g>\n",
       "<g clip-path=\"url(#clip00)\">\n",
       "<text style=\"fill:#000000; fill-opacity:1; font-family:Arial,Helvetica Neue,Helvetica,sans-serif; font-size:12; text-anchor:end;\" transform=\"rotate(0, 62.4651, 222.986)\" x=\"62.4651\" y=\"222.986\">6000000</text>\n",
       "</g>\n",
       "<g clip-path=\"url(#clip00)\">\n",
       "<text style=\"fill:#000000; fill-opacity:1; font-family:Arial,Helvetica Neue,Helvetica,sans-serif; font-size:12; text-anchor:end;\" transform=\"rotate(0, 62.4651, 175.793)\" x=\"62.4651\" y=\"175.793\">8000000</text>\n",
       "</g>\n",
       "<g clip-path=\"url(#clip00)\">\n",
       "<text style=\"fill:#000000; fill-opacity:1; font-family:Arial,Helvetica Neue,Helvetica,sans-serif; font-size:12; text-anchor:end;\" transform=\"rotate(0, 62.4651, 128.6)\" x=\"62.4651\" y=\"128.6\">10000000</text>\n",
       "</g>\n",
       "<g clip-path=\"url(#clip00)\">\n",
       "<text style=\"fill:#000000; fill-opacity:1; font-family:Arial,Helvetica Neue,Helvetica,sans-serif; font-size:12; text-anchor:end;\" transform=\"rotate(0, 62.4651, 81.4069)\" x=\"62.4651\" y=\"81.4069\">12000000</text>\n",
       "</g>\n",
       "<g clip-path=\"url(#clip00)\">\n",
       "<text style=\"fill:#000000; fill-opacity:1; font-family:Arial,Helvetica Neue,Helvetica,sans-serif; font-size:21; text-anchor:middle;\" transform=\"rotate(0, 324.39, 18)\" x=\"324.39\" y=\"18\">Fare and Tips</text>\n",
       "</g>\n",
       "<g clip-path=\"url(#clip00)\">\n",
       "<text style=\"fill:#000000; fill-opacity:1; font-family:Arial,Helvetica Neue,Helvetica,sans-serif; font-size:16; text-anchor:middle;\" transform=\"rotate(0, 324.39, 397.6)\" x=\"324.39\" y=\"397.6\">Amount</text>\n",
       "</g>\n",
       "<polygon clip-path=\"url(#clip02)\" points=\"\n",
       "82.9514,359.676 82.9514,360.065 86.9754,360.065 86.9754,359.676 82.9514,359.676 82.9514,359.676 \n",
       "  \" fill=\"#009af9\" fill-opacity=\"1\"/>\n",
       "<polyline clip-path=\"url(#clip02)\" style=\"stroke:#000000; stroke-width:1; stroke-opacity:1; fill:none\" points=\"\n",
       "  82.9514,359.676 82.9514,360.065 86.9754,360.065 86.9754,359.676 82.9514,359.676 \n",
       "  \"/>\n",
       "<polygon clip-path=\"url(#clip02)\" points=\"\n",
       "86.9754,360.062 86.9754,360.065 90.9993,360.065 90.9993,360.062 86.9754,360.062 86.9754,360.062 \n",
       "  \" fill=\"#009af9\" fill-opacity=\"1\"/>\n",
       "<polyline clip-path=\"url(#clip02)\" style=\"stroke:#000000; stroke-width:1; stroke-opacity:1; fill:none\" points=\"\n",
       "  86.9754,360.062 86.9754,360.065 90.9993,360.065 90.9993,360.062 86.9754,360.062 \n",
       "  \"/>\n",
       "<polygon clip-path=\"url(#clip02)\" points=\"\n",
       "90.9993,360.045 90.9993,360.065 95.0233,360.065 95.0233,360.045 90.9993,360.045 90.9993,360.045 \n",
       "  \" fill=\"#009af9\" fill-opacity=\"1\"/>\n",
       "<polyline clip-path=\"url(#clip02)\" style=\"stroke:#000000; stroke-width:1; stroke-opacity:1; fill:none\" points=\"\n",
       "  90.9993,360.045 90.9993,360.065 95.0233,360.065 95.0233,360.045 90.9993,360.045 \n",
       "  \"/>\n",
       "<polygon clip-path=\"url(#clip02)\" points=\"\n",
       "95.0233,360.042 95.0233,360.065 99.0473,360.065 99.0473,360.042 95.0233,360.042 95.0233,360.042 \n",
       "  \" fill=\"#009af9\" fill-opacity=\"1\"/>\n",
       "<polyline clip-path=\"url(#clip02)\" style=\"stroke:#000000; stroke-width:1; stroke-opacity:1; fill:none\" points=\"\n",
       "  95.0233,360.042 95.0233,360.065 99.0473,360.065 99.0473,360.042 95.0233,360.042 \n",
       "  \"/>\n",
       "<polygon clip-path=\"url(#clip02)\" points=\"\n",
       "99.0473,360.049 99.0473,360.065 103.071,360.065 103.071,360.049 99.0473,360.049 99.0473,360.049 \n",
       "  \" fill=\"#009af9\" fill-opacity=\"1\"/>\n",
       "<polyline clip-path=\"url(#clip02)\" style=\"stroke:#000000; stroke-width:1; stroke-opacity:1; fill:none\" points=\"\n",
       "  99.0473,360.049 99.0473,360.065 103.071,360.065 103.071,360.049 99.0473,360.049 \n",
       "  \"/>\n",
       "<polygon clip-path=\"url(#clip02)\" points=\"\n",
       "103.071,356.403 103.071,360.065 107.095,360.065 107.095,356.403 103.071,356.403 103.071,356.403 \n",
       "  \" fill=\"#009af9\" fill-opacity=\"1\"/>\n",
       "<polyline clip-path=\"url(#clip02)\" style=\"stroke:#000000; stroke-width:1; stroke-opacity:1; fill:none\" points=\"\n",
       "  103.071,356.403 103.071,360.065 107.095,360.065 107.095,356.403 103.071,356.403 \n",
       "  \"/>\n",
       "<polygon clip-path=\"url(#clip02)\" points=\"\n",
       "107.095,355.74 107.095,360.065 111.119,360.065 111.119,355.74 107.095,355.74 107.095,355.74 \n",
       "  \" fill=\"#009af9\" fill-opacity=\"1\"/>\n",
       "<polyline clip-path=\"url(#clip02)\" style=\"stroke:#000000; stroke-width:1; stroke-opacity:1; fill:none\" points=\"\n",
       "  107.095,355.74 107.095,360.065 111.119,360.065 111.119,355.74 107.095,355.74 \n",
       "  \"/>\n",
       "<polygon clip-path=\"url(#clip02)\" points=\"\n",
       "111.119,347.158 111.119,360.065 115.143,360.065 115.143,347.158 111.119,347.158 111.119,347.158 \n",
       "  \" fill=\"#009af9\" fill-opacity=\"1\"/>\n",
       "<polyline clip-path=\"url(#clip02)\" style=\"stroke:#000000; stroke-width:1; stroke-opacity:1; fill:none\" points=\"\n",
       "  111.119,347.158 111.119,360.065 115.143,360.065 115.143,347.158 111.119,347.158 \n",
       "  \"/>\n",
       "<polygon clip-path=\"url(#clip02)\" points=\"\n",
       "115.143,335.297 115.143,360.065 119.167,360.065 119.167,335.297 115.143,335.297 115.143,335.297 \n",
       "  \" fill=\"#009af9\" fill-opacity=\"1\"/>\n",
       "<polyline clip-path=\"url(#clip02)\" style=\"stroke:#000000; stroke-width:1; stroke-opacity:1; fill:none\" points=\"\n",
       "  115.143,335.297 115.143,360.065 119.167,360.065 119.167,335.297 115.143,335.297 \n",
       "  \"/>\n",
       "<polygon clip-path=\"url(#clip02)\" points=\"\n",
       "119.167,324.981 119.167,360.065 123.191,360.065 123.191,324.981 119.167,324.981 119.167,324.981 \n",
       "  \" fill=\"#009af9\" fill-opacity=\"1\"/>\n",
       "<polyline clip-path=\"url(#clip02)\" style=\"stroke:#000000; stroke-width:1; stroke-opacity:1; fill:none\" points=\"\n",
       "  119.167,324.981 119.167,360.065 123.191,360.065 123.191,324.981 119.167,324.981 \n",
       "  \"/>\n",
       "<polygon clip-path=\"url(#clip02)\" points=\"\n",
       "123.191,317.557 123.191,360.065 127.215,360.065 127.215,317.557 123.191,317.557 123.191,317.557 \n",
       "  \" fill=\"#009af9\" fill-opacity=\"1\"/>\n",
       "<polyline clip-path=\"url(#clip02)\" style=\"stroke:#000000; stroke-width:1; stroke-opacity:1; fill:none\" points=\"\n",
       "  123.191,317.557 123.191,360.065 127.215,360.065 127.215,317.557 123.191,317.557 \n",
       "  \"/>\n",
       "<polygon clip-path=\"url(#clip02)\" points=\"\n",
       "127.215,314.087 127.215,360.065 131.239,360.065 131.239,314.087 127.215,314.087 127.215,314.087 \n",
       "  \" fill=\"#009af9\" fill-opacity=\"1\"/>\n",
       "<polyline clip-path=\"url(#clip02)\" style=\"stroke:#000000; stroke-width:1; stroke-opacity:1; fill:none\" points=\"\n",
       "  127.215,314.087 127.215,360.065 131.239,360.065 131.239,314.087 127.215,314.087 \n",
       "  \"/>\n",
       "<polygon clip-path=\"url(#clip02)\" points=\"\n",
       "131.239,312.829 131.239,360.065 135.263,360.065 135.263,312.829 131.239,312.829 131.239,312.829 \n",
       "  \" fill=\"#009af9\" fill-opacity=\"1\"/>\n",
       "<polyline clip-path=\"url(#clip02)\" style=\"stroke:#000000; stroke-width:1; stroke-opacity:1; fill:none\" points=\"\n",
       "  131.239,312.829 131.239,360.065 135.263,360.065 135.263,312.829 131.239,312.829 \n",
       "  \"/>\n",
       "<polygon clip-path=\"url(#clip02)\" points=\"\n",
       "135.263,313.479 135.263,360.065 139.287,360.065 139.287,313.479 135.263,313.479 135.263,313.479 \n",
       "  \" fill=\"#009af9\" fill-opacity=\"1\"/>\n",
       "<polyline clip-path=\"url(#clip02)\" style=\"stroke:#000000; stroke-width:1; stroke-opacity:1; fill:none\" points=\"\n",
       "  135.263,313.479 135.263,360.065 139.287,360.065 139.287,313.479 135.263,313.479 \n",
       "  \"/>\n",
       "<polygon clip-path=\"url(#clip02)\" points=\"\n",
       "139.287,314.62 139.287,360.065 143.311,360.065 143.311,314.62 139.287,314.62 139.287,314.62 \n",
       "  \" fill=\"#009af9\" fill-opacity=\"1\"/>\n",
       "<polyline clip-path=\"url(#clip02)\" style=\"stroke:#000000; stroke-width:1; stroke-opacity:1; fill:none\" points=\"\n",
       "  139.287,314.62 139.287,360.065 143.311,360.065 143.311,314.62 139.287,314.62 \n",
       "  \"/>\n",
       "<polygon clip-path=\"url(#clip02)\" points=\"\n",
       "143.311,316.829 143.311,360.065 147.335,360.065 147.335,316.829 143.311,316.829 143.311,316.829 \n",
       "  \" fill=\"#009af9\" fill-opacity=\"1\"/>\n",
       "<polyline clip-path=\"url(#clip02)\" style=\"stroke:#000000; stroke-width:1; stroke-opacity:1; fill:none\" points=\"\n",
       "  143.311,316.829 143.311,360.065 147.335,360.065 147.335,316.829 143.311,316.829 \n",
       "  \"/>\n",
       "<polygon clip-path=\"url(#clip02)\" points=\"\n",
       "147.335,318.879 147.335,360.065 151.359,360.065 151.359,318.879 147.335,318.879 147.335,318.879 \n",
       "  \" fill=\"#009af9\" fill-opacity=\"1\"/>\n",
       "<polyline clip-path=\"url(#clip02)\" style=\"stroke:#000000; stroke-width:1; stroke-opacity:1; fill:none\" points=\"\n",
       "  147.335,318.879 147.335,360.065 151.359,360.065 151.359,318.879 147.335,318.879 \n",
       "  \"/>\n",
       "<polygon clip-path=\"url(#clip02)\" points=\"\n",
       "151.359,321.617 151.359,360.065 155.383,360.065 155.383,321.617 151.359,321.617 151.359,321.617 \n",
       "  \" fill=\"#009af9\" fill-opacity=\"1\"/>\n",
       "<polyline clip-path=\"url(#clip02)\" style=\"stroke:#000000; stroke-width:1; stroke-opacity:1; fill:none\" points=\"\n",
       "  151.359,321.617 151.359,360.065 155.383,360.065 155.383,321.617 151.359,321.617 \n",
       "  \"/>\n",
       "<polygon clip-path=\"url(#clip02)\" points=\"\n",
       "155.383,324.082 155.383,360.065 159.407,360.065 159.407,324.082 155.383,324.082 155.383,324.082 \n",
       "  \" fill=\"#009af9\" fill-opacity=\"1\"/>\n",
       "<polyline clip-path=\"url(#clip02)\" style=\"stroke:#000000; stroke-width:1; stroke-opacity:1; fill:none\" points=\"\n",
       "  155.383,324.082 155.383,360.065 159.407,360.065 159.407,324.082 155.383,324.082 \n",
       "  \"/>\n",
       "<polygon clip-path=\"url(#clip02)\" points=\"\n",
       "159.407,326.91 159.407,360.065 163.431,360.065 163.431,326.91 159.407,326.91 159.407,326.91 \n",
       "  \" fill=\"#009af9\" fill-opacity=\"1\"/>\n",
       "<polyline clip-path=\"url(#clip02)\" style=\"stroke:#000000; stroke-width:1; stroke-opacity:1; fill:none\" points=\"\n",
       "  159.407,326.91 159.407,360.065 163.431,360.065 163.431,326.91 159.407,326.91 \n",
       "  \"/>\n",
       "<polygon clip-path=\"url(#clip02)\" points=\"\n",
       "163.431,329.402 163.431,360.065 167.455,360.065 167.455,329.402 163.431,329.402 163.431,329.402 \n",
       "  \" fill=\"#009af9\" fill-opacity=\"1\"/>\n",
       "<polyline clip-path=\"url(#clip02)\" style=\"stroke:#000000; stroke-width:1; stroke-opacity:1; fill:none\" points=\"\n",
       "  163.431,329.402 163.431,360.065 167.455,360.065 167.455,329.402 163.431,329.402 \n",
       "  \"/>\n",
       "<polygon clip-path=\"url(#clip02)\" points=\"\n",
       "167.455,332.241 167.455,360.065 171.479,360.065 171.479,332.241 167.455,332.241 167.455,332.241 \n",
       "  \" fill=\"#009af9\" fill-opacity=\"1\"/>\n",
       "<polyline clip-path=\"url(#clip02)\" style=\"stroke:#000000; stroke-width:1; stroke-opacity:1; fill:none\" points=\"\n",
       "  167.455,332.241 167.455,360.065 171.479,360.065 171.479,332.241 167.455,332.241 \n",
       "  \"/>\n",
       "<polygon clip-path=\"url(#clip02)\" points=\"\n",
       "171.479,334.604 171.479,360.065 175.503,360.065 175.503,334.604 171.479,334.604 171.479,334.604 \n",
       "  \" fill=\"#009af9\" fill-opacity=\"1\"/>\n",
       "<polyline clip-path=\"url(#clip02)\" style=\"stroke:#000000; stroke-width:1; stroke-opacity:1; fill:none\" points=\"\n",
       "  171.479,334.604 171.479,360.065 175.503,360.065 175.503,334.604 171.479,334.604 \n",
       "  \"/>\n",
       "<polygon clip-path=\"url(#clip02)\" points=\"\n",
       "175.503,337.036 175.503,360.065 179.527,360.065 179.527,337.036 175.503,337.036 175.503,337.036 \n",
       "  \" fill=\"#009af9\" fill-opacity=\"1\"/>\n",
       "<polyline clip-path=\"url(#clip02)\" style=\"stroke:#000000; stroke-width:1; stroke-opacity:1; fill:none\" points=\"\n",
       "  175.503,337.036 175.503,360.065 179.527,360.065 179.527,337.036 175.503,337.036 \n",
       "  \"/>\n",
       "<polygon clip-path=\"url(#clip02)\" points=\"\n",
       "179.527,338.996 179.527,360.065 183.551,360.065 183.551,338.996 179.527,338.996 179.527,338.996 \n",
       "  \" fill=\"#009af9\" fill-opacity=\"1\"/>\n",
       "<polyline clip-path=\"url(#clip02)\" style=\"stroke:#000000; stroke-width:1; stroke-opacity:1; fill:none\" points=\"\n",
       "  179.527,338.996 179.527,360.065 183.551,360.065 183.551,338.996 179.527,338.996 \n",
       "  \"/>\n",
       "<polygon clip-path=\"url(#clip02)\" points=\"\n",
       "183.551,341.044 183.551,360.065 187.575,360.065 187.575,341.044 183.551,341.044 183.551,341.044 \n",
       "  \" fill=\"#009af9\" fill-opacity=\"1\"/>\n",
       "<polyline clip-path=\"url(#clip02)\" style=\"stroke:#000000; stroke-width:1; stroke-opacity:1; fill:none\" points=\"\n",
       "  183.551,341.044 183.551,360.065 187.575,360.065 187.575,341.044 183.551,341.044 \n",
       "  \"/>\n",
       "<polygon clip-path=\"url(#clip02)\" points=\"\n",
       "187.575,342.707 187.575,360.065 191.599,360.065 191.599,342.707 187.575,342.707 187.575,342.707 \n",
       "  \" fill=\"#009af9\" fill-opacity=\"1\"/>\n",
       "<polyline clip-path=\"url(#clip02)\" style=\"stroke:#000000; stroke-width:1; stroke-opacity:1; fill:none\" points=\"\n",
       "  187.575,342.707 187.575,360.065 191.599,360.065 191.599,342.707 187.575,342.707 \n",
       "  \"/>\n",
       "<polygon clip-path=\"url(#clip02)\" points=\"\n",
       "191.599,344.316 191.599,360.065 195.623,360.065 195.623,344.316 191.599,344.316 191.599,344.316 \n",
       "  \" fill=\"#009af9\" fill-opacity=\"1\"/>\n",
       "<polyline clip-path=\"url(#clip02)\" style=\"stroke:#000000; stroke-width:1; stroke-opacity:1; fill:none\" points=\"\n",
       "  191.599,344.316 191.599,360.065 195.623,360.065 195.623,344.316 191.599,344.316 \n",
       "  \"/>\n",
       "<polygon clip-path=\"url(#clip02)\" points=\"\n",
       "195.623,345.651 195.623,360.065 199.647,360.065 199.647,345.651 195.623,345.651 195.623,345.651 \n",
       "  \" fill=\"#009af9\" fill-opacity=\"1\"/>\n",
       "<polyline clip-path=\"url(#clip02)\" style=\"stroke:#000000; stroke-width:1; stroke-opacity:1; fill:none\" points=\"\n",
       "  195.623,345.651 195.623,360.065 199.647,360.065 199.647,345.651 195.623,345.651 \n",
       "  \"/>\n",
       "<polygon clip-path=\"url(#clip02)\" points=\"\n",
       "199.647,346.969 199.647,360.065 203.671,360.065 203.671,346.969 199.647,346.969 199.647,346.969 \n",
       "  \" fill=\"#009af9\" fill-opacity=\"1\"/>\n",
       "<polyline clip-path=\"url(#clip02)\" style=\"stroke:#000000; stroke-width:1; stroke-opacity:1; fill:none\" points=\"\n",
       "  199.647,346.969 199.647,360.065 203.671,360.065 203.671,346.969 199.647,346.969 \n",
       "  \"/>\n",
       "<polygon clip-path=\"url(#clip02)\" points=\"\n",
       "203.671,348.019 203.671,360.065 207.695,360.065 207.695,348.019 203.671,348.019 203.671,348.019 \n",
       "  \" fill=\"#009af9\" fill-opacity=\"1\"/>\n",
       "<polyline clip-path=\"url(#clip02)\" style=\"stroke:#000000; stroke-width:1; stroke-opacity:1; fill:none\" points=\"\n",
       "  203.671,348.019 203.671,360.065 207.695,360.065 207.695,348.019 203.671,348.019 \n",
       "  \"/>\n",
       "<polygon clip-path=\"url(#clip02)\" points=\"\n",
       "207.695,349.067 207.695,360.065 211.719,360.065 211.719,349.067 207.695,349.067 207.695,349.067 \n",
       "  \" fill=\"#009af9\" fill-opacity=\"1\"/>\n",
       "<polyline clip-path=\"url(#clip02)\" style=\"stroke:#000000; stroke-width:1; stroke-opacity:1; fill:none\" points=\"\n",
       "  207.695,349.067 207.695,360.065 211.719,360.065 211.719,349.067 207.695,349.067 \n",
       "  \"/>\n",
       "<polygon clip-path=\"url(#clip02)\" points=\"\n",
       "211.719,349.892 211.719,360.065 215.743,360.065 215.743,349.892 211.719,349.892 211.719,349.892 \n",
       "  \" fill=\"#009af9\" fill-opacity=\"1\"/>\n",
       "<polyline clip-path=\"url(#clip02)\" style=\"stroke:#000000; stroke-width:1; stroke-opacity:1; fill:none\" points=\"\n",
       "  211.719,349.892 211.719,360.065 215.743,360.065 215.743,349.892 211.719,349.892 \n",
       "  \"/>\n",
       "<polygon clip-path=\"url(#clip02)\" points=\"\n",
       "215.743,350.723 215.743,360.065 219.767,360.065 219.767,350.723 215.743,350.723 215.743,350.723 \n",
       "  \" fill=\"#009af9\" fill-opacity=\"1\"/>\n",
       "<polyline clip-path=\"url(#clip02)\" style=\"stroke:#000000; stroke-width:1; stroke-opacity:1; fill:none\" points=\"\n",
       "  215.743,350.723 215.743,360.065 219.767,360.065 219.767,350.723 215.743,350.723 \n",
       "  \"/>\n",
       "<polygon clip-path=\"url(#clip02)\" points=\"\n",
       "219.767,351.371 219.767,360.065 223.791,360.065 223.791,351.371 219.767,351.371 219.767,351.371 \n",
       "  \" fill=\"#009af9\" fill-opacity=\"1\"/>\n",
       "<polyline clip-path=\"url(#clip02)\" style=\"stroke:#000000; stroke-width:1; stroke-opacity:1; fill:none\" points=\"\n",
       "  219.767,351.371 219.767,360.065 223.791,360.065 223.791,351.371 219.767,351.371 \n",
       "  \"/>\n",
       "<polygon clip-path=\"url(#clip02)\" points=\"\n",
       "223.791,352.089 223.791,360.065 227.815,360.065 227.815,352.089 223.791,352.089 223.791,352.089 \n",
       "  \" fill=\"#009af9\" fill-opacity=\"1\"/>\n",
       "<polyline clip-path=\"url(#clip02)\" style=\"stroke:#000000; stroke-width:1; stroke-opacity:1; fill:none\" points=\"\n",
       "  223.791,352.089 223.791,360.065 227.815,360.065 227.815,352.089 223.791,352.089 \n",
       "  \"/>\n",
       "<polygon clip-path=\"url(#clip02)\" points=\"\n",
       "227.815,352.626 227.815,360.065 231.839,360.065 231.839,352.626 227.815,352.626 227.815,352.626 \n",
       "  \" fill=\"#009af9\" fill-opacity=\"1\"/>\n",
       "<polyline clip-path=\"url(#clip02)\" style=\"stroke:#000000; stroke-width:1; stroke-opacity:1; fill:none\" points=\"\n",
       "  227.815,352.626 227.815,360.065 231.839,360.065 231.839,352.626 227.815,352.626 \n",
       "  \"/>\n",
       "<polygon clip-path=\"url(#clip02)\" points=\"\n",
       "231.839,353.182 231.839,360.065 235.863,360.065 235.863,353.182 231.839,353.182 231.839,353.182 \n",
       "  \" fill=\"#009af9\" fill-opacity=\"1\"/>\n",
       "<polyline clip-path=\"url(#clip02)\" style=\"stroke:#000000; stroke-width:1; stroke-opacity:1; fill:none\" points=\"\n",
       "  231.839,353.182 231.839,360.065 235.863,360.065 235.863,353.182 231.839,353.182 \n",
       "  \"/>\n",
       "<polygon clip-path=\"url(#clip02)\" points=\"\n",
       "235.863,353.638 235.863,360.065 239.886,360.065 239.886,353.638 235.863,353.638 235.863,353.638 \n",
       "  \" fill=\"#009af9\" fill-opacity=\"1\"/>\n",
       "<polyline clip-path=\"url(#clip02)\" style=\"stroke:#000000; stroke-width:1; stroke-opacity:1; fill:none\" points=\"\n",
       "  235.863,353.638 235.863,360.065 239.886,360.065 239.886,353.638 235.863,353.638 \n",
       "  \"/>\n",
       "<polygon clip-path=\"url(#clip02)\" points=\"\n",
       "239.886,354.118 239.886,360.065 243.91,360.065 243.91,354.118 239.886,354.118 239.886,354.118 \n",
       "  \" fill=\"#009af9\" fill-opacity=\"1\"/>\n",
       "<polyline clip-path=\"url(#clip02)\" style=\"stroke:#000000; stroke-width:1; stroke-opacity:1; fill:none\" points=\"\n",
       "  239.886,354.118 239.886,360.065 243.91,360.065 243.91,354.118 239.886,354.118 \n",
       "  \"/>\n",
       "<polygon clip-path=\"url(#clip02)\" points=\"\n",
       "243.91,354.31 243.91,360.065 247.934,360.065 247.934,354.31 243.91,354.31 243.91,354.31 \n",
       "  \" fill=\"#009af9\" fill-opacity=\"1\"/>\n",
       "<polyline clip-path=\"url(#clip02)\" style=\"stroke:#000000; stroke-width:1; stroke-opacity:1; fill:none\" points=\"\n",
       "  243.91,354.31 243.91,360.065 247.934,360.065 247.934,354.31 243.91,354.31 \n",
       "  \"/>\n",
       "<polygon clip-path=\"url(#clip02)\" points=\"\n",
       "247.934,354.883 247.934,360.065 251.958,360.065 251.958,354.883 247.934,354.883 247.934,354.883 \n",
       "  \" fill=\"#009af9\" fill-opacity=\"1\"/>\n",
       "<polyline clip-path=\"url(#clip02)\" style=\"stroke:#000000; stroke-width:1; stroke-opacity:1; fill:none\" points=\"\n",
       "  247.934,354.883 247.934,360.065 251.958,360.065 251.958,354.883 247.934,354.883 \n",
       "  \"/>\n",
       "<polygon clip-path=\"url(#clip02)\" points=\"\n",
       "251.958,355.225 251.958,360.065 255.982,360.065 255.982,355.225 251.958,355.225 251.958,355.225 \n",
       "  \" fill=\"#009af9\" fill-opacity=\"1\"/>\n",
       "<polyline clip-path=\"url(#clip02)\" style=\"stroke:#000000; stroke-width:1; stroke-opacity:1; fill:none\" points=\"\n",
       "  251.958,355.225 251.958,360.065 255.982,360.065 255.982,355.225 251.958,355.225 \n",
       "  \"/>\n",
       "<polygon clip-path=\"url(#clip02)\" points=\"\n",
       "255.982,355.573 255.982,360.065 260.006,360.065 260.006,355.573 255.982,355.573 255.982,355.573 \n",
       "  \" fill=\"#009af9\" fill-opacity=\"1\"/>\n",
       "<polyline clip-path=\"url(#clip02)\" style=\"stroke:#000000; stroke-width:1; stroke-opacity:1; fill:none\" points=\"\n",
       "  255.982,355.573 255.982,360.065 260.006,360.065 260.006,355.573 255.982,355.573 \n",
       "  \"/>\n",
       "<polygon clip-path=\"url(#clip02)\" points=\"\n",
       "260.006,355.836 260.006,360.065 264.03,360.065 264.03,355.836 260.006,355.836 260.006,355.836 \n",
       "  \" fill=\"#009af9\" fill-opacity=\"1\"/>\n",
       "<polyline clip-path=\"url(#clip02)\" style=\"stroke:#000000; stroke-width:1; stroke-opacity:1; fill:none\" points=\"\n",
       "  260.006,355.836 260.006,360.065 264.03,360.065 264.03,355.836 260.006,355.836 \n",
       "  \"/>\n",
       "<polygon clip-path=\"url(#clip02)\" points=\"\n",
       "264.03,356.131 264.03,360.065 268.054,360.065 268.054,356.131 264.03,356.131 264.03,356.131 \n",
       "  \" fill=\"#009af9\" fill-opacity=\"1\"/>\n",
       "<polyline clip-path=\"url(#clip02)\" style=\"stroke:#000000; stroke-width:1; stroke-opacity:1; fill:none\" points=\"\n",
       "  264.03,356.131 264.03,360.065 268.054,360.065 268.054,356.131 264.03,356.131 \n",
       "  \"/>\n",
       "<polygon clip-path=\"url(#clip02)\" points=\"\n",
       "268.054,356.379 268.054,360.065 272.078,360.065 272.078,356.379 268.054,356.379 268.054,356.379 \n",
       "  \" fill=\"#009af9\" fill-opacity=\"1\"/>\n",
       "<polyline clip-path=\"url(#clip02)\" style=\"stroke:#000000; stroke-width:1; stroke-opacity:1; fill:none\" points=\"\n",
       "  268.054,356.379 268.054,360.065 272.078,360.065 272.078,356.379 268.054,356.379 \n",
       "  \"/>\n",
       "<polygon clip-path=\"url(#clip02)\" points=\"\n",
       "272.078,356.602 272.078,360.065 276.102,360.065 276.102,356.602 272.078,356.602 272.078,356.602 \n",
       "  \" fill=\"#009af9\" fill-opacity=\"1\"/>\n",
       "<polyline clip-path=\"url(#clip02)\" style=\"stroke:#000000; stroke-width:1; stroke-opacity:1; fill:none\" points=\"\n",
       "  272.078,356.602 272.078,360.065 276.102,360.065 276.102,356.602 272.078,356.602 \n",
       "  \"/>\n",
       "<polygon clip-path=\"url(#clip02)\" points=\"\n",
       "276.102,356.781 276.102,360.065 280.126,360.065 280.126,356.781 276.102,356.781 276.102,356.781 \n",
       "  \" fill=\"#009af9\" fill-opacity=\"1\"/>\n",
       "<polyline clip-path=\"url(#clip02)\" style=\"stroke:#000000; stroke-width:1; stroke-opacity:1; fill:none\" points=\"\n",
       "  276.102,356.781 276.102,360.065 280.126,360.065 280.126,356.781 276.102,356.781 \n",
       "  \"/>\n",
       "<polygon clip-path=\"url(#clip02)\" points=\"\n",
       "280.126,356.99 280.126,360.065 284.15,360.065 284.15,356.99 280.126,356.99 280.126,356.99 \n",
       "  \" fill=\"#009af9\" fill-opacity=\"1\"/>\n",
       "<polyline clip-path=\"url(#clip02)\" style=\"stroke:#000000; stroke-width:1; stroke-opacity:1; fill:none\" points=\"\n",
       "  280.126,356.99 280.126,360.065 284.15,360.065 284.15,356.99 280.126,356.99 \n",
       "  \"/>\n",
       "<polygon clip-path=\"url(#clip02)\" points=\"\n",
       "284.15,357.112 284.15,360.065 288.174,360.065 288.174,357.112 284.15,357.112 284.15,357.112 \n",
       "  \" fill=\"#009af9\" fill-opacity=\"1\"/>\n",
       "<polyline clip-path=\"url(#clip02)\" style=\"stroke:#000000; stroke-width:1; stroke-opacity:1; fill:none\" points=\"\n",
       "  284.15,357.112 284.15,360.065 288.174,360.065 288.174,357.112 284.15,357.112 \n",
       "  \"/>\n",
       "<polygon clip-path=\"url(#clip02)\" points=\"\n",
       "288.174,357.303 288.174,360.065 292.198,360.065 292.198,357.303 288.174,357.303 288.174,357.303 \n",
       "  \" fill=\"#009af9\" fill-opacity=\"1\"/>\n",
       "<polyline clip-path=\"url(#clip02)\" style=\"stroke:#000000; stroke-width:1; stroke-opacity:1; fill:none\" points=\"\n",
       "  288.174,357.303 288.174,360.065 292.198,360.065 292.198,357.303 288.174,357.303 \n",
       "  \"/>\n",
       "<polygon clip-path=\"url(#clip02)\" points=\"\n",
       "292.198,357.418 292.198,360.065 296.222,360.065 296.222,357.418 292.198,357.418 292.198,357.418 \n",
       "  \" fill=\"#009af9\" fill-opacity=\"1\"/>\n",
       "<polyline clip-path=\"url(#clip02)\" style=\"stroke:#000000; stroke-width:1; stroke-opacity:1; fill:none\" points=\"\n",
       "  292.198,357.418 292.198,360.065 296.222,360.065 296.222,357.418 292.198,357.418 \n",
       "  \"/>\n",
       "<polygon clip-path=\"url(#clip02)\" points=\"\n",
       "296.222,357.564 296.222,360.065 300.246,360.065 300.246,357.564 296.222,357.564 296.222,357.564 \n",
       "  \" fill=\"#009af9\" fill-opacity=\"1\"/>\n",
       "<polyline clip-path=\"url(#clip02)\" style=\"stroke:#000000; stroke-width:1; stroke-opacity:1; fill:none\" points=\"\n",
       "  296.222,357.564 296.222,360.065 300.246,360.065 300.246,357.564 296.222,357.564 \n",
       "  \"/>\n",
       "<polygon clip-path=\"url(#clip02)\" points=\"\n",
       "300.246,357.645 300.246,360.065 304.27,360.065 304.27,357.645 300.246,357.645 300.246,357.645 \n",
       "  \" fill=\"#009af9\" fill-opacity=\"1\"/>\n",
       "<polyline clip-path=\"url(#clip02)\" style=\"stroke:#000000; stroke-width:1; stroke-opacity:1; fill:none\" points=\"\n",
       "  300.246,357.645 300.246,360.065 304.27,360.065 304.27,357.645 300.246,357.645 \n",
       "  \"/>\n",
       "<polygon clip-path=\"url(#clip02)\" points=\"\n",
       "304.27,357.756 304.27,360.065 308.294,360.065 308.294,357.756 304.27,357.756 304.27,357.756 \n",
       "  \" fill=\"#009af9\" fill-opacity=\"1\"/>\n",
       "<polyline clip-path=\"url(#clip02)\" style=\"stroke:#000000; stroke-width:1; stroke-opacity:1; fill:none\" points=\"\n",
       "  304.27,357.756 304.27,360.065 308.294,360.065 308.294,357.756 304.27,357.756 \n",
       "  \"/>\n",
       "<polygon clip-path=\"url(#clip02)\" points=\"\n",
       "308.294,357.808 308.294,360.065 312.318,360.065 312.318,357.808 308.294,357.808 308.294,357.808 \n",
       "  \" fill=\"#009af9\" fill-opacity=\"1\"/>\n",
       "<polyline clip-path=\"url(#clip02)\" style=\"stroke:#000000; stroke-width:1; stroke-opacity:1; fill:none\" points=\"\n",
       "  308.294,357.808 308.294,360.065 312.318,360.065 312.318,357.808 308.294,357.808 \n",
       "  \"/>\n",
       "<polygon clip-path=\"url(#clip02)\" points=\"\n",
       "312.318,357.911 312.318,360.065 316.342,360.065 316.342,357.911 312.318,357.911 312.318,357.911 \n",
       "  \" fill=\"#009af9\" fill-opacity=\"1\"/>\n",
       "<polyline clip-path=\"url(#clip02)\" style=\"stroke:#000000; stroke-width:1; stroke-opacity:1; fill:none\" points=\"\n",
       "  312.318,357.911 312.318,360.065 316.342,360.065 316.342,357.911 312.318,357.911 \n",
       "  \"/>\n",
       "<polygon clip-path=\"url(#clip02)\" points=\"\n",
       "316.342,357.964 316.342,360.065 320.366,360.065 320.366,357.964 316.342,357.964 316.342,357.964 \n",
       "  \" fill=\"#009af9\" fill-opacity=\"1\"/>\n",
       "<polyline clip-path=\"url(#clip02)\" style=\"stroke:#000000; stroke-width:1; stroke-opacity:1; fill:none\" points=\"\n",
       "  316.342,357.964 316.342,360.065 320.366,360.065 320.366,357.964 316.342,357.964 \n",
       "  \"/>\n",
       "<polygon clip-path=\"url(#clip02)\" points=\"\n",
       "320.366,358.045 320.366,360.065 324.39,360.065 324.39,358.045 320.366,358.045 320.366,358.045 \n",
       "  \" fill=\"#009af9\" fill-opacity=\"1\"/>\n",
       "<polyline clip-path=\"url(#clip02)\" style=\"stroke:#000000; stroke-width:1; stroke-opacity:1; fill:none\" points=\"\n",
       "  320.366,358.045 320.366,360.065 324.39,360.065 324.39,358.045 320.366,358.045 \n",
       "  \"/>\n",
       "<polygon clip-path=\"url(#clip02)\" points=\"\n",
       "324.39,358.036 324.39,360.065 328.414,360.065 328.414,358.036 324.39,358.036 324.39,358.036 \n",
       "  \" fill=\"#009af9\" fill-opacity=\"1\"/>\n",
       "<polyline clip-path=\"url(#clip02)\" style=\"stroke:#000000; stroke-width:1; stroke-opacity:1; fill:none\" points=\"\n",
       "  324.39,358.036 324.39,360.065 328.414,360.065 328.414,358.036 324.39,358.036 \n",
       "  \"/>\n",
       "<polygon clip-path=\"url(#clip02)\" points=\"\n",
       "328.414,358.179 328.414,360.065 332.438,360.065 332.438,358.179 328.414,358.179 328.414,358.179 \n",
       "  \" fill=\"#009af9\" fill-opacity=\"1\"/>\n",
       "<polyline clip-path=\"url(#clip02)\" style=\"stroke:#000000; stroke-width:1; stroke-opacity:1; fill:none\" points=\"\n",
       "  328.414,358.179 328.414,360.065 332.438,360.065 332.438,358.179 328.414,358.179 \n",
       "  \"/>\n",
       "<polygon clip-path=\"url(#clip02)\" points=\"\n",
       "332.438,358.186 332.438,360.065 336.462,360.065 336.462,358.186 332.438,358.186 332.438,358.186 \n",
       "  \" fill=\"#009af9\" fill-opacity=\"1\"/>\n",
       "<polyline clip-path=\"url(#clip02)\" style=\"stroke:#000000; stroke-width:1; stroke-opacity:1; fill:none\" points=\"\n",
       "  332.438,358.186 332.438,360.065 336.462,360.065 336.462,358.186 332.438,358.186 \n",
       "  \"/>\n",
       "<polygon clip-path=\"url(#clip02)\" points=\"\n",
       "336.462,358.248 336.462,360.065 340.486,360.065 340.486,358.248 336.462,358.248 336.462,358.248 \n",
       "  \" fill=\"#009af9\" fill-opacity=\"1\"/>\n",
       "<polyline clip-path=\"url(#clip02)\" style=\"stroke:#000000; stroke-width:1; stroke-opacity:1; fill:none\" points=\"\n",
       "  336.462,358.248 336.462,360.065 340.486,360.065 340.486,358.248 336.462,358.248 \n",
       "  \"/>\n",
       "<polygon clip-path=\"url(#clip02)\" points=\"\n",
       "340.486,358.281 340.486,360.065 344.51,360.065 344.51,358.281 340.486,358.281 340.486,358.281 \n",
       "  \" fill=\"#009af9\" fill-opacity=\"1\"/>\n",
       "<polyline clip-path=\"url(#clip02)\" style=\"stroke:#000000; stroke-width:1; stroke-opacity:1; fill:none\" points=\"\n",
       "  340.486,358.281 340.486,360.065 344.51,360.065 344.51,358.281 340.486,358.281 \n",
       "  \"/>\n",
       "<polygon clip-path=\"url(#clip02)\" points=\"\n",
       "344.51,358.359 344.51,360.065 348.534,360.065 348.534,358.359 344.51,358.359 344.51,358.359 \n",
       "  \" fill=\"#009af9\" fill-opacity=\"1\"/>\n",
       "<polyline clip-path=\"url(#clip02)\" style=\"stroke:#000000; stroke-width:1; stroke-opacity:1; fill:none\" points=\"\n",
       "  344.51,358.359 344.51,360.065 348.534,360.065 348.534,358.359 344.51,358.359 \n",
       "  \"/>\n",
       "<polygon clip-path=\"url(#clip02)\" points=\"\n",
       "348.534,358.409 348.534,360.065 352.558,360.065 352.558,358.409 348.534,358.409 348.534,358.409 \n",
       "  \" fill=\"#009af9\" fill-opacity=\"1\"/>\n",
       "<polyline clip-path=\"url(#clip02)\" style=\"stroke:#000000; stroke-width:1; stroke-opacity:1; fill:none\" points=\"\n",
       "  348.534,358.409 348.534,360.065 352.558,360.065 352.558,358.409 348.534,358.409 \n",
       "  \"/>\n",
       "<polygon clip-path=\"url(#clip02)\" points=\"\n",
       "352.558,358.499 352.558,360.065 356.582,360.065 356.582,358.499 352.558,358.499 352.558,358.499 \n",
       "  \" fill=\"#009af9\" fill-opacity=\"1\"/>\n",
       "<polyline clip-path=\"url(#clip02)\" style=\"stroke:#000000; stroke-width:1; stroke-opacity:1; fill:none\" points=\"\n",
       "  352.558,358.499 352.558,360.065 356.582,360.065 356.582,358.499 352.558,358.499 \n",
       "  \"/>\n",
       "<polygon clip-path=\"url(#clip02)\" points=\"\n",
       "356.582,358.554 356.582,360.065 360.606,360.065 360.606,358.554 356.582,358.554 356.582,358.554 \n",
       "  \" fill=\"#009af9\" fill-opacity=\"1\"/>\n",
       "<polyline clip-path=\"url(#clip02)\" style=\"stroke:#000000; stroke-width:1; stroke-opacity:1; fill:none\" points=\"\n",
       "  356.582,358.554 356.582,360.065 360.606,360.065 360.606,358.554 356.582,358.554 \n",
       "  \"/>\n",
       "<polygon clip-path=\"url(#clip02)\" points=\"\n",
       "360.606,358.619 360.606,360.065 364.63,360.065 364.63,358.619 360.606,358.619 360.606,358.619 \n",
       "  \" fill=\"#009af9\" fill-opacity=\"1\"/>\n",
       "<polyline clip-path=\"url(#clip02)\" style=\"stroke:#000000; stroke-width:1; stroke-opacity:1; fill:none\" points=\"\n",
       "  360.606,358.619 360.606,360.065 364.63,360.065 364.63,358.619 360.606,358.619 \n",
       "  \"/>\n",
       "<polygon clip-path=\"url(#clip02)\" points=\"\n",
       "364.63,358.655 364.63,360.065 368.654,360.065 368.654,358.655 364.63,358.655 364.63,358.655 \n",
       "  \" fill=\"#009af9\" fill-opacity=\"1\"/>\n",
       "<polyline clip-path=\"url(#clip02)\" style=\"stroke:#000000; stroke-width:1; stroke-opacity:1; fill:none\" points=\"\n",
       "  364.63,358.655 364.63,360.065 368.654,360.065 368.654,358.655 364.63,358.655 \n",
       "  \"/>\n",
       "<polygon clip-path=\"url(#clip02)\" points=\"\n",
       "368.654,358.762 368.654,360.065 372.678,360.065 372.678,358.762 368.654,358.762 368.654,358.762 \n",
       "  \" fill=\"#009af9\" fill-opacity=\"1\"/>\n",
       "<polyline clip-path=\"url(#clip02)\" style=\"stroke:#000000; stroke-width:1; stroke-opacity:1; fill:none\" points=\"\n",
       "  368.654,358.762 368.654,360.065 372.678,360.065 372.678,358.762 368.654,358.762 \n",
       "  \"/>\n",
       "<polygon clip-path=\"url(#clip02)\" points=\"\n",
       "372.678,358.824 372.678,360.065 376.702,360.065 376.702,358.824 372.678,358.824 372.678,358.824 \n",
       "  \" fill=\"#009af9\" fill-opacity=\"1\"/>\n",
       "<polyline clip-path=\"url(#clip02)\" style=\"stroke:#000000; stroke-width:1; stroke-opacity:1; fill:none\" points=\"\n",
       "  372.678,358.824 372.678,360.065 376.702,360.065 376.702,358.824 372.678,358.824 \n",
       "  \"/>\n",
       "<polygon clip-path=\"url(#clip02)\" points=\"\n",
       "376.702,358.911 376.702,360.065 380.726,360.065 380.726,358.911 376.702,358.911 376.702,358.911 \n",
       "  \" fill=\"#009af9\" fill-opacity=\"1\"/>\n",
       "<polyline clip-path=\"url(#clip02)\" style=\"stroke:#000000; stroke-width:1; stroke-opacity:1; fill:none\" points=\"\n",
       "  376.702,358.911 376.702,360.065 380.726,360.065 380.726,358.911 376.702,358.911 \n",
       "  \"/>\n",
       "<polygon clip-path=\"url(#clip02)\" points=\"\n",
       "380.726,358.962 380.726,360.065 384.75,360.065 384.75,358.962 380.726,358.962 380.726,358.962 \n",
       "  \" fill=\"#009af9\" fill-opacity=\"1\"/>\n",
       "<polyline clip-path=\"url(#clip02)\" style=\"stroke:#000000; stroke-width:1; stroke-opacity:1; fill:none\" points=\"\n",
       "  380.726,358.962 380.726,360.065 384.75,360.065 384.75,358.962 380.726,358.962 \n",
       "  \"/>\n",
       "<polygon clip-path=\"url(#clip02)\" points=\"\n",
       "384.75,359.042 384.75,360.065 388.774,360.065 388.774,359.042 384.75,359.042 384.75,359.042 \n",
       "  \" fill=\"#009af9\" fill-opacity=\"1\"/>\n",
       "<polyline clip-path=\"url(#clip02)\" style=\"stroke:#000000; stroke-width:1; stroke-opacity:1; fill:none\" points=\"\n",
       "  384.75,359.042 384.75,360.065 388.774,360.065 388.774,359.042 384.75,359.042 \n",
       "  \"/>\n",
       "<polygon clip-path=\"url(#clip02)\" points=\"\n",
       "388.774,359.079 388.774,360.065 392.798,360.065 392.798,359.079 388.774,359.079 388.774,359.079 \n",
       "  \" fill=\"#009af9\" fill-opacity=\"1\"/>\n",
       "<polyline clip-path=\"url(#clip02)\" style=\"stroke:#000000; stroke-width:1; stroke-opacity:1; fill:none\" points=\"\n",
       "  388.774,359.079 388.774,360.065 392.798,360.065 392.798,359.079 388.774,359.079 \n",
       "  \"/>\n",
       "<polygon clip-path=\"url(#clip02)\" points=\"\n",
       "392.798,359.145 392.798,360.065 396.822,360.065 396.822,359.145 392.798,359.145 392.798,359.145 \n",
       "  \" fill=\"#009af9\" fill-opacity=\"1\"/>\n",
       "<polyline clip-path=\"url(#clip02)\" style=\"stroke:#000000; stroke-width:1; stroke-opacity:1; fill:none\" points=\"\n",
       "  392.798,359.145 392.798,360.065 396.822,360.065 396.822,359.145 392.798,359.145 \n",
       "  \"/>\n",
       "<polygon clip-path=\"url(#clip02)\" points=\"\n",
       "396.822,359.182 396.822,360.065 400.846,360.065 400.846,359.182 396.822,359.182 396.822,359.182 \n",
       "  \" fill=\"#009af9\" fill-opacity=\"1\"/>\n",
       "<polyline clip-path=\"url(#clip02)\" style=\"stroke:#000000; stroke-width:1; stroke-opacity:1; fill:none\" points=\"\n",
       "  396.822,359.182 396.822,360.065 400.846,360.065 400.846,359.182 396.822,359.182 \n",
       "  \"/>\n",
       "<polygon clip-path=\"url(#clip02)\" points=\"\n",
       "400.846,359.247 400.846,360.065 404.87,360.065 404.87,359.247 400.846,359.247 400.846,359.247 \n",
       "  \" fill=\"#009af9\" fill-opacity=\"1\"/>\n",
       "<polyline clip-path=\"url(#clip02)\" style=\"stroke:#000000; stroke-width:1; stroke-opacity:1; fill:none\" points=\"\n",
       "  400.846,359.247 400.846,360.065 404.87,360.065 404.87,359.247 400.846,359.247 \n",
       "  \"/>\n",
       "<polygon clip-path=\"url(#clip02)\" points=\"\n",
       "404.87,359.193 404.87,360.065 408.894,360.065 408.894,359.193 404.87,359.193 404.87,359.193 \n",
       "  \" fill=\"#009af9\" fill-opacity=\"1\"/>\n",
       "<polyline clip-path=\"url(#clip02)\" style=\"stroke:#000000; stroke-width:1; stroke-opacity:1; fill:none\" points=\"\n",
       "  404.87,359.193 404.87,360.065 408.894,360.065 408.894,359.193 404.87,359.193 \n",
       "  \"/>\n",
       "<polygon clip-path=\"url(#clip02)\" points=\"\n",
       "408.894,359.331 408.894,360.065 412.918,360.065 412.918,359.331 408.894,359.331 408.894,359.331 \n",
       "  \" fill=\"#009af9\" fill-opacity=\"1\"/>\n",
       "<polyline clip-path=\"url(#clip02)\" style=\"stroke:#000000; stroke-width:1; stroke-opacity:1; fill:none\" points=\"\n",
       "  408.894,359.331 408.894,360.065 412.918,360.065 412.918,359.331 408.894,359.331 \n",
       "  \"/>\n",
       "<polygon clip-path=\"url(#clip02)\" points=\"\n",
       "412.918,359.367 412.918,360.065 416.941,360.065 416.941,359.367 412.918,359.367 412.918,359.367 \n",
       "  \" fill=\"#009af9\" fill-opacity=\"1\"/>\n",
       "<polyline clip-path=\"url(#clip02)\" style=\"stroke:#000000; stroke-width:1; stroke-opacity:1; fill:none\" points=\"\n",
       "  412.918,359.367 412.918,360.065 416.941,360.065 416.941,359.367 412.918,359.367 \n",
       "  \"/>\n",
       "<polygon clip-path=\"url(#clip02)\" points=\"\n",
       "416.941,359.402 416.941,360.065 420.965,360.065 420.965,359.402 416.941,359.402 416.941,359.402 \n",
       "  \" fill=\"#009af9\" fill-opacity=\"1\"/>\n",
       "<polyline clip-path=\"url(#clip02)\" style=\"stroke:#000000; stroke-width:1; stroke-opacity:1; fill:none\" points=\"\n",
       "  416.941,359.402 416.941,360.065 420.965,360.065 420.965,359.402 416.941,359.402 \n",
       "  \"/>\n",
       "<polygon clip-path=\"url(#clip02)\" points=\"\n",
       "420.965,359.43 420.965,360.065 424.989,360.065 424.989,359.43 420.965,359.43 420.965,359.43 \n",
       "  \" fill=\"#009af9\" fill-opacity=\"1\"/>\n",
       "<polyline clip-path=\"url(#clip02)\" style=\"stroke:#000000; stroke-width:1; stroke-opacity:1; fill:none\" points=\"\n",
       "  420.965,359.43 420.965,360.065 424.989,360.065 424.989,359.43 420.965,359.43 \n",
       "  \"/>\n",
       "<polygon clip-path=\"url(#clip02)\" points=\"\n",
       "424.989,359.472 424.989,360.065 429.013,360.065 429.013,359.472 424.989,359.472 424.989,359.472 \n",
       "  \" fill=\"#009af9\" fill-opacity=\"1\"/>\n",
       "<polyline clip-path=\"url(#clip02)\" style=\"stroke:#000000; stroke-width:1; stroke-opacity:1; fill:none\" points=\"\n",
       "  424.989,359.472 424.989,360.065 429.013,360.065 429.013,359.472 424.989,359.472 \n",
       "  \"/>\n",
       "<polygon clip-path=\"url(#clip02)\" points=\"\n",
       "429.013,359.494 429.013,360.065 433.037,360.065 433.037,359.494 429.013,359.494 429.013,359.494 \n",
       "  \" fill=\"#009af9\" fill-opacity=\"1\"/>\n",
       "<polyline clip-path=\"url(#clip02)\" style=\"stroke:#000000; stroke-width:1; stroke-opacity:1; fill:none\" points=\"\n",
       "  429.013,359.494 429.013,360.065 433.037,360.065 433.037,359.494 429.013,359.494 \n",
       "  \"/>\n",
       "<polygon clip-path=\"url(#clip02)\" points=\"\n",
       "433.037,359.536 433.037,360.065 437.061,360.065 437.061,359.536 433.037,359.536 433.037,359.536 \n",
       "  \" fill=\"#009af9\" fill-opacity=\"1\"/>\n",
       "<polyline clip-path=\"url(#clip02)\" style=\"stroke:#000000; stroke-width:1; stroke-opacity:1; fill:none\" points=\"\n",
       "  433.037,359.536 433.037,360.065 437.061,360.065 437.061,359.536 433.037,359.536 \n",
       "  \"/>\n",
       "<polygon clip-path=\"url(#clip02)\" points=\"\n",
       "437.061,359.543 437.061,360.065 441.085,360.065 441.085,359.543 437.061,359.543 437.061,359.543 \n",
       "  \" fill=\"#009af9\" fill-opacity=\"1\"/>\n",
       "<polyline clip-path=\"url(#clip02)\" style=\"stroke:#000000; stroke-width:1; stroke-opacity:1; fill:none\" points=\"\n",
       "  437.061,359.543 437.061,360.065 441.085,360.065 441.085,359.543 437.061,359.543 \n",
       "  \"/>\n",
       "<polygon clip-path=\"url(#clip02)\" points=\"\n",
       "441.085,359.586 441.085,360.065 445.109,360.065 445.109,359.586 441.085,359.586 441.085,359.586 \n",
       "  \" fill=\"#009af9\" fill-opacity=\"1\"/>\n",
       "<polyline clip-path=\"url(#clip02)\" style=\"stroke:#000000; stroke-width:1; stroke-opacity:1; fill:none\" points=\"\n",
       "  441.085,359.586 441.085,360.065 445.109,360.065 445.109,359.586 441.085,359.586 \n",
       "  \"/>\n",
       "<polygon clip-path=\"url(#clip02)\" points=\"\n",
       "445.109,359.512 445.109,360.065 449.133,360.065 449.133,359.512 445.109,359.512 445.109,359.512 \n",
       "  \" fill=\"#009af9\" fill-opacity=\"1\"/>\n",
       "<polyline clip-path=\"url(#clip02)\" style=\"stroke:#000000; stroke-width:1; stroke-opacity:1; fill:none\" points=\"\n",
       "  445.109,359.512 445.109,360.065 449.133,360.065 449.133,359.512 445.109,359.512 \n",
       "  \"/>\n",
       "<polygon clip-path=\"url(#clip02)\" points=\"\n",
       "449.133,359.657 449.133,360.065 453.157,360.065 453.157,359.657 449.133,359.657 449.133,359.657 \n",
       "  \" fill=\"#009af9\" fill-opacity=\"1\"/>\n",
       "<polyline clip-path=\"url(#clip02)\" style=\"stroke:#000000; stroke-width:1; stroke-opacity:1; fill:none\" points=\"\n",
       "  449.133,359.657 449.133,360.065 453.157,360.065 453.157,359.657 449.133,359.657 \n",
       "  \"/>\n",
       "<polygon clip-path=\"url(#clip02)\" points=\"\n",
       "453.157,359.683 453.157,360.065 457.181,360.065 457.181,359.683 453.157,359.683 453.157,359.683 \n",
       "  \" fill=\"#009af9\" fill-opacity=\"1\"/>\n",
       "<polyline clip-path=\"url(#clip02)\" style=\"stroke:#000000; stroke-width:1; stroke-opacity:1; fill:none\" points=\"\n",
       "  453.157,359.683 453.157,360.065 457.181,360.065 457.181,359.683 453.157,359.683 \n",
       "  \"/>\n",
       "<polygon clip-path=\"url(#clip02)\" points=\"\n",
       "457.181,359.721 457.181,360.065 461.205,360.065 461.205,359.721 457.181,359.721 457.181,359.721 \n",
       "  \" fill=\"#009af9\" fill-opacity=\"1\"/>\n",
       "<polyline clip-path=\"url(#clip02)\" style=\"stroke:#000000; stroke-width:1; stroke-opacity:1; fill:none\" points=\"\n",
       "  457.181,359.721 457.181,360.065 461.205,360.065 461.205,359.721 457.181,359.721 \n",
       "  \"/>\n",
       "<polygon clip-path=\"url(#clip02)\" points=\"\n",
       "461.205,359.739 461.205,360.065 465.229,360.065 465.229,359.739 461.205,359.739 461.205,359.739 \n",
       "  \" fill=\"#009af9\" fill-opacity=\"1\"/>\n",
       "<polyline clip-path=\"url(#clip02)\" style=\"stroke:#000000; stroke-width:1; stroke-opacity:1; fill:none\" points=\"\n",
       "  461.205,359.739 461.205,360.065 465.229,360.065 465.229,359.739 461.205,359.739 \n",
       "  \"/>\n",
       "<polygon clip-path=\"url(#clip02)\" points=\"\n",
       "465.229,359.762 465.229,360.065 469.253,360.065 469.253,359.762 465.229,359.762 465.229,359.762 \n",
       "  \" fill=\"#009af9\" fill-opacity=\"1\"/>\n",
       "<polyline clip-path=\"url(#clip02)\" style=\"stroke:#000000; stroke-width:1; stroke-opacity:1; fill:none\" points=\"\n",
       "  465.229,359.762 465.229,360.065 469.253,360.065 469.253,359.762 465.229,359.762 \n",
       "  \"/>\n",
       "<polygon clip-path=\"url(#clip02)\" points=\"\n",
       "469.253,359.777 469.253,360.065 473.277,360.065 473.277,359.777 469.253,359.777 469.253,359.777 \n",
       "  \" fill=\"#009af9\" fill-opacity=\"1\"/>\n",
       "<polyline clip-path=\"url(#clip02)\" style=\"stroke:#000000; stroke-width:1; stroke-opacity:1; fill:none\" points=\"\n",
       "  469.253,359.777 469.253,360.065 473.277,360.065 473.277,359.777 469.253,359.777 \n",
       "  \"/>\n",
       "<polygon clip-path=\"url(#clip02)\" points=\"\n",
       "473.277,359.801 473.277,360.065 477.301,360.065 477.301,359.801 473.277,359.801 473.277,359.801 \n",
       "  \" fill=\"#009af9\" fill-opacity=\"1\"/>\n",
       "<polyline clip-path=\"url(#clip02)\" style=\"stroke:#000000; stroke-width:1; stroke-opacity:1; fill:none\" points=\"\n",
       "  473.277,359.801 473.277,360.065 477.301,360.065 477.301,359.801 473.277,359.801 \n",
       "  \"/>\n",
       "<polygon clip-path=\"url(#clip02)\" points=\"\n",
       "477.301,359.812 477.301,360.065 481.325,360.065 481.325,359.812 477.301,359.812 477.301,359.812 \n",
       "  \" fill=\"#009af9\" fill-opacity=\"1\"/>\n",
       "<polyline clip-path=\"url(#clip02)\" style=\"stroke:#000000; stroke-width:1; stroke-opacity:1; fill:none\" points=\"\n",
       "  477.301,359.812 477.301,360.065 481.325,360.065 481.325,359.812 477.301,359.812 \n",
       "  \"/>\n",
       "<polygon clip-path=\"url(#clip02)\" points=\"\n",
       "481.325,359.836 481.325,360.065 485.349,360.065 485.349,359.836 481.325,359.836 481.325,359.836 \n",
       "  \" fill=\"#009af9\" fill-opacity=\"1\"/>\n",
       "<polyline clip-path=\"url(#clip02)\" style=\"stroke:#000000; stroke-width:1; stroke-opacity:1; fill:none\" points=\"\n",
       "  481.325,359.836 481.325,360.065 485.349,360.065 485.349,359.836 481.325,359.836 \n",
       "  \"/>\n",
       "<polygon clip-path=\"url(#clip02)\" points=\"\n",
       "485.349,359.711 485.349,360.065 489.373,360.065 489.373,359.711 485.349,359.711 485.349,359.711 \n",
       "  \" fill=\"#009af9\" fill-opacity=\"1\"/>\n",
       "<polyline clip-path=\"url(#clip02)\" style=\"stroke:#000000; stroke-width:1; stroke-opacity:1; fill:none\" points=\"\n",
       "  485.349,359.711 485.349,360.065 489.373,360.065 489.373,359.711 485.349,359.711 \n",
       "  \"/>\n",
       "<polygon clip-path=\"url(#clip02)\" points=\"\n",
       "489.373,359.856 489.373,360.065 493.397,360.065 493.397,359.856 489.373,359.856 489.373,359.856 \n",
       "  \" fill=\"#009af9\" fill-opacity=\"1\"/>\n",
       "<polyline clip-path=\"url(#clip02)\" style=\"stroke:#000000; stroke-width:1; stroke-opacity:1; fill:none\" points=\"\n",
       "  489.373,359.856 489.373,360.065 493.397,360.065 493.397,359.856 489.373,359.856 \n",
       "  \"/>\n",
       "<polygon clip-path=\"url(#clip02)\" points=\"\n",
       "493.397,359.866 493.397,360.065 497.421,360.065 497.421,359.866 493.397,359.866 493.397,359.866 \n",
       "  \" fill=\"#009af9\" fill-opacity=\"1\"/>\n",
       "<polyline clip-path=\"url(#clip02)\" style=\"stroke:#000000; stroke-width:1; stroke-opacity:1; fill:none\" points=\"\n",
       "  493.397,359.866 493.397,360.065 497.421,360.065 497.421,359.866 493.397,359.866 \n",
       "  \"/>\n",
       "<polygon clip-path=\"url(#clip02)\" points=\"\n",
       "497.421,359.875 497.421,360.065 501.445,360.065 501.445,359.875 497.421,359.875 497.421,359.875 \n",
       "  \" fill=\"#009af9\" fill-opacity=\"1\"/>\n",
       "<polyline clip-path=\"url(#clip02)\" style=\"stroke:#000000; stroke-width:1; stroke-opacity:1; fill:none\" points=\"\n",
       "  497.421,359.875 497.421,360.065 501.445,360.065 501.445,359.875 497.421,359.875 \n",
       "  \"/>\n",
       "<polygon clip-path=\"url(#clip02)\" points=\"\n",
       "501.445,340.453 501.445,360.065 505.469,360.065 505.469,340.453 501.445,340.453 501.445,340.453 \n",
       "  \" fill=\"#009af9\" fill-opacity=\"1\"/>\n",
       "<polyline clip-path=\"url(#clip02)\" style=\"stroke:#000000; stroke-width:1; stroke-opacity:1; fill:none\" points=\"\n",
       "  501.445,340.453 501.445,360.065 505.469,360.065 505.469,340.453 501.445,340.453 \n",
       "  \"/>\n",
       "<polygon clip-path=\"url(#clip02)\" points=\"\n",
       "505.469,359.89 505.469,360.065 509.493,360.065 509.493,359.89 505.469,359.89 505.469,359.89 \n",
       "  \" fill=\"#009af9\" fill-opacity=\"1\"/>\n",
       "<polyline clip-path=\"url(#clip02)\" style=\"stroke:#000000; stroke-width:1; stroke-opacity:1; fill:none\" points=\"\n",
       "  505.469,359.89 505.469,360.065 509.493,360.065 509.493,359.89 505.469,359.89 \n",
       "  \"/>\n",
       "<polygon clip-path=\"url(#clip02)\" points=\"\n",
       "509.493,359.9 509.493,360.065 513.517,360.065 513.517,359.9 509.493,359.9 509.493,359.9 \n",
       "  \" fill=\"#009af9\" fill-opacity=\"1\"/>\n",
       "<polyline clip-path=\"url(#clip02)\" style=\"stroke:#000000; stroke-width:1; stroke-opacity:1; fill:none\" points=\"\n",
       "  509.493,359.9 509.493,360.065 513.517,360.065 513.517,359.9 509.493,359.9 \n",
       "  \"/>\n",
       "<polygon clip-path=\"url(#clip02)\" points=\"\n",
       "513.517,359.911 513.517,360.065 517.541,360.065 517.541,359.911 513.517,359.911 513.517,359.911 \n",
       "  \" fill=\"#009af9\" fill-opacity=\"1\"/>\n",
       "<polyline clip-path=\"url(#clip02)\" style=\"stroke:#000000; stroke-width:1; stroke-opacity:1; fill:none\" points=\"\n",
       "  513.517,359.911 513.517,360.065 517.541,360.065 517.541,359.911 513.517,359.911 \n",
       "  \"/>\n",
       "<polygon clip-path=\"url(#clip02)\" points=\"\n",
       "517.541,359.916 517.541,360.065 521.565,360.065 521.565,359.916 517.541,359.916 517.541,359.916 \n",
       "  \" fill=\"#009af9\" fill-opacity=\"1\"/>\n",
       "<polyline clip-path=\"url(#clip02)\" style=\"stroke:#000000; stroke-width:1; stroke-opacity:1; fill:none\" points=\"\n",
       "  517.541,359.916 517.541,360.065 521.565,360.065 521.565,359.916 517.541,359.916 \n",
       "  \"/>\n",
       "<polygon clip-path=\"url(#clip02)\" points=\"\n",
       "521.565,359.925 521.565,360.065 525.589,360.065 525.589,359.925 521.565,359.925 521.565,359.925 \n",
       "  \" fill=\"#009af9\" fill-opacity=\"1\"/>\n",
       "<polyline clip-path=\"url(#clip02)\" style=\"stroke:#000000; stroke-width:1; stroke-opacity:1; fill:none\" points=\"\n",
       "  521.565,359.925 521.565,360.065 525.589,360.065 525.589,359.925 521.565,359.925 \n",
       "  \"/>\n",
       "<polygon clip-path=\"url(#clip02)\" points=\"\n",
       "525.589,359.891 525.589,360.065 529.613,360.065 529.613,359.891 525.589,359.891 525.589,359.891 \n",
       "  \" fill=\"#009af9\" fill-opacity=\"1\"/>\n",
       "<polyline clip-path=\"url(#clip02)\" style=\"stroke:#000000; stroke-width:1; stroke-opacity:1; fill:none\" points=\"\n",
       "  525.589,359.891 525.589,360.065 529.613,360.065 529.613,359.891 525.589,359.891 \n",
       "  \"/>\n",
       "<polygon clip-path=\"url(#clip02)\" points=\"\n",
       "529.613,359.936 529.613,360.065 533.637,360.065 533.637,359.936 529.613,359.936 529.613,359.936 \n",
       "  \" fill=\"#009af9\" fill-opacity=\"1\"/>\n",
       "<polyline clip-path=\"url(#clip02)\" style=\"stroke:#000000; stroke-width:1; stroke-opacity:1; fill:none\" points=\"\n",
       "  529.613,359.936 529.613,360.065 533.637,360.065 533.637,359.936 529.613,359.936 \n",
       "  \"/>\n",
       "<polygon clip-path=\"url(#clip02)\" points=\"\n",
       "533.637,359.942 533.637,360.065 537.661,360.065 537.661,359.942 533.637,359.942 533.637,359.942 \n",
       "  \" fill=\"#009af9\" fill-opacity=\"1\"/>\n",
       "<polyline clip-path=\"url(#clip02)\" style=\"stroke:#000000; stroke-width:1; stroke-opacity:1; fill:none\" points=\"\n",
       "  533.637,359.942 533.637,360.065 537.661,360.065 537.661,359.942 533.637,359.942 \n",
       "  \"/>\n",
       "<polygon clip-path=\"url(#clip02)\" points=\"\n",
       "537.661,359.953 537.661,360.065 541.685,360.065 541.685,359.953 537.661,359.953 537.661,359.953 \n",
       "  \" fill=\"#009af9\" fill-opacity=\"1\"/>\n",
       "<polyline clip-path=\"url(#clip02)\" style=\"stroke:#000000; stroke-width:1; stroke-opacity:1; fill:none\" points=\"\n",
       "  537.661,359.953 537.661,360.065 541.685,360.065 541.685,359.953 537.661,359.953 \n",
       "  \"/>\n",
       "<polygon clip-path=\"url(#clip02)\" points=\"\n",
       "541.685,359.949 541.685,360.065 545.709,360.065 545.709,359.949 541.685,359.949 541.685,359.949 \n",
       "  \" fill=\"#009af9\" fill-opacity=\"1\"/>\n",
       "<polyline clip-path=\"url(#clip02)\" style=\"stroke:#000000; stroke-width:1; stroke-opacity:1; fill:none\" points=\"\n",
       "  541.685,359.949 541.685,360.065 545.709,360.065 545.709,359.949 541.685,359.949 \n",
       "  \"/>\n",
       "<polygon clip-path=\"url(#clip02)\" points=\"\n",
       "545.709,359.96 545.709,360.065 549.733,360.065 549.733,359.96 545.709,359.96 545.709,359.96 \n",
       "  \" fill=\"#009af9\" fill-opacity=\"1\"/>\n",
       "<polyline clip-path=\"url(#clip02)\" style=\"stroke:#000000; stroke-width:1; stroke-opacity:1; fill:none\" points=\"\n",
       "  545.709,359.96 545.709,360.065 549.733,360.065 549.733,359.96 545.709,359.96 \n",
       "  \"/>\n",
       "<polygon clip-path=\"url(#clip02)\" points=\"\n",
       "549.733,359.934 549.733,360.065 553.757,360.065 553.757,359.934 549.733,359.934 549.733,359.934 \n",
       "  \" fill=\"#009af9\" fill-opacity=\"1\"/>\n",
       "<polyline clip-path=\"url(#clip02)\" style=\"stroke:#000000; stroke-width:1; stroke-opacity:1; fill:none\" points=\"\n",
       "  549.733,359.934 549.733,360.065 553.757,360.065 553.757,359.934 549.733,359.934 \n",
       "  \"/>\n",
       "<polygon clip-path=\"url(#clip02)\" points=\"\n",
       "553.757,359.965 553.757,360.065 557.781,360.065 557.781,359.965 553.757,359.965 553.757,359.965 \n",
       "  \" fill=\"#009af9\" fill-opacity=\"1\"/>\n",
       "<polyline clip-path=\"url(#clip02)\" style=\"stroke:#000000; stroke-width:1; stroke-opacity:1; fill:none\" points=\"\n",
       "  553.757,359.965 553.757,360.065 557.781,360.065 557.781,359.965 553.757,359.965 \n",
       "  \"/>\n",
       "<polygon clip-path=\"url(#clip02)\" points=\"\n",
       "557.781,359.929 557.781,360.065 561.805,360.065 561.805,359.929 557.781,359.929 557.781,359.929 \n",
       "  \" fill=\"#009af9\" fill-opacity=\"1\"/>\n",
       "<polyline clip-path=\"url(#clip02)\" style=\"stroke:#000000; stroke-width:1; stroke-opacity:1; fill:none\" points=\"\n",
       "  557.781,359.929 557.781,360.065 561.805,360.065 561.805,359.929 557.781,359.929 \n",
       "  \"/>\n",
       "<polygon clip-path=\"url(#clip02)\" points=\"\n",
       "561.805,359.976 561.805,360.065 565.829,360.065 565.829,359.976 561.805,359.976 561.805,359.976 \n",
       "  \" fill=\"#009af9\" fill-opacity=\"1\"/>\n",
       "<polyline clip-path=\"url(#clip02)\" style=\"stroke:#000000; stroke-width:1; stroke-opacity:1; fill:none\" points=\"\n",
       "  561.805,359.976 561.805,360.065 565.829,360.065 565.829,359.976 561.805,359.976 \n",
       "  \"/>\n",
       "<polygon clip-path=\"url(#clip02)\" points=\"\n",
       "82.9514,31.4961 82.9514,360.065 86.9754,360.065 86.9754,31.4961 82.9514,31.4961 82.9514,31.4961 \n",
       "  \" fill=\"#e26f46\" fill-opacity=\"1\"/>\n",
       "<polyline clip-path=\"url(#clip02)\" style=\"stroke:#000000; stroke-width:1; stroke-opacity:1; fill:none\" points=\"\n",
       "  82.9514,31.4961 82.9514,360.065 86.9754,360.065 86.9754,31.4961 82.9514,31.4961 \n",
       "  \"/>\n",
       "<polygon clip-path=\"url(#clip02)\" points=\"\n",
       "86.9754,341.51 86.9754,360.065 90.9993,360.065 90.9993,341.51 86.9754,341.51 86.9754,341.51 \n",
       "  \" fill=\"#e26f46\" fill-opacity=\"1\"/>\n",
       "<polyline clip-path=\"url(#clip02)\" style=\"stroke:#000000; stroke-width:1; stroke-opacity:1; fill:none\" points=\"\n",
       "  86.9754,341.51 86.9754,360.065 90.9993,360.065 90.9993,341.51 86.9754,341.51 \n",
       "  \"/>\n",
       "<polygon clip-path=\"url(#clip02)\" points=\"\n",
       "90.9993,213.49 90.9993,360.065 95.0233,360.065 95.0233,213.49 90.9993,213.49 90.9993,213.49 \n",
       "  \" fill=\"#e26f46\" fill-opacity=\"1\"/>\n",
       "<polyline clip-path=\"url(#clip02)\" style=\"stroke:#000000; stroke-width:1; stroke-opacity:1; fill:none\" points=\"\n",
       "  90.9993,213.49 90.9993,360.065 95.0233,360.065 95.0233,213.49 90.9993,213.49 \n",
       "  \"/>\n",
       "<polygon clip-path=\"url(#clip02)\" points=\"\n",
       "95.0233,249.085 95.0233,360.065 99.0473,360.065 99.0473,249.085 95.0233,249.085 95.0233,249.085 \n",
       "  \" fill=\"#e26f46\" fill-opacity=\"1\"/>\n",
       "<polyline clip-path=\"url(#clip02)\" style=\"stroke:#000000; stroke-width:1; stroke-opacity:1; fill:none\" points=\"\n",
       "  95.0233,249.085 95.0233,360.065 99.0473,360.065 99.0473,249.085 95.0233,249.085 \n",
       "  \"/>\n",
       "<polygon clip-path=\"url(#clip02)\" points=\"\n",
       "99.0473,253.041 99.0473,360.065 103.071,360.065 103.071,253.041 99.0473,253.041 99.0473,253.041 \n",
       "  \" fill=\"#e26f46\" fill-opacity=\"1\"/>\n",
       "<polyline clip-path=\"url(#clip02)\" style=\"stroke:#000000; stroke-width:1; stroke-opacity:1; fill:none\" points=\"\n",
       "  99.0473,253.041 99.0473,360.065 103.071,360.065 103.071,253.041 99.0473,253.041 \n",
       "  \"/>\n",
       "<polygon clip-path=\"url(#clip02)\" points=\"\n",
       "103.071,307.591 103.071,360.065 107.095,360.065 107.095,307.591 103.071,307.591 103.071,307.591 \n",
       "  \" fill=\"#e26f46\" fill-opacity=\"1\"/>\n",
       "<polyline clip-path=\"url(#clip02)\" style=\"stroke:#000000; stroke-width:1; stroke-opacity:1; fill:none\" points=\"\n",
       "  103.071,307.591 103.071,360.065 107.095,360.065 107.095,307.591 103.071,307.591 \n",
       "  \"/>\n",
       "<polygon clip-path=\"url(#clip02)\" points=\"\n",
       "107.095,318.784 107.095,360.065 111.119,360.065 111.119,318.784 107.095,318.784 107.095,318.784 \n",
       "  \" fill=\"#e26f46\" fill-opacity=\"1\"/>\n",
       "<polyline clip-path=\"url(#clip02)\" style=\"stroke:#000000; stroke-width:1; stroke-opacity:1; fill:none\" points=\"\n",
       "  107.095,318.784 107.095,360.065 111.119,360.065 111.119,318.784 107.095,318.784 \n",
       "  \"/>\n",
       "<polygon clip-path=\"url(#clip02)\" points=\"\n",
       "111.119,337.142 111.119,360.065 115.143,360.065 115.143,337.142 111.119,337.142 111.119,337.142 \n",
       "  \" fill=\"#e26f46\" fill-opacity=\"1\"/>\n",
       "<polyline clip-path=\"url(#clip02)\" style=\"stroke:#000000; stroke-width:1; stroke-opacity:1; fill:none\" points=\"\n",
       "  111.119,337.142 111.119,360.065 115.143,360.065 115.143,337.142 111.119,337.142 \n",
       "  \"/>\n",
       "<polygon clip-path=\"url(#clip02)\" points=\"\n",
       "115.143,341.586 115.143,360.065 119.167,360.065 119.167,341.586 115.143,341.586 115.143,341.586 \n",
       "  \" fill=\"#e26f46\" fill-opacity=\"1\"/>\n",
       "<polyline clip-path=\"url(#clip02)\" style=\"stroke:#000000; stroke-width:1; stroke-opacity:1; fill:none\" points=\"\n",
       "  115.143,341.586 115.143,360.065 119.167,360.065 119.167,341.586 115.143,341.586 \n",
       "  \"/>\n",
       "<polygon clip-path=\"url(#clip02)\" points=\"\n",
       "119.167,349.46 119.167,360.065 123.191,360.065 123.191,349.46 119.167,349.46 119.167,349.46 \n",
       "  \" fill=\"#e26f46\" fill-opacity=\"1\"/>\n",
       "<polyline clip-path=\"url(#clip02)\" style=\"stroke:#000000; stroke-width:1; stroke-opacity:1; fill:none\" points=\"\n",
       "  119.167,349.46 119.167,360.065 123.191,360.065 123.191,349.46 119.167,349.46 \n",
       "  \"/>\n",
       "<polygon clip-path=\"url(#clip02)\" points=\"\n",
       "123.191,346.448 123.191,360.065 127.215,360.065 127.215,346.448 123.191,346.448 123.191,346.448 \n",
       "  \" fill=\"#e26f46\" fill-opacity=\"1\"/>\n",
       "<polyline clip-path=\"url(#clip02)\" style=\"stroke:#000000; stroke-width:1; stroke-opacity:1; fill:none\" points=\"\n",
       "  123.191,346.448 123.191,360.065 127.215,360.065 127.215,346.448 123.191,346.448 \n",
       "  \"/>\n",
       "<polygon clip-path=\"url(#clip02)\" points=\"\n",
       "127.215,354.364 127.215,360.065 131.239,360.065 131.239,354.364 127.215,354.364 127.215,354.364 \n",
       "  \" fill=\"#e26f46\" fill-opacity=\"1\"/>\n",
       "<polyline clip-path=\"url(#clip02)\" style=\"stroke:#000000; stroke-width:1; stroke-opacity:1; fill:none\" points=\"\n",
       "  127.215,354.364 127.215,360.065 131.239,360.065 131.239,354.364 127.215,354.364 \n",
       "  \"/>\n",
       "<polygon clip-path=\"url(#clip02)\" points=\"\n",
       "131.239,354.039 131.239,360.065 135.263,360.065 135.263,354.039 131.239,354.039 131.239,354.039 \n",
       "  \" fill=\"#e26f46\" fill-opacity=\"1\"/>\n",
       "<polyline clip-path=\"url(#clip02)\" style=\"stroke:#000000; stroke-width:1; stroke-opacity:1; fill:none\" points=\"\n",
       "  131.239,354.039 131.239,360.065 135.263,360.065 135.263,354.039 131.239,354.039 \n",
       "  \"/>\n",
       "<polygon clip-path=\"url(#clip02)\" points=\"\n",
       "135.263,355.757 135.263,360.065 139.287,360.065 139.287,355.757 135.263,355.757 135.263,355.757 \n",
       "  \" fill=\"#e26f46\" fill-opacity=\"1\"/>\n",
       "<polyline clip-path=\"url(#clip02)\" style=\"stroke:#000000; stroke-width:1; stroke-opacity:1; fill:none\" points=\"\n",
       "  135.263,355.757 135.263,360.065 139.287,360.065 139.287,355.757 135.263,355.757 \n",
       "  \"/>\n",
       "<polygon clip-path=\"url(#clip02)\" points=\"\n",
       "139.287,355.308 139.287,360.065 143.311,360.065 143.311,355.308 139.287,355.308 139.287,355.308 \n",
       "  \" fill=\"#e26f46\" fill-opacity=\"1\"/>\n",
       "<polyline clip-path=\"url(#clip02)\" style=\"stroke:#000000; stroke-width:1; stroke-opacity:1; fill:none\" points=\"\n",
       "  139.287,355.308 139.287,360.065 143.311,360.065 143.311,355.308 139.287,355.308 \n",
       "  \"/>\n",
       "<polygon clip-path=\"url(#clip02)\" points=\"\n",
       "143.311,356.495 143.311,360.065 147.335,360.065 147.335,356.495 143.311,356.495 143.311,356.495 \n",
       "  \" fill=\"#e26f46\" fill-opacity=\"1\"/>\n",
       "<polyline clip-path=\"url(#clip02)\" style=\"stroke:#000000; stroke-width:1; stroke-opacity:1; fill:none\" points=\"\n",
       "  143.311,356.495 143.311,360.065 147.335,360.065 147.335,356.495 143.311,356.495 \n",
       "  \"/>\n",
       "<polygon clip-path=\"url(#clip02)\" points=\"\n",
       "147.335,355.871 147.335,360.065 151.359,360.065 151.359,355.871 147.335,355.871 147.335,355.871 \n",
       "  \" fill=\"#e26f46\" fill-opacity=\"1\"/>\n",
       "<polyline clip-path=\"url(#clip02)\" style=\"stroke:#000000; stroke-width:1; stroke-opacity:1; fill:none\" points=\"\n",
       "  147.335,355.871 147.335,360.065 151.359,360.065 151.359,355.871 147.335,355.871 \n",
       "  \"/>\n",
       "<polygon clip-path=\"url(#clip02)\" points=\"\n",
       "151.359,357.46 151.359,360.065 155.383,360.065 155.383,357.46 151.359,357.46 151.359,357.46 \n",
       "  \" fill=\"#e26f46\" fill-opacity=\"1\"/>\n",
       "<polyline clip-path=\"url(#clip02)\" style=\"stroke:#000000; stroke-width:1; stroke-opacity:1; fill:none\" points=\"\n",
       "  151.359,357.46 151.359,360.065 155.383,360.065 155.383,357.46 151.359,357.46 \n",
       "  \"/>\n",
       "<polygon clip-path=\"url(#clip02)\" points=\"\n",
       "155.383,357.805 155.383,360.065 159.407,360.065 159.407,357.805 155.383,357.805 155.383,357.805 \n",
       "  \" fill=\"#e26f46\" fill-opacity=\"1\"/>\n",
       "<polyline clip-path=\"url(#clip02)\" style=\"stroke:#000000; stroke-width:1; stroke-opacity:1; fill:none\" points=\"\n",
       "  155.383,357.805 155.383,360.065 159.407,360.065 159.407,357.805 155.383,357.805 \n",
       "  \"/>\n",
       "<polygon clip-path=\"url(#clip02)\" points=\"\n",
       "159.407,358.433 159.407,360.065 163.431,360.065 163.431,358.433 159.407,358.433 159.407,358.433 \n",
       "  \" fill=\"#e26f46\" fill-opacity=\"1\"/>\n",
       "<polyline clip-path=\"url(#clip02)\" style=\"stroke:#000000; stroke-width:1; stroke-opacity:1; fill:none\" points=\"\n",
       "  159.407,358.433 159.407,360.065 163.431,360.065 163.431,358.433 159.407,358.433 \n",
       "  \"/>\n",
       "<polygon clip-path=\"url(#clip02)\" points=\"\n",
       "163.431,356.689 163.431,360.065 167.455,360.065 167.455,356.689 163.431,356.689 163.431,356.689 \n",
       "  \" fill=\"#e26f46\" fill-opacity=\"1\"/>\n",
       "<polyline clip-path=\"url(#clip02)\" style=\"stroke:#000000; stroke-width:1; stroke-opacity:1; fill:none\" points=\"\n",
       "  163.431,356.689 163.431,360.065 167.455,360.065 167.455,356.689 163.431,356.689 \n",
       "  \"/>\n",
       "<polygon clip-path=\"url(#clip02)\" points=\"\n",
       "167.455,357.598 167.455,360.065 171.479,360.065 171.479,357.598 167.455,357.598 167.455,357.598 \n",
       "  \" fill=\"#e26f46\" fill-opacity=\"1\"/>\n",
       "<polyline clip-path=\"url(#clip02)\" style=\"stroke:#000000; stroke-width:1; stroke-opacity:1; fill:none\" points=\"\n",
       "  167.455,357.598 167.455,360.065 171.479,360.065 171.479,357.598 167.455,357.598 \n",
       "  \"/>\n",
       "<polygon clip-path=\"url(#clip02)\" points=\"\n",
       "171.479,358.898 171.479,360.065 175.503,360.065 175.503,358.898 171.479,358.898 171.479,358.898 \n",
       "  \" fill=\"#e26f46\" fill-opacity=\"1\"/>\n",
       "<polyline clip-path=\"url(#clip02)\" style=\"stroke:#000000; stroke-width:1; stroke-opacity:1; fill:none\" points=\"\n",
       "  171.479,358.898 171.479,360.065 175.503,360.065 175.503,358.898 171.479,358.898 \n",
       "  \"/>\n",
       "<polygon clip-path=\"url(#clip02)\" points=\"\n",
       "175.503,355.182 175.503,360.065 179.527,360.065 179.527,355.182 175.503,355.182 175.503,355.182 \n",
       "  \" fill=\"#e26f46\" fill-opacity=\"1\"/>\n",
       "<polyline clip-path=\"url(#clip02)\" style=\"stroke:#000000; stroke-width:1; stroke-opacity:1; fill:none\" points=\"\n",
       "  175.503,355.182 175.503,360.065 179.527,360.065 179.527,355.182 175.503,355.182 \n",
       "  \"/>\n",
       "<polygon clip-path=\"url(#clip02)\" points=\"\n",
       "179.527,359.3 179.527,360.065 183.551,360.065 183.551,359.3 179.527,359.3 179.527,359.3 \n",
       "  \" fill=\"#e26f46\" fill-opacity=\"1\"/>\n",
       "<polyline clip-path=\"url(#clip02)\" style=\"stroke:#000000; stroke-width:1; stroke-opacity:1; fill:none\" points=\"\n",
       "  179.527,359.3 179.527,360.065 183.551,360.065 183.551,359.3 179.527,359.3 \n",
       "  \"/>\n",
       "<polygon clip-path=\"url(#clip02)\" points=\"\n",
       "183.551,358.817 183.551,360.065 187.575,360.065 187.575,358.817 183.551,358.817 183.551,358.817 \n",
       "  \" fill=\"#e26f46\" fill-opacity=\"1\"/>\n",
       "<polyline clip-path=\"url(#clip02)\" style=\"stroke:#000000; stroke-width:1; stroke-opacity:1; fill:none\" points=\"\n",
       "  183.551,358.817 183.551,360.065 187.575,360.065 187.575,358.817 183.551,358.817 \n",
       "  \"/>\n",
       "<polygon clip-path=\"url(#clip02)\" points=\"\n",
       "187.575,359.338 187.575,360.065 191.599,360.065 191.599,359.338 187.575,359.338 187.575,359.338 \n",
       "  \" fill=\"#e26f46\" fill-opacity=\"1\"/>\n",
       "<polyline clip-path=\"url(#clip02)\" style=\"stroke:#000000; stroke-width:1; stroke-opacity:1; fill:none\" points=\"\n",
       "  187.575,359.338 187.575,360.065 191.599,360.065 191.599,359.338 187.575,359.338 \n",
       "  \"/>\n",
       "<polygon clip-path=\"url(#clip02)\" points=\"\n",
       "191.599,359.818 191.599,360.065 195.623,360.065 195.623,359.818 191.599,359.818 191.599,359.818 \n",
       "  \" fill=\"#e26f46\" fill-opacity=\"1\"/>\n",
       "<polyline clip-path=\"url(#clip02)\" style=\"stroke:#000000; stroke-width:1; stroke-opacity:1; fill:none\" points=\"\n",
       "  191.599,359.818 191.599,360.065 195.623,360.065 195.623,359.818 191.599,359.818 \n",
       "  \"/>\n",
       "<polygon clip-path=\"url(#clip02)\" points=\"\n",
       "195.623,359.751 195.623,360.065 199.647,360.065 199.647,359.751 195.623,359.751 195.623,359.751 \n",
       "  \" fill=\"#e26f46\" fill-opacity=\"1\"/>\n",
       "<polyline clip-path=\"url(#clip02)\" style=\"stroke:#000000; stroke-width:1; stroke-opacity:1; fill:none\" points=\"\n",
       "  195.623,359.751 195.623,360.065 199.647,360.065 199.647,359.751 195.623,359.751 \n",
       "  \"/>\n",
       "<polygon clip-path=\"url(#clip02)\" points=\"\n",
       "199.647,358.895 199.647,360.065 203.671,360.065 203.671,358.895 199.647,358.895 199.647,358.895 \n",
       "  \" fill=\"#e26f46\" fill-opacity=\"1\"/>\n",
       "<polyline clip-path=\"url(#clip02)\" style=\"stroke:#000000; stroke-width:1; stroke-opacity:1; fill:none\" points=\"\n",
       "  199.647,358.895 199.647,360.065 203.671,360.065 203.671,358.895 199.647,358.895 \n",
       "  \"/>\n",
       "<polygon clip-path=\"url(#clip02)\" points=\"\n",
       "203.671,359.609 203.671,360.065 207.695,360.065 207.695,359.609 203.671,359.609 203.671,359.609 \n",
       "  \" fill=\"#e26f46\" fill-opacity=\"1\"/>\n",
       "<polyline clip-path=\"url(#clip02)\" style=\"stroke:#000000; stroke-width:1; stroke-opacity:1; fill:none\" points=\"\n",
       "  203.671,359.609 203.671,360.065 207.695,360.065 207.695,359.609 203.671,359.609 \n",
       "  \"/>\n",
       "<polygon clip-path=\"url(#clip02)\" points=\"\n",
       "207.695,359.57 207.695,360.065 211.719,360.065 211.719,359.57 207.695,359.57 207.695,359.57 \n",
       "  \" fill=\"#e26f46\" fill-opacity=\"1\"/>\n",
       "<polyline clip-path=\"url(#clip02)\" style=\"stroke:#000000; stroke-width:1; stroke-opacity:1; fill:none\" points=\"\n",
       "  207.695,359.57 207.695,360.065 211.719,360.065 211.719,359.57 207.695,359.57 \n",
       "  \"/>\n",
       "<polygon clip-path=\"url(#clip02)\" points=\"\n",
       "211.719,359.893 211.719,360.065 215.743,360.065 215.743,359.893 211.719,359.893 211.719,359.893 \n",
       "  \" fill=\"#e26f46\" fill-opacity=\"1\"/>\n",
       "<polyline clip-path=\"url(#clip02)\" style=\"stroke:#000000; stroke-width:1; stroke-opacity:1; fill:none\" points=\"\n",
       "  211.719,359.893 211.719,360.065 215.743,360.065 215.743,359.893 211.719,359.893 \n",
       "  \"/>\n",
       "<polygon clip-path=\"url(#clip02)\" points=\"\n",
       "215.743,359.946 215.743,360.065 219.767,360.065 219.767,359.946 215.743,359.946 215.743,359.946 \n",
       "  \" fill=\"#e26f46\" fill-opacity=\"1\"/>\n",
       "<polyline clip-path=\"url(#clip02)\" style=\"stroke:#000000; stroke-width:1; stroke-opacity:1; fill:none\" points=\"\n",
       "  215.743,359.946 215.743,360.065 219.767,360.065 219.767,359.946 215.743,359.946 \n",
       "  \"/>\n",
       "<polygon clip-path=\"url(#clip02)\" points=\"\n",
       "219.767,359.916 219.767,360.065 223.791,360.065 223.791,359.916 219.767,359.916 219.767,359.916 \n",
       "  \" fill=\"#e26f46\" fill-opacity=\"1\"/>\n",
       "<polyline clip-path=\"url(#clip02)\" style=\"stroke:#000000; stroke-width:1; stroke-opacity:1; fill:none\" points=\"\n",
       "  219.767,359.916 219.767,360.065 223.791,360.065 223.791,359.916 219.767,359.916 \n",
       "  \"/>\n",
       "<polygon clip-path=\"url(#clip02)\" points=\"\n",
       "223.791,359.751 223.791,360.065 227.815,360.065 227.815,359.751 223.791,359.751 223.791,359.751 \n",
       "  \" fill=\"#e26f46\" fill-opacity=\"1\"/>\n",
       "<polyline clip-path=\"url(#clip02)\" style=\"stroke:#000000; stroke-width:1; stroke-opacity:1; fill:none\" points=\"\n",
       "  223.791,359.751 223.791,360.065 227.815,360.065 227.815,359.751 223.791,359.751 \n",
       "  \"/>\n",
       "<polygon clip-path=\"url(#clip02)\" points=\"\n",
       "227.815,359.957 227.815,360.065 231.839,360.065 231.839,359.957 227.815,359.957 227.815,359.957 \n",
       "  \" fill=\"#e26f46\" fill-opacity=\"1\"/>\n",
       "<polyline clip-path=\"url(#clip02)\" style=\"stroke:#000000; stroke-width:1; stroke-opacity:1; fill:none\" points=\"\n",
       "  227.815,359.957 227.815,360.065 231.839,360.065 231.839,359.957 227.815,359.957 \n",
       "  \"/>\n",
       "<polygon clip-path=\"url(#clip02)\" points=\"\n",
       "231.839,359.949 231.839,360.065 235.863,360.065 235.863,359.949 231.839,359.949 231.839,359.949 \n",
       "  \" fill=\"#e26f46\" fill-opacity=\"1\"/>\n",
       "<polyline clip-path=\"url(#clip02)\" style=\"stroke:#000000; stroke-width:1; stroke-opacity:1; fill:none\" points=\"\n",
       "  231.839,359.949 231.839,360.065 235.863,360.065 235.863,359.949 231.839,359.949 \n",
       "  \"/>\n",
       "<polygon clip-path=\"url(#clip02)\" points=\"\n",
       "235.863,360.01 235.863,360.065 239.886,360.065 239.886,360.01 235.863,360.01 235.863,360.01 \n",
       "  \" fill=\"#e26f46\" fill-opacity=\"1\"/>\n",
       "<polyline clip-path=\"url(#clip02)\" style=\"stroke:#000000; stroke-width:1; stroke-opacity:1; fill:none\" points=\"\n",
       "  235.863,360.01 235.863,360.065 239.886,360.065 239.886,360.01 235.863,360.01 \n",
       "  \"/>\n",
       "<polygon clip-path=\"url(#clip02)\" points=\"\n",
       "239.886,360.02 239.886,360.065 243.91,360.065 243.91,360.02 239.886,360.02 239.886,360.02 \n",
       "  \" fill=\"#e26f46\" fill-opacity=\"1\"/>\n",
       "<polyline clip-path=\"url(#clip02)\" style=\"stroke:#000000; stroke-width:1; stroke-opacity:1; fill:none\" points=\"\n",
       "  239.886,360.02 239.886,360.065 243.91,360.065 243.91,360.02 239.886,360.02 \n",
       "  \"/>\n",
       "<polygon clip-path=\"url(#clip02)\" points=\"\n",
       "243.91,359.835 243.91,360.065 247.934,360.065 247.934,359.835 243.91,359.835 243.91,359.835 \n",
       "  \" fill=\"#e26f46\" fill-opacity=\"1\"/>\n",
       "<polyline clip-path=\"url(#clip02)\" style=\"stroke:#000000; stroke-width:1; stroke-opacity:1; fill:none\" points=\"\n",
       "  243.91,359.835 243.91,360.065 247.934,360.065 247.934,359.835 243.91,359.835 \n",
       "  \"/>\n",
       "<polygon clip-path=\"url(#clip02)\" points=\"\n",
       "247.934,360.027 247.934,360.065 251.958,360.065 251.958,360.027 247.934,360.027 247.934,360.027 \n",
       "  \" fill=\"#e26f46\" fill-opacity=\"1\"/>\n",
       "<polyline clip-path=\"url(#clip02)\" style=\"stroke:#000000; stroke-width:1; stroke-opacity:1; fill:none\" points=\"\n",
       "  247.934,360.027 247.934,360.065 251.958,360.065 251.958,360.027 247.934,360.027 \n",
       "  \"/>\n",
       "<polygon clip-path=\"url(#clip02)\" points=\"\n",
       "251.958,360.026 251.958,360.065 255.982,360.065 255.982,360.026 251.958,360.026 251.958,360.026 \n",
       "  \" fill=\"#e26f46\" fill-opacity=\"1\"/>\n",
       "<polyline clip-path=\"url(#clip02)\" style=\"stroke:#000000; stroke-width:1; stroke-opacity:1; fill:none\" points=\"\n",
       "  251.958,360.026 251.958,360.065 255.982,360.065 255.982,360.026 251.958,360.026 \n",
       "  \"/>\n",
       "<polygon clip-path=\"url(#clip02)\" points=\"\n",
       "255.982,360.034 255.982,360.065 260.006,360.065 260.006,360.034 255.982,360.034 255.982,360.034 \n",
       "  \" fill=\"#e26f46\" fill-opacity=\"1\"/>\n",
       "<polyline clip-path=\"url(#clip02)\" style=\"stroke:#000000; stroke-width:1; stroke-opacity:1; fill:none\" points=\"\n",
       "  255.982,360.034 255.982,360.065 260.006,360.065 260.006,360.034 255.982,360.034 \n",
       "  \"/>\n",
       "<polygon clip-path=\"url(#clip02)\" points=\"\n",
       "260.006,360.02 260.006,360.065 264.03,360.065 264.03,360.02 260.006,360.02 260.006,360.02 \n",
       "  \" fill=\"#e26f46\" fill-opacity=\"1\"/>\n",
       "<polyline clip-path=\"url(#clip02)\" style=\"stroke:#000000; stroke-width:1; stroke-opacity:1; fill:none\" points=\"\n",
       "  260.006,360.02 260.006,360.065 264.03,360.065 264.03,360.02 260.006,360.02 \n",
       "  \"/>\n",
       "<polygon clip-path=\"url(#clip02)\" points=\"\n",
       "264.03,360.038 264.03,360.065 268.054,360.065 268.054,360.038 264.03,360.038 264.03,360.038 \n",
       "  \" fill=\"#e26f46\" fill-opacity=\"1\"/>\n",
       "<polyline clip-path=\"url(#clip02)\" style=\"stroke:#000000; stroke-width:1; stroke-opacity:1; fill:none\" points=\"\n",
       "  264.03,360.038 264.03,360.065 268.054,360.065 268.054,360.038 264.03,360.038 \n",
       "  \"/>\n",
       "<polygon clip-path=\"url(#clip02)\" points=\"\n",
       "268.054,360.039 268.054,360.065 272.078,360.065 272.078,360.039 268.054,360.039 268.054,360.039 \n",
       "  \" fill=\"#e26f46\" fill-opacity=\"1\"/>\n",
       "<polyline clip-path=\"url(#clip02)\" style=\"stroke:#000000; stroke-width:1; stroke-opacity:1; fill:none\" points=\"\n",
       "  268.054,360.039 268.054,360.065 272.078,360.065 272.078,360.039 268.054,360.039 \n",
       "  \"/>\n",
       "<polygon clip-path=\"url(#clip02)\" points=\"\n",
       "272.078,360.048 272.078,360.065 276.102,360.065 276.102,360.048 272.078,360.048 272.078,360.048 \n",
       "  \" fill=\"#e26f46\" fill-opacity=\"1\"/>\n",
       "<polyline clip-path=\"url(#clip02)\" style=\"stroke:#000000; stroke-width:1; stroke-opacity:1; fill:none\" points=\"\n",
       "  272.078,360.048 272.078,360.065 276.102,360.065 276.102,360.048 272.078,360.048 \n",
       "  \"/>\n",
       "<polygon clip-path=\"url(#clip02)\" points=\"\n",
       "276.102,360.041 276.102,360.065 280.126,360.065 280.126,360.041 276.102,360.041 276.102,360.041 \n",
       "  \" fill=\"#e26f46\" fill-opacity=\"1\"/>\n",
       "<polyline clip-path=\"url(#clip02)\" style=\"stroke:#000000; stroke-width:1; stroke-opacity:1; fill:none\" points=\"\n",
       "  276.102,360.041 276.102,360.065 280.126,360.065 280.126,360.041 276.102,360.041 \n",
       "  \"/>\n",
       "<polygon clip-path=\"url(#clip02)\" points=\"\n",
       "280.126,360.051 280.126,360.065 284.15,360.065 284.15,360.051 280.126,360.051 280.126,360.051 \n",
       "  \" fill=\"#e26f46\" fill-opacity=\"1\"/>\n",
       "<polyline clip-path=\"url(#clip02)\" style=\"stroke:#000000; stroke-width:1; stroke-opacity:1; fill:none\" points=\"\n",
       "  280.126,360.051 280.126,360.065 284.15,360.065 284.15,360.051 280.126,360.051 \n",
       "  \"/>\n",
       "<polygon clip-path=\"url(#clip02)\" points=\"\n",
       "284.15,360.006 284.15,360.065 288.174,360.065 288.174,360.006 284.15,360.006 284.15,360.006 \n",
       "  \" fill=\"#e26f46\" fill-opacity=\"1\"/>\n",
       "<polyline clip-path=\"url(#clip02)\" style=\"stroke:#000000; stroke-width:1; stroke-opacity:1; fill:none\" points=\"\n",
       "  284.15,360.006 284.15,360.065 288.174,360.065 288.174,360.006 284.15,360.006 \n",
       "  \"/>\n",
       "<polygon clip-path=\"url(#clip02)\" points=\"\n",
       "288.174,360.052 288.174,360.065 292.198,360.065 292.198,360.052 288.174,360.052 288.174,360.052 \n",
       "  \" fill=\"#e26f46\" fill-opacity=\"1\"/>\n",
       "<polyline clip-path=\"url(#clip02)\" style=\"stroke:#000000; stroke-width:1; stroke-opacity:1; fill:none\" points=\"\n",
       "  288.174,360.052 288.174,360.065 292.198,360.065 292.198,360.052 288.174,360.052 \n",
       "  \"/>\n",
       "<polygon clip-path=\"url(#clip02)\" points=\"\n",
       "292.198,360.049 292.198,360.065 296.222,360.065 296.222,360.049 292.198,360.049 292.198,360.049 \n",
       "  \" fill=\"#e26f46\" fill-opacity=\"1\"/>\n",
       "<polyline clip-path=\"url(#clip02)\" style=\"stroke:#000000; stroke-width:1; stroke-opacity:1; fill:none\" points=\"\n",
       "  292.198,360.049 292.198,360.065 296.222,360.065 296.222,360.049 292.198,360.049 \n",
       "  \"/>\n",
       "<polygon clip-path=\"url(#clip02)\" points=\"\n",
       "296.222,360.055 296.222,360.065 300.246,360.065 300.246,360.055 296.222,360.055 296.222,360.055 \n",
       "  \" fill=\"#e26f46\" fill-opacity=\"1\"/>\n",
       "<polyline clip-path=\"url(#clip02)\" style=\"stroke:#000000; stroke-width:1; stroke-opacity:1; fill:none\" points=\"\n",
       "  296.222,360.055 296.222,360.065 300.246,360.065 300.246,360.055 296.222,360.055 \n",
       "  \"/>\n",
       "<polygon clip-path=\"url(#clip02)\" points=\"\n",
       "300.246,360.051 300.246,360.065 304.27,360.065 304.27,360.051 300.246,360.051 300.246,360.051 \n",
       "  \" fill=\"#e26f46\" fill-opacity=\"1\"/>\n",
       "<polyline clip-path=\"url(#clip02)\" style=\"stroke:#000000; stroke-width:1; stroke-opacity:1; fill:none\" points=\"\n",
       "  300.246,360.051 300.246,360.065 304.27,360.065 304.27,360.051 300.246,360.051 \n",
       "  \"/>\n",
       "<polygon clip-path=\"url(#clip02)\" points=\"\n",
       "304.27,360.057 304.27,360.065 308.294,360.065 308.294,360.057 304.27,360.057 304.27,360.057 \n",
       "  \" fill=\"#e26f46\" fill-opacity=\"1\"/>\n",
       "<polyline clip-path=\"url(#clip02)\" style=\"stroke:#000000; stroke-width:1; stroke-opacity:1; fill:none\" points=\"\n",
       "  304.27,360.057 304.27,360.065 308.294,360.065 308.294,360.057 304.27,360.057 \n",
       "  \"/>\n",
       "<polygon clip-path=\"url(#clip02)\" points=\"\n",
       "308.294,360.052 308.294,360.065 312.318,360.065 312.318,360.052 308.294,360.052 308.294,360.052 \n",
       "  \" fill=\"#e26f46\" fill-opacity=\"1\"/>\n",
       "<polyline clip-path=\"url(#clip02)\" style=\"stroke:#000000; stroke-width:1; stroke-opacity:1; fill:none\" points=\"\n",
       "  308.294,360.052 308.294,360.065 312.318,360.065 312.318,360.052 308.294,360.052 \n",
       "  \"/>\n",
       "<polygon clip-path=\"url(#clip02)\" points=\"\n",
       "312.318,360.059 312.318,360.065 316.342,360.065 316.342,360.059 312.318,360.059 312.318,360.059 \n",
       "  \" fill=\"#e26f46\" fill-opacity=\"1\"/>\n",
       "<polyline clip-path=\"url(#clip02)\" style=\"stroke:#000000; stroke-width:1; stroke-opacity:1; fill:none\" points=\"\n",
       "  312.318,360.059 312.318,360.065 316.342,360.065 316.342,360.059 312.318,360.059 \n",
       "  \"/>\n",
       "<polygon clip-path=\"url(#clip02)\" points=\"\n",
       "316.342,360.058 316.342,360.065 320.366,360.065 320.366,360.058 316.342,360.058 316.342,360.058 \n",
       "  \" fill=\"#e26f46\" fill-opacity=\"1\"/>\n",
       "<polyline clip-path=\"url(#clip02)\" style=\"stroke:#000000; stroke-width:1; stroke-opacity:1; fill:none\" points=\"\n",
       "  316.342,360.058 316.342,360.065 320.366,360.065 320.366,360.058 316.342,360.058 \n",
       "  \"/>\n",
       "<polygon clip-path=\"url(#clip02)\" points=\"\n",
       "320.366,360.06 320.366,360.065 324.39,360.065 324.39,360.06 320.366,360.06 320.366,360.06 \n",
       "  \" fill=\"#e26f46\" fill-opacity=\"1\"/>\n",
       "<polyline clip-path=\"url(#clip02)\" style=\"stroke:#000000; stroke-width:1; stroke-opacity:1; fill:none\" points=\"\n",
       "  320.366,360.06 320.366,360.065 324.39,360.065 324.39,360.06 320.366,360.06 \n",
       "  \"/>\n",
       "<polygon clip-path=\"url(#clip02)\" points=\"\n",
       "324.39,360.025 324.39,360.065 328.414,360.065 328.414,360.025 324.39,360.025 324.39,360.025 \n",
       "  \" fill=\"#e26f46\" fill-opacity=\"1\"/>\n",
       "<polyline clip-path=\"url(#clip02)\" style=\"stroke:#000000; stroke-width:1; stroke-opacity:1; fill:none\" points=\"\n",
       "  324.39,360.025 324.39,360.065 328.414,360.065 328.414,360.025 324.39,360.025 \n",
       "  \"/>\n",
       "<polygon clip-path=\"url(#clip02)\" points=\"\n",
       "328.414,360.061 328.414,360.065 332.438,360.065 332.438,360.061 328.414,360.061 328.414,360.061 \n",
       "  \" fill=\"#e26f46\" fill-opacity=\"1\"/>\n",
       "<polyline clip-path=\"url(#clip02)\" style=\"stroke:#000000; stroke-width:1; stroke-opacity:1; fill:none\" points=\"\n",
       "  328.414,360.061 328.414,360.065 332.438,360.065 332.438,360.061 328.414,360.061 \n",
       "  \"/>\n",
       "<polygon clip-path=\"url(#clip02)\" points=\"\n",
       "332.438,360.059 332.438,360.065 336.462,360.065 336.462,360.059 332.438,360.059 332.438,360.059 \n",
       "  \" fill=\"#e26f46\" fill-opacity=\"1\"/>\n",
       "<polyline clip-path=\"url(#clip02)\" style=\"stroke:#000000; stroke-width:1; stroke-opacity:1; fill:none\" points=\"\n",
       "  332.438,360.059 332.438,360.065 336.462,360.065 336.462,360.059 332.438,360.059 \n",
       "  \"/>\n",
       "<polygon clip-path=\"url(#clip02)\" points=\"\n",
       "336.462,360.062 336.462,360.065 340.486,360.065 340.486,360.062 336.462,360.062 336.462,360.062 \n",
       "  \" fill=\"#e26f46\" fill-opacity=\"1\"/>\n",
       "<polyline clip-path=\"url(#clip02)\" style=\"stroke:#000000; stroke-width:1; stroke-opacity:1; fill:none\" points=\"\n",
       "  336.462,360.062 336.462,360.065 340.486,360.065 340.486,360.062 336.462,360.062 \n",
       "  \"/>\n",
       "<polygon clip-path=\"url(#clip02)\" points=\"\n",
       "340.486,360.059 340.486,360.065 344.51,360.065 344.51,360.059 340.486,360.059 340.486,360.059 \n",
       "  \" fill=\"#e26f46\" fill-opacity=\"1\"/>\n",
       "<polyline clip-path=\"url(#clip02)\" style=\"stroke:#000000; stroke-width:1; stroke-opacity:1; fill:none\" points=\"\n",
       "  340.486,360.059 340.486,360.065 344.51,360.065 344.51,360.059 340.486,360.059 \n",
       "  \"/>\n",
       "<polygon clip-path=\"url(#clip02)\" points=\"\n",
       "344.51,360.062 344.51,360.065 348.534,360.065 348.534,360.062 344.51,360.062 344.51,360.062 \n",
       "  \" fill=\"#e26f46\" fill-opacity=\"1\"/>\n",
       "<polyline clip-path=\"url(#clip02)\" style=\"stroke:#000000; stroke-width:1; stroke-opacity:1; fill:none\" points=\"\n",
       "  344.51,360.062 344.51,360.065 348.534,360.065 348.534,360.062 344.51,360.062 \n",
       "  \"/>\n",
       "<polygon clip-path=\"url(#clip02)\" points=\"\n",
       "348.534,360.058 348.534,360.065 352.558,360.065 352.558,360.058 348.534,360.058 348.534,360.058 \n",
       "  \" fill=\"#e26f46\" fill-opacity=\"1\"/>\n",
       "<polyline clip-path=\"url(#clip02)\" style=\"stroke:#000000; stroke-width:1; stroke-opacity:1; fill:none\" points=\"\n",
       "  348.534,360.058 348.534,360.065 352.558,360.065 352.558,360.058 348.534,360.058 \n",
       "  \"/>\n",
       "<polygon clip-path=\"url(#clip02)\" points=\"\n",
       "352.558,360.062 352.558,360.065 356.582,360.065 356.582,360.062 352.558,360.062 352.558,360.062 \n",
       "  \" fill=\"#e26f46\" fill-opacity=\"1\"/>\n",
       "<polyline clip-path=\"url(#clip02)\" style=\"stroke:#000000; stroke-width:1; stroke-opacity:1; fill:none\" points=\"\n",
       "  352.558,360.062 352.558,360.065 356.582,360.065 356.582,360.062 352.558,360.062 \n",
       "  \"/>\n",
       "<polygon clip-path=\"url(#clip02)\" points=\"\n",
       "356.582,360.061 356.582,360.065 360.606,360.065 360.606,360.061 356.582,360.061 356.582,360.061 \n",
       "  \" fill=\"#e26f46\" fill-opacity=\"1\"/>\n",
       "<polyline clip-path=\"url(#clip02)\" style=\"stroke:#000000; stroke-width:1; stroke-opacity:1; fill:none\" points=\"\n",
       "  356.582,360.061 356.582,360.065 360.606,360.065 360.606,360.061 356.582,360.061 \n",
       "  \"/>\n",
       "<polygon clip-path=\"url(#clip02)\" points=\"\n",
       "360.606,360.063 360.606,360.065 364.63,360.065 364.63,360.063 360.606,360.063 360.606,360.063 \n",
       "  \" fill=\"#e26f46\" fill-opacity=\"1\"/>\n",
       "<polyline clip-path=\"url(#clip02)\" style=\"stroke:#000000; stroke-width:1; stroke-opacity:1; fill:none\" points=\"\n",
       "  360.606,360.063 360.606,360.065 364.63,360.065 364.63,360.063 360.606,360.063 \n",
       "  \"/>\n",
       "<polygon clip-path=\"url(#clip02)\" points=\"\n",
       "364.63,360.054 364.63,360.065 368.654,360.065 368.654,360.054 364.63,360.054 364.63,360.054 \n",
       "  \" fill=\"#e26f46\" fill-opacity=\"1\"/>\n",
       "<polyline clip-path=\"url(#clip02)\" style=\"stroke:#000000; stroke-width:1; stroke-opacity:1; fill:none\" points=\"\n",
       "  364.63,360.054 364.63,360.065 368.654,360.065 368.654,360.054 364.63,360.054 \n",
       "  \"/>\n",
       "<polygon clip-path=\"url(#clip02)\" points=\"\n",
       "368.654,360.063 368.654,360.065 372.678,360.065 372.678,360.063 368.654,360.063 368.654,360.063 \n",
       "  \" fill=\"#e26f46\" fill-opacity=\"1\"/>\n",
       "<polyline clip-path=\"url(#clip02)\" style=\"stroke:#000000; stroke-width:1; stroke-opacity:1; fill:none\" points=\"\n",
       "  368.654,360.063 368.654,360.065 372.678,360.065 372.678,360.063 368.654,360.063 \n",
       "  \"/>\n",
       "<polygon clip-path=\"url(#clip02)\" points=\"\n",
       "372.678,360.06 372.678,360.065 376.702,360.065 376.702,360.06 372.678,360.06 372.678,360.06 \n",
       "  \" fill=\"#e26f46\" fill-opacity=\"1\"/>\n",
       "<polyline clip-path=\"url(#clip02)\" style=\"stroke:#000000; stroke-width:1; stroke-opacity:1; fill:none\" points=\"\n",
       "  372.678,360.06 372.678,360.065 376.702,360.065 376.702,360.06 372.678,360.06 \n",
       "  \"/>\n",
       "<polygon clip-path=\"url(#clip02)\" points=\"\n",
       "376.702,360.063 376.702,360.065 380.726,360.065 380.726,360.063 376.702,360.063 376.702,360.063 \n",
       "  \" fill=\"#e26f46\" fill-opacity=\"1\"/>\n",
       "<polyline clip-path=\"url(#clip02)\" style=\"stroke:#000000; stroke-width:1; stroke-opacity:1; fill:none\" points=\"\n",
       "  376.702,360.063 376.702,360.065 380.726,360.065 380.726,360.063 376.702,360.063 \n",
       "  \"/>\n",
       "<polygon clip-path=\"url(#clip02)\" points=\"\n",
       "380.726,360.062 380.726,360.065 384.75,360.065 384.75,360.062 380.726,360.062 380.726,360.062 \n",
       "  \" fill=\"#e26f46\" fill-opacity=\"1\"/>\n",
       "<polyline clip-path=\"url(#clip02)\" style=\"stroke:#000000; stroke-width:1; stroke-opacity:1; fill:none\" points=\"\n",
       "  380.726,360.062 380.726,360.065 384.75,360.065 384.75,360.062 380.726,360.062 \n",
       "  \"/>\n",
       "<polygon clip-path=\"url(#clip02)\" points=\"\n",
       "384.75,360.063 384.75,360.065 388.774,360.065 388.774,360.063 384.75,360.063 384.75,360.063 \n",
       "  \" fill=\"#e26f46\" fill-opacity=\"1\"/>\n",
       "<polyline clip-path=\"url(#clip02)\" style=\"stroke:#000000; stroke-width:1; stroke-opacity:1; fill:none\" points=\"\n",
       "  384.75,360.063 384.75,360.065 388.774,360.065 388.774,360.063 384.75,360.063 \n",
       "  \"/>\n",
       "<polygon clip-path=\"url(#clip02)\" points=\"\n",
       "388.774,360.062 388.774,360.065 392.798,360.065 392.798,360.062 388.774,360.062 388.774,360.062 \n",
       "  \" fill=\"#e26f46\" fill-opacity=\"1\"/>\n",
       "<polyline clip-path=\"url(#clip02)\" style=\"stroke:#000000; stroke-width:1; stroke-opacity:1; fill:none\" points=\"\n",
       "  388.774,360.062 388.774,360.065 392.798,360.065 392.798,360.062 388.774,360.062 \n",
       "  \"/>\n",
       "<polygon clip-path=\"url(#clip02)\" points=\"\n",
       "392.798,360.064 392.798,360.065 396.822,360.065 396.822,360.064 392.798,360.064 392.798,360.064 \n",
       "  \" fill=\"#e26f46\" fill-opacity=\"1\"/>\n",
       "<polyline clip-path=\"url(#clip02)\" style=\"stroke:#000000; stroke-width:1; stroke-opacity:1; fill:none\" points=\"\n",
       "  392.798,360.064 392.798,360.065 396.822,360.065 396.822,360.064 392.798,360.064 \n",
       "  \"/>\n",
       "<polygon clip-path=\"url(#clip02)\" points=\"\n",
       "396.822,360.062 396.822,360.065 400.846,360.065 400.846,360.062 396.822,360.062 396.822,360.062 \n",
       "  \" fill=\"#e26f46\" fill-opacity=\"1\"/>\n",
       "<polyline clip-path=\"url(#clip02)\" style=\"stroke:#000000; stroke-width:1; stroke-opacity:1; fill:none\" points=\"\n",
       "  396.822,360.062 396.822,360.065 400.846,360.065 400.846,360.062 396.822,360.062 \n",
       "  \"/>\n",
       "<polygon clip-path=\"url(#clip02)\" points=\"\n",
       "400.846,360.064 400.846,360.065 404.87,360.065 404.87,360.064 400.846,360.064 400.846,360.064 \n",
       "  \" fill=\"#e26f46\" fill-opacity=\"1\"/>\n",
       "<polyline clip-path=\"url(#clip02)\" style=\"stroke:#000000; stroke-width:1; stroke-opacity:1; fill:none\" points=\"\n",
       "  400.846,360.064 400.846,360.065 404.87,360.065 404.87,360.064 400.846,360.064 \n",
       "  \"/>\n",
       "<polygon clip-path=\"url(#clip02)\" points=\"\n",
       "404.87,360.046 404.87,360.065 408.894,360.065 408.894,360.046 404.87,360.046 404.87,360.046 \n",
       "  \" fill=\"#e26f46\" fill-opacity=\"1\"/>\n",
       "<polyline clip-path=\"url(#clip02)\" style=\"stroke:#000000; stroke-width:1; stroke-opacity:1; fill:none\" points=\"\n",
       "  404.87,360.046 404.87,360.065 408.894,360.065 408.894,360.046 404.87,360.046 \n",
       "  \"/>\n",
       "<polygon clip-path=\"url(#clip02)\" points=\"\n",
       "408.894,360.064 408.894,360.065 412.918,360.065 412.918,360.064 408.894,360.064 408.894,360.064 \n",
       "  \" fill=\"#e26f46\" fill-opacity=\"1\"/>\n",
       "<polyline clip-path=\"url(#clip02)\" style=\"stroke:#000000; stroke-width:1; stroke-opacity:1; fill:none\" points=\"\n",
       "  408.894,360.064 408.894,360.065 412.918,360.065 412.918,360.064 408.894,360.064 \n",
       "  \"/>\n",
       "<polygon clip-path=\"url(#clip02)\" points=\"\n",
       "412.918,360.063 412.918,360.065 416.941,360.065 416.941,360.063 412.918,360.063 412.918,360.063 \n",
       "  \" fill=\"#e26f46\" fill-opacity=\"1\"/>\n",
       "<polyline clip-path=\"url(#clip02)\" style=\"stroke:#000000; stroke-width:1; stroke-opacity:1; fill:none\" points=\"\n",
       "  412.918,360.063 412.918,360.065 416.941,360.065 416.941,360.063 412.918,360.063 \n",
       "  \"/>\n",
       "<polygon clip-path=\"url(#clip02)\" points=\"\n",
       "416.941,360.064 416.941,360.065 420.965,360.065 420.965,360.064 416.941,360.064 416.941,360.064 \n",
       "  \" fill=\"#e26f46\" fill-opacity=\"1\"/>\n",
       "<polyline clip-path=\"url(#clip02)\" style=\"stroke:#000000; stroke-width:1; stroke-opacity:1; fill:none\" points=\"\n",
       "  416.941,360.064 416.941,360.065 420.965,360.065 420.965,360.064 416.941,360.064 \n",
       "  \"/>\n",
       "<polygon clip-path=\"url(#clip02)\" points=\"\n",
       "420.965,360.062 420.965,360.065 424.989,360.065 424.989,360.062 420.965,360.062 420.965,360.062 \n",
       "  \" fill=\"#e26f46\" fill-opacity=\"1\"/>\n",
       "<polyline clip-path=\"url(#clip02)\" style=\"stroke:#000000; stroke-width:1; stroke-opacity:1; fill:none\" points=\"\n",
       "  420.965,360.062 420.965,360.065 424.989,360.065 424.989,360.062 420.965,360.062 \n",
       "  \"/>\n",
       "<polygon clip-path=\"url(#clip02)\" points=\"\n",
       "424.989,360.064 424.989,360.065 429.013,360.065 429.013,360.064 424.989,360.064 424.989,360.064 \n",
       "  \" fill=\"#e26f46\" fill-opacity=\"1\"/>\n",
       "<polyline clip-path=\"url(#clip02)\" style=\"stroke:#000000; stroke-width:1; stroke-opacity:1; fill:none\" points=\"\n",
       "  424.989,360.064 424.989,360.065 429.013,360.065 429.013,360.064 424.989,360.064 \n",
       "  \"/>\n",
       "<polygon clip-path=\"url(#clip02)\" points=\"\n",
       "429.013,360.063 429.013,360.065 433.037,360.065 433.037,360.063 429.013,360.063 429.013,360.063 \n",
       "  \" fill=\"#e26f46\" fill-opacity=\"1\"/>\n",
       "<polyline clip-path=\"url(#clip02)\" style=\"stroke:#000000; stroke-width:1; stroke-opacity:1; fill:none\" points=\"\n",
       "  429.013,360.063 429.013,360.065 433.037,360.065 433.037,360.063 429.013,360.063 \n",
       "  \"/>\n",
       "<polygon clip-path=\"url(#clip02)\" points=\"\n",
       "433.037,360.065 433.037,360.065 437.061,360.065 437.061,360.065 433.037,360.065 433.037,360.065 \n",
       "  \" fill=\"#e26f46\" fill-opacity=\"1\"/>\n",
       "<polyline clip-path=\"url(#clip02)\" style=\"stroke:#000000; stroke-width:1; stroke-opacity:1; fill:none\" points=\"\n",
       "  433.037,360.065 433.037,360.065 437.061,360.065 437.061,360.065 433.037,360.065 \n",
       "  \"/>\n",
       "<polygon clip-path=\"url(#clip02)\" points=\"\n",
       "437.061,360.063 437.061,360.065 441.085,360.065 441.085,360.063 437.061,360.063 437.061,360.063 \n",
       "  \" fill=\"#e26f46\" fill-opacity=\"1\"/>\n",
       "<polyline clip-path=\"url(#clip02)\" style=\"stroke:#000000; stroke-width:1; stroke-opacity:1; fill:none\" points=\"\n",
       "  437.061,360.063 437.061,360.065 441.085,360.065 441.085,360.063 437.061,360.063 \n",
       "  \"/>\n",
       "<polygon clip-path=\"url(#clip02)\" points=\"\n",
       "441.085,360.064 441.085,360.065 445.109,360.065 445.109,360.064 441.085,360.064 441.085,360.064 \n",
       "  \" fill=\"#e26f46\" fill-opacity=\"1\"/>\n",
       "<polyline clip-path=\"url(#clip02)\" style=\"stroke:#000000; stroke-width:1; stroke-opacity:1; fill:none\" points=\"\n",
       "  441.085,360.064 441.085,360.065 445.109,360.065 445.109,360.064 441.085,360.064 \n",
       "  \"/>\n",
       "<polygon clip-path=\"url(#clip02)\" points=\"\n",
       "445.109,360.059 445.109,360.065 449.133,360.065 449.133,360.059 445.109,360.059 445.109,360.059 \n",
       "  \" fill=\"#e26f46\" fill-opacity=\"1\"/>\n",
       "<polyline clip-path=\"url(#clip02)\" style=\"stroke:#000000; stroke-width:1; stroke-opacity:1; fill:none\" points=\"\n",
       "  445.109,360.059 445.109,360.065 449.133,360.065 449.133,360.059 445.109,360.059 \n",
       "  \"/>\n",
       "<polygon clip-path=\"url(#clip02)\" points=\"\n",
       "449.133,360.065 449.133,360.065 453.157,360.065 453.157,360.065 449.133,360.065 449.133,360.065 \n",
       "  \" fill=\"#e26f46\" fill-opacity=\"1\"/>\n",
       "<polyline clip-path=\"url(#clip02)\" style=\"stroke:#000000; stroke-width:1; stroke-opacity:1; fill:none\" points=\"\n",
       "  449.133,360.065 449.133,360.065 453.157,360.065 453.157,360.065 449.133,360.065 \n",
       "  \"/>\n",
       "<polygon clip-path=\"url(#clip02)\" points=\"\n",
       "453.157,360.063 453.157,360.065 457.181,360.065 457.181,360.063 453.157,360.063 453.157,360.063 \n",
       "  \" fill=\"#e26f46\" fill-opacity=\"1\"/>\n",
       "<polyline clip-path=\"url(#clip02)\" style=\"stroke:#000000; stroke-width:1; stroke-opacity:1; fill:none\" points=\"\n",
       "  453.157,360.063 453.157,360.065 457.181,360.065 457.181,360.063 453.157,360.063 \n",
       "  \"/>\n",
       "<polygon clip-path=\"url(#clip02)\" points=\"\n",
       "457.181,360.064 457.181,360.065 461.205,360.065 461.205,360.064 457.181,360.064 457.181,360.064 \n",
       "  \" fill=\"#e26f46\" fill-opacity=\"1\"/>\n",
       "<polyline clip-path=\"url(#clip02)\" style=\"stroke:#000000; stroke-width:1; stroke-opacity:1; fill:none\" points=\"\n",
       "  457.181,360.064 457.181,360.065 461.205,360.065 461.205,360.064 457.181,360.064 \n",
       "  \"/>\n",
       "<polygon clip-path=\"url(#clip02)\" points=\"\n",
       "461.205,360.064 461.205,360.065 465.229,360.065 465.229,360.064 461.205,360.064 461.205,360.064 \n",
       "  \" fill=\"#e26f46\" fill-opacity=\"1\"/>\n",
       "<polyline clip-path=\"url(#clip02)\" style=\"stroke:#000000; stroke-width:1; stroke-opacity:1; fill:none\" points=\"\n",
       "  461.205,360.064 461.205,360.065 465.229,360.065 465.229,360.064 461.205,360.064 \n",
       "  \"/>\n",
       "<polygon clip-path=\"url(#clip02)\" points=\"\n",
       "465.229,360.065 465.229,360.065 469.253,360.065 469.253,360.065 465.229,360.065 465.229,360.065 \n",
       "  \" fill=\"#e26f46\" fill-opacity=\"1\"/>\n",
       "<polyline clip-path=\"url(#clip02)\" style=\"stroke:#000000; stroke-width:1; stroke-opacity:1; fill:none\" points=\"\n",
       "  465.229,360.065 465.229,360.065 469.253,360.065 469.253,360.065 465.229,360.065 \n",
       "  \"/>\n",
       "<polygon clip-path=\"url(#clip02)\" points=\"\n",
       "469.253,360.064 469.253,360.065 473.277,360.065 473.277,360.064 469.253,360.064 469.253,360.064 \n",
       "  \" fill=\"#e26f46\" fill-opacity=\"1\"/>\n",
       "<polyline clip-path=\"url(#clip02)\" style=\"stroke:#000000; stroke-width:1; stroke-opacity:1; fill:none\" points=\"\n",
       "  469.253,360.064 469.253,360.065 473.277,360.065 473.277,360.064 469.253,360.064 \n",
       "  \"/>\n",
       "<polygon clip-path=\"url(#clip02)\" points=\"\n",
       "473.277,360.065 473.277,360.065 477.301,360.065 477.301,360.065 473.277,360.065 473.277,360.065 \n",
       "  \" fill=\"#e26f46\" fill-opacity=\"1\"/>\n",
       "<polyline clip-path=\"url(#clip02)\" style=\"stroke:#000000; stroke-width:1; stroke-opacity:1; fill:none\" points=\"\n",
       "  473.277,360.065 473.277,360.065 477.301,360.065 477.301,360.065 473.277,360.065 \n",
       "  \"/>\n",
       "<polygon clip-path=\"url(#clip02)\" points=\"\n",
       "477.301,360.064 477.301,360.065 481.325,360.065 481.325,360.064 477.301,360.064 477.301,360.064 \n",
       "  \" fill=\"#e26f46\" fill-opacity=\"1\"/>\n",
       "<polyline clip-path=\"url(#clip02)\" style=\"stroke:#000000; stroke-width:1; stroke-opacity:1; fill:none\" points=\"\n",
       "  477.301,360.064 477.301,360.065 481.325,360.065 481.325,360.064 477.301,360.064 \n",
       "  \"/>\n",
       "<polygon clip-path=\"url(#clip02)\" points=\"\n",
       "481.325,360.065 481.325,360.065 485.349,360.065 485.349,360.065 481.325,360.065 481.325,360.065 \n",
       "  \" fill=\"#e26f46\" fill-opacity=\"1\"/>\n",
       "<polyline clip-path=\"url(#clip02)\" style=\"stroke:#000000; stroke-width:1; stroke-opacity:1; fill:none\" points=\"\n",
       "  481.325,360.065 481.325,360.065 485.349,360.065 485.349,360.065 481.325,360.065 \n",
       "  \"/>\n",
       "<polygon clip-path=\"url(#clip02)\" points=\"\n",
       "485.349,360.052 485.349,360.065 489.373,360.065 489.373,360.052 485.349,360.052 485.349,360.052 \n",
       "  \" fill=\"#e26f46\" fill-opacity=\"1\"/>\n",
       "<polyline clip-path=\"url(#clip02)\" style=\"stroke:#000000; stroke-width:1; stroke-opacity:1; fill:none\" points=\"\n",
       "  485.349,360.052 485.349,360.065 489.373,360.065 489.373,360.052 485.349,360.052 \n",
       "  \"/>\n",
       "<polygon clip-path=\"url(#clip02)\" points=\"\n",
       "489.373,360.064 489.373,360.065 493.397,360.065 493.397,360.064 489.373,360.064 489.373,360.064 \n",
       "  \" fill=\"#e26f46\" fill-opacity=\"1\"/>\n",
       "<polyline clip-path=\"url(#clip02)\" style=\"stroke:#000000; stroke-width:1; stroke-opacity:1; fill:none\" points=\"\n",
       "  489.373,360.064 489.373,360.065 493.397,360.065 493.397,360.064 489.373,360.064 \n",
       "  \"/>\n",
       "<polygon clip-path=\"url(#clip02)\" points=\"\n",
       "493.397,360.064 493.397,360.065 497.421,360.065 497.421,360.064 493.397,360.064 493.397,360.064 \n",
       "  \" fill=\"#e26f46\" fill-opacity=\"1\"/>\n",
       "<polyline clip-path=\"url(#clip02)\" style=\"stroke:#000000; stroke-width:1; stroke-opacity:1; fill:none\" points=\"\n",
       "  493.397,360.064 493.397,360.065 497.421,360.065 497.421,360.064 493.397,360.064 \n",
       "  \"/>\n",
       "<polygon clip-path=\"url(#clip02)\" points=\"\n",
       "497.421,360.065 497.421,360.065 501.445,360.065 501.445,360.065 497.421,360.065 497.421,360.065 \n",
       "  \" fill=\"#e26f46\" fill-opacity=\"1\"/>\n",
       "<polyline clip-path=\"url(#clip02)\" style=\"stroke:#000000; stroke-width:1; stroke-opacity:1; fill:none\" points=\"\n",
       "  497.421,360.065 497.421,360.065 501.445,360.065 501.445,360.065 497.421,360.065 \n",
       "  \"/>\n",
       "<polygon clip-path=\"url(#clip02)\" points=\"\n",
       "501.445,360.064 501.445,360.065 505.469,360.065 505.469,360.064 501.445,360.064 501.445,360.064 \n",
       "  \" fill=\"#e26f46\" fill-opacity=\"1\"/>\n",
       "<polyline clip-path=\"url(#clip02)\" style=\"stroke:#000000; stroke-width:1; stroke-opacity:1; fill:none\" points=\"\n",
       "  501.445,360.064 501.445,360.065 505.469,360.065 505.469,360.064 501.445,360.064 \n",
       "  \"/>\n",
       "<polygon clip-path=\"url(#clip02)\" points=\"\n",
       "505.469,360.065 505.469,360.065 509.493,360.065 509.493,360.065 505.469,360.065 505.469,360.065 \n",
       "  \" fill=\"#e26f46\" fill-opacity=\"1\"/>\n",
       "<polyline clip-path=\"url(#clip02)\" style=\"stroke:#000000; stroke-width:1; stroke-opacity:1; fill:none\" points=\"\n",
       "  505.469,360.065 505.469,360.065 509.493,360.065 509.493,360.065 505.469,360.065 \n",
       "  \"/>\n",
       "<polygon clip-path=\"url(#clip02)\" points=\"\n",
       "509.493,360.065 509.493,360.065 513.517,360.065 513.517,360.065 509.493,360.065 509.493,360.065 \n",
       "  \" fill=\"#e26f46\" fill-opacity=\"1\"/>\n",
       "<polyline clip-path=\"url(#clip02)\" style=\"stroke:#000000; stroke-width:1; stroke-opacity:1; fill:none\" points=\"\n",
       "  509.493,360.065 509.493,360.065 513.517,360.065 513.517,360.065 509.493,360.065 \n",
       "  \"/>\n",
       "<polygon clip-path=\"url(#clip02)\" points=\"\n",
       "513.517,360.065 513.517,360.065 517.541,360.065 517.541,360.065 513.517,360.065 513.517,360.065 \n",
       "  \" fill=\"#e26f46\" fill-opacity=\"1\"/>\n",
       "<polyline clip-path=\"url(#clip02)\" style=\"stroke:#000000; stroke-width:1; stroke-opacity:1; fill:none\" points=\"\n",
       "  513.517,360.065 513.517,360.065 517.541,360.065 517.541,360.065 513.517,360.065 \n",
       "  \"/>\n",
       "<polygon clip-path=\"url(#clip02)\" points=\"\n",
       "517.541,360.064 517.541,360.065 521.565,360.065 521.565,360.064 517.541,360.064 517.541,360.064 \n",
       "  \" fill=\"#e26f46\" fill-opacity=\"1\"/>\n",
       "<polyline clip-path=\"url(#clip02)\" style=\"stroke:#000000; stroke-width:1; stroke-opacity:1; fill:none\" points=\"\n",
       "  517.541,360.064 517.541,360.065 521.565,360.065 521.565,360.064 517.541,360.064 \n",
       "  \"/>\n",
       "<polygon clip-path=\"url(#clip02)\" points=\"\n",
       "521.565,360.065 521.565,360.065 525.589,360.065 525.589,360.065 521.565,360.065 521.565,360.065 \n",
       "  \" fill=\"#e26f46\" fill-opacity=\"1\"/>\n",
       "<polyline clip-path=\"url(#clip02)\" style=\"stroke:#000000; stroke-width:1; stroke-opacity:1; fill:none\" points=\"\n",
       "  521.565,360.065 521.565,360.065 525.589,360.065 525.589,360.065 521.565,360.065 \n",
       "  \"/>\n",
       "<polygon clip-path=\"url(#clip02)\" points=\"\n",
       "525.589,360.063 525.589,360.065 529.613,360.065 529.613,360.063 525.589,360.063 525.589,360.063 \n",
       "  \" fill=\"#e26f46\" fill-opacity=\"1\"/>\n",
       "<polyline clip-path=\"url(#clip02)\" style=\"stroke:#000000; stroke-width:1; stroke-opacity:1; fill:none\" points=\"\n",
       "  525.589,360.063 525.589,360.065 529.613,360.065 529.613,360.063 525.589,360.063 \n",
       "  \"/>\n",
       "<polygon clip-path=\"url(#clip02)\" points=\"\n",
       "529.613,360.064 529.613,360.065 533.637,360.065 533.637,360.064 529.613,360.064 529.613,360.064 \n",
       "  \" fill=\"#e26f46\" fill-opacity=\"1\"/>\n",
       "<polyline clip-path=\"url(#clip02)\" style=\"stroke:#000000; stroke-width:1; stroke-opacity:1; fill:none\" points=\"\n",
       "  529.613,360.064 529.613,360.065 533.637,360.065 533.637,360.064 529.613,360.064 \n",
       "  \"/>\n",
       "<polygon clip-path=\"url(#clip02)\" points=\"\n",
       "533.637,360.064 533.637,360.065 537.661,360.065 537.661,360.064 533.637,360.064 533.637,360.064 \n",
       "  \" fill=\"#e26f46\" fill-opacity=\"1\"/>\n",
       "<polyline clip-path=\"url(#clip02)\" style=\"stroke:#000000; stroke-width:1; stroke-opacity:1; fill:none\" points=\"\n",
       "  533.637,360.064 533.637,360.065 537.661,360.065 537.661,360.064 533.637,360.064 \n",
       "  \"/>\n",
       "<polygon clip-path=\"url(#clip02)\" points=\"\n",
       "537.661,360.065 537.661,360.065 541.685,360.065 541.685,360.065 537.661,360.065 537.661,360.065 \n",
       "  \" fill=\"#e26f46\" fill-opacity=\"1\"/>\n",
       "<polyline clip-path=\"url(#clip02)\" style=\"stroke:#000000; stroke-width:1; stroke-opacity:1; fill:none\" points=\"\n",
       "  537.661,360.065 537.661,360.065 541.685,360.065 541.685,360.065 537.661,360.065 \n",
       "  \"/>\n",
       "<polygon clip-path=\"url(#clip02)\" points=\"\n",
       "541.685,360.064 541.685,360.065 545.709,360.065 545.709,360.064 541.685,360.064 541.685,360.064 \n",
       "  \" fill=\"#e26f46\" fill-opacity=\"1\"/>\n",
       "<polyline clip-path=\"url(#clip02)\" style=\"stroke:#000000; stroke-width:1; stroke-opacity:1; fill:none\" points=\"\n",
       "  541.685,360.064 541.685,360.065 545.709,360.065 545.709,360.064 541.685,360.064 \n",
       "  \"/>\n",
       "<polygon clip-path=\"url(#clip02)\" points=\"\n",
       "545.709,360.065 545.709,360.065 549.733,360.065 549.733,360.065 545.709,360.065 545.709,360.065 \n",
       "  \" fill=\"#e26f46\" fill-opacity=\"1\"/>\n",
       "<polyline clip-path=\"url(#clip02)\" style=\"stroke:#000000; stroke-width:1; stroke-opacity:1; fill:none\" points=\"\n",
       "  545.709,360.065 545.709,360.065 549.733,360.065 549.733,360.065 545.709,360.065 \n",
       "  \"/>\n",
       "<polygon clip-path=\"url(#clip02)\" points=\"\n",
       "549.733,360.065 549.733,360.065 553.757,360.065 553.757,360.065 549.733,360.065 549.733,360.065 \n",
       "  \" fill=\"#e26f46\" fill-opacity=\"1\"/>\n",
       "<polyline clip-path=\"url(#clip02)\" style=\"stroke:#000000; stroke-width:1; stroke-opacity:1; fill:none\" points=\"\n",
       "  549.733,360.065 549.733,360.065 553.757,360.065 553.757,360.065 549.733,360.065 \n",
       "  \"/>\n",
       "<polygon clip-path=\"url(#clip02)\" points=\"\n",
       "553.757,360.065 553.757,360.065 557.781,360.065 557.781,360.065 553.757,360.065 553.757,360.065 \n",
       "  \" fill=\"#e26f46\" fill-opacity=\"1\"/>\n",
       "<polyline clip-path=\"url(#clip02)\" style=\"stroke:#000000; stroke-width:1; stroke-opacity:1; fill:none\" points=\"\n",
       "  553.757,360.065 553.757,360.065 557.781,360.065 557.781,360.065 553.757,360.065 \n",
       "  \"/>\n",
       "<polygon clip-path=\"url(#clip02)\" points=\"\n",
       "557.781,360.065 557.781,360.065 561.805,360.065 561.805,360.065 557.781,360.065 557.781,360.065 \n",
       "  \" fill=\"#e26f46\" fill-opacity=\"1\"/>\n",
       "<polyline clip-path=\"url(#clip02)\" style=\"stroke:#000000; stroke-width:1; stroke-opacity:1; fill:none\" points=\"\n",
       "  557.781,360.065 557.781,360.065 561.805,360.065 561.805,360.065 557.781,360.065 \n",
       "  \"/>\n",
       "<polygon clip-path=\"url(#clip02)\" points=\"\n",
       "561.805,360.065 561.805,360.065 565.829,360.065 565.829,360.065 561.805,360.065 561.805,360.065 \n",
       "  \" fill=\"#e26f46\" fill-opacity=\"1\"/>\n",
       "<polyline clip-path=\"url(#clip02)\" style=\"stroke:#000000; stroke-width:1; stroke-opacity:1; fill:none\" points=\"\n",
       "  561.805,360.065 561.805,360.065 565.829,360.065 565.829,360.065 561.805,360.065 \n",
       "  \"/>\n",
       "<polygon clip-path=\"url(#clip00)\" points=\"\n",
       "477.948,97.7361 562.315,97.7361 562.315,52.3761 477.948,52.3761 \n",
       "  \" fill=\"#ffffff\" fill-opacity=\"1\"/>\n",
       "<polyline clip-path=\"url(#clip00)\" style=\"stroke:#000000; stroke-width:1; stroke-opacity:1; fill:none\" points=\"\n",
       "  477.948,97.7361 562.315,97.7361 562.315,52.3761 477.948,52.3761 477.948,97.7361 \n",
       "  \"/>\n",
       "<polygon clip-path=\"url(#clip00)\" points=\"\n",
       "483.948,73.5441 519.948,73.5441 519.948,61.4481 483.948,61.4481 483.948,73.5441 \n",
       "  \" fill=\"#009af9\" fill-opacity=\"1\"/>\n",
       "<polyline clip-path=\"url(#clip00)\" style=\"stroke:#000000; stroke-width:1; stroke-opacity:1; fill:none\" points=\"\n",
       "  483.948,73.5441 519.948,73.5441 519.948,61.4481 483.948,61.4481 483.948,73.5441 \n",
       "  \"/>\n",
       "<g clip-path=\"url(#clip00)\">\n",
       "<text style=\"fill:#000000; fill-opacity:1; font-family:Arial,Helvetica Neue,Helvetica,sans-serif; font-size:12; text-anchor:start;\" transform=\"rotate(0, 525.948, 71.9961)\" x=\"525.948\" y=\"71.9961\">Fare</text>\n",
       "</g>\n",
       "<polygon clip-path=\"url(#clip00)\" points=\"\n",
       "483.948,88.6641 519.948,88.6641 519.948,76.5681 483.948,76.5681 483.948,88.6641 \n",
       "  \" fill=\"#e26f46\" fill-opacity=\"1\"/>\n",
       "<polyline clip-path=\"url(#clip00)\" style=\"stroke:#000000; stroke-width:1; stroke-opacity:1; fill:none\" points=\"\n",
       "  483.948,88.6641 519.948,88.6641 519.948,76.5681 483.948,76.5681 483.948,88.6641 \n",
       "  \"/>\n",
       "<g clip-path=\"url(#clip00)\">\n",
       "<text style=\"fill:#000000; fill-opacity:1; font-family:Arial,Helvetica Neue,Helvetica,sans-serif; font-size:12; text-anchor:start;\" transform=\"rotate(0, 525.948, 87.1161)\" x=\"525.948\" y=\"87.1161\">Tip</text>\n",
       "</g>\n",
       "</svg>\n"
      ]
     },
     "execution_count": 72,
     "metadata": {},
     "output_type": "execute_result"
    }
   ],
   "source": [
    "@time s = reduce(2 * OHistogram(0:.5:60), db; \n",
    "    select = (:fare_amount, :tip_amount))\n",
    "plot(s, label = [:Fare :Tip], xlab = :Amount, title = \"Fare and Tips\")"
   ]
  },
  {
   "cell_type": "markdown",
   "metadata": {
    "slideshow": {
     "slide_type": "slide"
    }
   },
   "source": [
    "# Benchmarks\n",
    "\n",
    "\n",
    "bit.ly/juliadb-pydata-benchmarks"
   ]
  },
  {
   "cell_type": "code",
   "execution_count": 73,
   "metadata": {
    "slideshow": {
     "slide_type": "skip"
    }
   },
   "outputs": [
    {
     "data": {
      "text/plain": [
       "Table with 13 rows, 4 columns:\n",
       "benchgroup   benchmark                                   JuliaDB  Pandas\n",
       "─────────────────────────────────────────────────────────────────────────\n",
       "\"loadtable\"  \"Read CSV (DateTime)\"                       16.8086  32.8733\n",
       "\"loadtable\"  \"Read CSV (String)\"                         18.0826  29.6489\n",
       "\"groupby\"    \"mean(VendorID)\"                            11.797   16.487\n",
       "\"groupby\"    \"count(dayofweek, passenger_count)\"         47.192   83.629\n",
       "\"groupby\"    \"count(UDF, passenger_count)\"               51.797   280.981\n",
       "\"groupby\"    \"count(dayofweek, passenger_count, floor)\"  190.741  115.429\n",
       "\"groupby\"    \"count(passenger_count, dayofweek)\"         5.207    51.726\n",
       "\"join\"       \"Inner Join (String)\"                       41.59    16.48\n",
       "\"join\"       \"Inner Join (Number)\"                       12.4     19.28\n",
       "\"join\"       \"Outer Join (String)\"                       44.43    24.92\n",
       "\"join\"       \"Outer Join (Number)\"                       15.06    37.32\n",
       "\"join\"       \"Left Join (String)\"                        42.88    16.87\n",
       "\"join\"       \"Left Join (Number)\"                        13.34    19.57"
      ]
     },
     "execution_count": 73,
     "metadata": {},
     "output_type": "execute_result"
    }
   ],
   "source": [
    "benchtype = vcat(fill(\"loadtable\", 2), fill(\"groupby\", 5), fill(\"join\", 6))\n",
    "bench = [\"Read CSV (DateTime)\", \n",
    "    \"Read CSV (String)\", \n",
    "    \"mean(VendorID)\", \n",
    "    \"count(dayofweek, passenger_count)\",\n",
    "    \"count(UDF, passenger_count)\", \n",
    "    \"count(dayofweek, passenger_count, floor)\", \n",
    "    \"count(passenger_count, dayofweek)\", \n",
    "    \"Inner Join (String)\", \"Inner Join (Number)\", \"Outer Join (String)\", \"Outer Join (Number)\",\n",
    "    \"Left Join (String)\",\"Left Join (Number)\"]\n",
    "jdb = [16.8086,18.0826,11.797,47.192, 51.797,190.741, 5.207,41.59,12.40,44.43,15.06,42.88,13.34]\n",
    "pan = [32.8733,29.6489,16.487,83.629,280.981,115.429,51.726,16.48,19.28,24.92,37.32,16.87,19.57]\n",
    "\n",
    "tb = table(benchtype, bench, jdb, pan; names = [:benchgroup, :benchmark, :JuliaDB, :Pandas])"
   ]
  },
  {
   "cell_type": "code",
   "execution_count": 74,
   "metadata": {
    "slideshow": {
     "slide_type": "skip"
    }
   },
   "outputs": [],
   "source": [
    "ratio = JuliaDB.select(tb, (:JuliaDB, :Pandas) => t -> t[1] / t[2])\n",
    "plt = scatter(JuliaDB.select(tb, :benchgroup), ratio, group=JuliaDB.select(tb, :benchmark),\n",
    "    title = \"JuliaDB vs. Pandas Benchmarks\", size=(1000, 400), ylab = \"Time Relative to Pandas\");"
   ]
  },
  {
   "cell_type": "code",
   "execution_count": 75,
   "metadata": {
    "slideshow": {
     "slide_type": "slide"
    }
   },
   "outputs": [
    {
     "data": {
      "text/html": [
       "<?xml version=\"1.0\" encoding=\"utf-8\"?>\n",
       "<svg xmlns=\"http://www.w3.org/2000/svg\" xmlns:xlink=\"http://www.w3.org/1999/xlink\" width=\"1000\" height=\"400\" viewBox=\"0 0 1000 400\">\n",
       "<defs>\n",
       "  <clipPath id=\"clip00\">\n",
       "    <rect x=\"0\" y=\"0\" width=\"1000\" height=\"400\"/>\n",
       "  </clipPath>\n",
       "</defs>\n",
       "<polygon clip-path=\"url(#clip00)\" points=\"\n",
       "0,400 1000,400 1000,0 0,0 \n",
       "  \" fill=\"#ffffff\" fill-opacity=\"1\"/>\n",
       "<defs>\n",
       "  <clipPath id=\"clip01\">\n",
       "    <rect x=\"200\" y=\"0\" width=\"701\" height=\"400\"/>\n",
       "  </clipPath>\n",
       "</defs>\n",
       "<polygon clip-path=\"url(#clip00)\" points=\"\n",
       "47.9701,375.813 980.315,375.813 980.315,31.4961 47.9701,31.4961 \n",
       "  \" fill=\"#ffffff\" fill-opacity=\"1\"/>\n",
       "<defs>\n",
       "  <clipPath id=\"clip02\">\n",
       "    <rect x=\"47\" y=\"31\" width=\"933\" height=\"345\"/>\n",
       "  </clipPath>\n",
       "</defs>\n",
       "<polyline clip-path=\"url(#clip02)\" style=\"stroke:#000000; stroke-width:0.5; stroke-opacity:0.1; fill:none\" points=\"\n",
       "  74.3573,370.649 74.3573,36.6608 \n",
       "  \"/>\n",
       "<polyline clip-path=\"url(#clip02)\" style=\"stroke:#000000; stroke-width:0.5; stroke-opacity:0.1; fill:none\" points=\"\n",
       "  514.143,370.649 514.143,36.6608 \n",
       "  \"/>\n",
       "<polyline clip-path=\"url(#clip02)\" style=\"stroke:#000000; stroke-width:0.5; stroke-opacity:0.1; fill:none\" points=\"\n",
       "  953.928,370.649 953.928,36.6608 \n",
       "  \"/>\n",
       "<polyline clip-path=\"url(#clip02)\" style=\"stroke:#000000; stroke-width:0.5; stroke-opacity:0.1; fill:none\" points=\"\n",
       "  61.9553,312.931 966.33,312.931 \n",
       "  \"/>\n",
       "<polyline clip-path=\"url(#clip02)\" style=\"stroke:#000000; stroke-width:0.5; stroke-opacity:0.1; fill:none\" points=\"\n",
       "  61.9553,246.399 966.33,246.399 \n",
       "  \"/>\n",
       "<polyline clip-path=\"url(#clip02)\" style=\"stroke:#000000; stroke-width:0.5; stroke-opacity:0.1; fill:none\" points=\"\n",
       "  61.9553,179.866 966.33,179.866 \n",
       "  \"/>\n",
       "<polyline clip-path=\"url(#clip02)\" style=\"stroke:#000000; stroke-width:0.5; stroke-opacity:0.1; fill:none\" points=\"\n",
       "  61.9553,113.334 966.33,113.334 \n",
       "  \"/>\n",
       "<polyline clip-path=\"url(#clip02)\" style=\"stroke:#000000; stroke-width:0.5; stroke-opacity:0.1; fill:none\" points=\"\n",
       "  61.9553,46.8017 966.33,46.8017 \n",
       "  \"/>\n",
       "<polyline clip-path=\"url(#clip00)\" style=\"stroke:#000000; stroke-width:1; stroke-opacity:1; fill:none\" points=\"\n",
       "  47.9701,375.813 980.315,375.813 \n",
       "  \"/>\n",
       "<polyline clip-path=\"url(#clip00)\" style=\"stroke:#000000; stroke-width:1; stroke-opacity:1; fill:none\" points=\"\n",
       "  47.9701,375.813 47.9701,31.4961 \n",
       "  \"/>\n",
       "<polyline clip-path=\"url(#clip00)\" style=\"stroke:#000000; stroke-width:1; stroke-opacity:1; fill:none\" points=\"\n",
       "  74.3573,375.813 74.3573,370.649 \n",
       "  \"/>\n",
       "<polyline clip-path=\"url(#clip00)\" style=\"stroke:#000000; stroke-width:1; stroke-opacity:1; fill:none\" points=\"\n",
       "  514.143,375.813 514.143,370.649 \n",
       "  \"/>\n",
       "<polyline clip-path=\"url(#clip00)\" style=\"stroke:#000000; stroke-width:1; stroke-opacity:1; fill:none\" points=\"\n",
       "  953.928,375.813 953.928,370.649 \n",
       "  \"/>\n",
       "<polyline clip-path=\"url(#clip00)\" style=\"stroke:#000000; stroke-width:1; stroke-opacity:1; fill:none\" points=\"\n",
       "  47.9701,312.931 61.9553,312.931 \n",
       "  \"/>\n",
       "<polyline clip-path=\"url(#clip00)\" style=\"stroke:#000000; stroke-width:1; stroke-opacity:1; fill:none\" points=\"\n",
       "  47.9701,246.399 61.9553,246.399 \n",
       "  \"/>\n",
       "<polyline clip-path=\"url(#clip00)\" style=\"stroke:#000000; stroke-width:1; stroke-opacity:1; fill:none\" points=\"\n",
       "  47.9701,179.866 61.9553,179.866 \n",
       "  \"/>\n",
       "<polyline clip-path=\"url(#clip00)\" style=\"stroke:#000000; stroke-width:1; stroke-opacity:1; fill:none\" points=\"\n",
       "  47.9701,113.334 61.9553,113.334 \n",
       "  \"/>\n",
       "<polyline clip-path=\"url(#clip00)\" style=\"stroke:#000000; stroke-width:1; stroke-opacity:1; fill:none\" points=\"\n",
       "  47.9701,46.8017 61.9553,46.8017 \n",
       "  \"/>\n",
       "<g clip-path=\"url(#clip00)\">\n",
       "<text style=\"fill:#000000; fill-opacity:1; font-family:Arial,Helvetica Neue,Helvetica,sans-serif; font-size:12; text-anchor:middle;\" transform=\"rotate(0, 74.3573, 391.613)\" x=\"74.3573\" y=\"391.613\">join</text>\n",
       "</g>\n",
       "<g clip-path=\"url(#clip00)\">\n",
       "<text style=\"fill:#000000; fill-opacity:1; font-family:Arial,Helvetica Neue,Helvetica,sans-serif; font-size:12; text-anchor:middle;\" transform=\"rotate(0, 514.143, 391.613)\" x=\"514.143\" y=\"391.613\">loadtable</text>\n",
       "</g>\n",
       "<g clip-path=\"url(#clip00)\">\n",
       "<text style=\"fill:#000000; fill-opacity:1; font-family:Arial,Helvetica Neue,Helvetica,sans-serif; font-size:12; text-anchor:middle;\" transform=\"rotate(0, 953.928, 391.613)\" x=\"953.928\" y=\"391.613\">groupby</text>\n",
       "</g>\n",
       "<g clip-path=\"url(#clip00)\">\n",
       "<text style=\"fill:#000000; fill-opacity:1; font-family:Arial,Helvetica Neue,Helvetica,sans-serif; font-size:12; text-anchor:end;\" transform=\"rotate(0, 37.9701, 317.431)\" x=\"37.9701\" y=\"317.431\">0.5</text>\n",
       "</g>\n",
       "<g clip-path=\"url(#clip00)\">\n",
       "<text style=\"fill:#000000; fill-opacity:1; font-family:Arial,Helvetica Neue,Helvetica,sans-serif; font-size:12; text-anchor:end;\" transform=\"rotate(0, 37.9701, 250.899)\" x=\"37.9701\" y=\"250.899\">1.0</text>\n",
       "</g>\n",
       "<g clip-path=\"url(#clip00)\">\n",
       "<text style=\"fill:#000000; fill-opacity:1; font-family:Arial,Helvetica Neue,Helvetica,sans-serif; font-size:12; text-anchor:end;\" transform=\"rotate(0, 37.9701, 184.366)\" x=\"37.9701\" y=\"184.366\">1.5</text>\n",
       "</g>\n",
       "<g clip-path=\"url(#clip00)\">\n",
       "<text style=\"fill:#000000; fill-opacity:1; font-family:Arial,Helvetica Neue,Helvetica,sans-serif; font-size:12; text-anchor:end;\" transform=\"rotate(0, 37.9701, 117.834)\" x=\"37.9701\" y=\"117.834\">2.0</text>\n",
       "</g>\n",
       "<g clip-path=\"url(#clip00)\">\n",
       "<text style=\"fill:#000000; fill-opacity:1; font-family:Arial,Helvetica Neue,Helvetica,sans-serif; font-size:12; text-anchor:end;\" transform=\"rotate(0, 37.9701, 51.3017)\" x=\"37.9701\" y=\"51.3017\">2.5</text>\n",
       "</g>\n",
       "<g clip-path=\"url(#clip00)\">\n",
       "<text style=\"fill:#000000; fill-opacity:1; font-family:Arial,Helvetica Neue,Helvetica,sans-serif; font-size:21; text-anchor:middle;\" transform=\"rotate(0, 514.143, 18)\" x=\"514.143\" y=\"18\">JuliaDB vs. Pandas Benchmarks</text>\n",
       "</g>\n",
       "<g clip-path=\"url(#clip00)\">\n",
       "<text style=\"fill:#000000; fill-opacity:1; font-family:Arial,Helvetica Neue,Helvetica,sans-serif; font-size:16; text-anchor:middle;\" transform=\"rotate(-90, 14.4, 203.655)\" x=\"14.4\" y=\"203.655\">Time Relative to Pandas</text>\n",
       "</g>\n",
       "<circle clip-path=\"url(#clip02)\" style=\"fill:#000000; stroke:none; fill-opacity:1\" cx=\"74.3573\" cy=\"293.883\" r=\"4\"/>\n",
       "<circle clip-path=\"url(#clip02)\" style=\"fill:#009af9; stroke:none; fill-opacity:1\" cx=\"74.3573\" cy=\"293.883\" r=\"3\"/>\n",
       "<circle clip-path=\"url(#clip02)\" style=\"fill:#000000; stroke:none; fill-opacity:1\" cx=\"74.3573\" cy=\"43.6527\" r=\"4\"/>\n",
       "<circle clip-path=\"url(#clip02)\" style=\"fill:#e26f46; stroke:none; fill-opacity:1\" cx=\"74.3573\" cy=\"43.6527\" r=\"3\"/>\n",
       "<circle clip-path=\"url(#clip02)\" style=\"fill:#000000; stroke:none; fill-opacity:1\" cx=\"74.3573\" cy=\"288.759\" r=\"4\"/>\n",
       "<circle clip-path=\"url(#clip02)\" style=\"fill:#3da44d; stroke:none; fill-opacity:1\" cx=\"74.3573\" cy=\"288.759\" r=\"3\"/>\n",
       "<circle clip-path=\"url(#clip02)\" style=\"fill:#000000; stroke:none; fill-opacity:1\" cx=\"74.3573\" cy=\"41.2409\" r=\"4\"/>\n",
       "<circle clip-path=\"url(#clip02)\" style=\"fill:#c271d2; stroke:none; fill-opacity:1\" cx=\"74.3573\" cy=\"41.2409\" r=\"3\"/>\n",
       "<circle clip-path=\"url(#clip02)\" style=\"fill:#000000; stroke:none; fill-opacity:1\" cx=\"74.3573\" cy=\"325.767\" r=\"4\"/>\n",
       "<circle clip-path=\"url(#clip02)\" style=\"fill:#ac8d18; stroke:none; fill-opacity:1\" cx=\"74.3573\" cy=\"325.767\" r=\"3\"/>\n",
       "<circle clip-path=\"url(#clip02)\" style=\"fill:#000000; stroke:none; fill-opacity:1\" cx=\"74.3573\" cy=\"142.222\" r=\"4\"/>\n",
       "<circle clip-path=\"url(#clip02)\" style=\"fill:#00a9ad; stroke:none; fill-opacity:1\" cx=\"74.3573\" cy=\"142.222\" r=\"3\"/>\n",
       "<circle clip-path=\"url(#clip02)\" style=\"fill:#000000; stroke:none; fill-opacity:1\" cx=\"514.143\" cy=\"311.426\" r=\"4\"/>\n",
       "<circle clip-path=\"url(#clip02)\" style=\"fill:#ed5d92; stroke:none; fill-opacity:1\" cx=\"514.143\" cy=\"311.426\" r=\"3\"/>\n",
       "<circle clip-path=\"url(#clip02)\" style=\"fill:#000000; stroke:none; fill-opacity:1\" cx=\"514.143\" cy=\"298.309\" r=\"4\"/>\n",
       "<circle clip-path=\"url(#clip02)\" style=\"fill:#c68125; stroke:none; fill-opacity:1\" cx=\"514.143\" cy=\"298.309\" r=\"3\"/>\n",
       "<circle clip-path=\"url(#clip02)\" style=\"fill:#000000; stroke:none; fill-opacity:1\" cx=\"953.928\" cy=\"354.934\" r=\"4\"/>\n",
       "<circle clip-path=\"url(#clip02)\" style=\"fill:#00a98d; stroke:none; fill-opacity:1\" cx=\"953.928\" cy=\"354.934\" r=\"3\"/>\n",
       "<circle clip-path=\"url(#clip02)\" style=\"fill:#000000; stroke:none; fill-opacity:1\" cx=\"953.928\" cy=\"304.375\" r=\"4\"/>\n",
       "<circle clip-path=\"url(#clip02)\" style=\"fill:#8e971d; stroke:none; fill-opacity:1\" cx=\"953.928\" cy=\"304.375\" r=\"3\"/>\n",
       "<circle clip-path=\"url(#clip02)\" style=\"fill:#000000; stroke:none; fill-opacity:1\" cx=\"953.928\" cy=\"159.58\" r=\"4\"/>\n",
       "<circle clip-path=\"url(#clip02)\" style=\"fill:#00a8cb; stroke:none; fill-opacity:1\" cx=\"953.928\" cy=\"159.58\" r=\"3\"/>\n",
       "<circle clip-path=\"url(#clip02)\" style=\"fill:#000000; stroke:none; fill-opacity:1\" cx=\"953.928\" cy=\"366.069\" r=\"4\"/>\n",
       "<circle clip-path=\"url(#clip02)\" style=\"fill:#9b7fe8; stroke:none; fill-opacity:1\" cx=\"953.928\" cy=\"366.069\" r=\"3\"/>\n",
       "<circle clip-path=\"url(#clip02)\" style=\"fill:#000000; stroke:none; fill-opacity:1\" cx=\"953.928\" cy=\"284.251\" r=\"4\"/>\n",
       "<circle clip-path=\"url(#clip02)\" style=\"fill:#608cf6; stroke:none; fill-opacity:1\" cx=\"953.928\" cy=\"284.251\" r=\"3\"/>\n",
       "<polygon clip-path=\"url(#clip00)\" points=\"\n",
       "629.633,288.056 950.315,288.056 950.315,76.3761 629.633,76.3761 \n",
       "  \" fill=\"#ffffff\" fill-opacity=\"1\"/>\n",
       "<polyline clip-path=\"url(#clip00)\" style=\"stroke:#000000; stroke-width:1.4; stroke-opacity:1; fill:none\" points=\"\n",
       "  629.633,288.056 950.315,288.056 950.315,76.3761 629.633,76.3761 629.633,288.056 \n",
       "  \"/>\n",
       "<circle clip-path=\"url(#clip00)\" style=\"fill:#000000; stroke:none; fill-opacity:1\" cx=\"674.633\" cy=\"91.4961\" r=\"6\"/>\n",
       "<circle clip-path=\"url(#clip00)\" style=\"fill:#009af9; stroke:none; fill-opacity:1\" cx=\"674.633\" cy=\"91.4961\" r=\"5\"/>\n",
       "<g clip-path=\"url(#clip00)\">\n",
       "<text style=\"fill:#000000; fill-opacity:1; font-family:Arial,Helvetica Neue,Helvetica,sans-serif; font-size:12; text-anchor:start;\" transform=\"rotate(0, 709.633, 95.9961)\" x=\"709.633\" y=\"95.9961\">Inner Join (Number)</text>\n",
       "</g>\n",
       "<circle clip-path=\"url(#clip00)\" style=\"fill:#000000; stroke:none; fill-opacity:1\" cx=\"674.633\" cy=\"106.616\" r=\"6\"/>\n",
       "<circle clip-path=\"url(#clip00)\" style=\"fill:#e26f46; stroke:none; fill-opacity:1\" cx=\"674.633\" cy=\"106.616\" r=\"5\"/>\n",
       "<g clip-path=\"url(#clip00)\">\n",
       "<text style=\"fill:#000000; fill-opacity:1; font-family:Arial,Helvetica Neue,Helvetica,sans-serif; font-size:12; text-anchor:start;\" transform=\"rotate(0, 709.633, 111.116)\" x=\"709.633\" y=\"111.116\">Inner Join (String)</text>\n",
       "</g>\n",
       "<circle clip-path=\"url(#clip00)\" style=\"fill:#000000; stroke:none; fill-opacity:1\" cx=\"674.633\" cy=\"121.736\" r=\"6\"/>\n",
       "<circle clip-path=\"url(#clip00)\" style=\"fill:#3da44d; stroke:none; fill-opacity:1\" cx=\"674.633\" cy=\"121.736\" r=\"5\"/>\n",
       "<g clip-path=\"url(#clip00)\">\n",
       "<text style=\"fill:#000000; fill-opacity:1; font-family:Arial,Helvetica Neue,Helvetica,sans-serif; font-size:12; text-anchor:start;\" transform=\"rotate(0, 709.633, 126.236)\" x=\"709.633\" y=\"126.236\">Left Join (Number)</text>\n",
       "</g>\n",
       "<circle clip-path=\"url(#clip00)\" style=\"fill:#000000; stroke:none; fill-opacity:1\" cx=\"674.633\" cy=\"136.856\" r=\"6\"/>\n",
       "<circle clip-path=\"url(#clip00)\" style=\"fill:#c271d2; stroke:none; fill-opacity:1\" cx=\"674.633\" cy=\"136.856\" r=\"5\"/>\n",
       "<g clip-path=\"url(#clip00)\">\n",
       "<text style=\"fill:#000000; fill-opacity:1; font-family:Arial,Helvetica Neue,Helvetica,sans-serif; font-size:12; text-anchor:start;\" transform=\"rotate(0, 709.633, 141.356)\" x=\"709.633\" y=\"141.356\">Left Join (String)</text>\n",
       "</g>\n",
       "<circle clip-path=\"url(#clip00)\" style=\"fill:#000000; stroke:none; fill-opacity:1\" cx=\"674.633\" cy=\"151.976\" r=\"6\"/>\n",
       "<circle clip-path=\"url(#clip00)\" style=\"fill:#ac8d18; stroke:none; fill-opacity:1\" cx=\"674.633\" cy=\"151.976\" r=\"5\"/>\n",
       "<g clip-path=\"url(#clip00)\">\n",
       "<text style=\"fill:#000000; fill-opacity:1; font-family:Arial,Helvetica Neue,Helvetica,sans-serif; font-size:12; text-anchor:start;\" transform=\"rotate(0, 709.633, 156.476)\" x=\"709.633\" y=\"156.476\">Outer Join (Number)</text>\n",
       "</g>\n",
       "<circle clip-path=\"url(#clip00)\" style=\"fill:#000000; stroke:none; fill-opacity:1\" cx=\"674.633\" cy=\"167.096\" r=\"6\"/>\n",
       "<circle clip-path=\"url(#clip00)\" style=\"fill:#00a9ad; stroke:none; fill-opacity:1\" cx=\"674.633\" cy=\"167.096\" r=\"5\"/>\n",
       "<g clip-path=\"url(#clip00)\">\n",
       "<text style=\"fill:#000000; fill-opacity:1; font-family:Arial,Helvetica Neue,Helvetica,sans-serif; font-size:12; text-anchor:start;\" transform=\"rotate(0, 709.633, 171.596)\" x=\"709.633\" y=\"171.596\">Outer Join (String)</text>\n",
       "</g>\n",
       "<circle clip-path=\"url(#clip00)\" style=\"fill:#000000; stroke:none; fill-opacity:1\" cx=\"674.633\" cy=\"182.216\" r=\"6\"/>\n",
       "<circle clip-path=\"url(#clip00)\" style=\"fill:#ed5d92; stroke:none; fill-opacity:1\" cx=\"674.633\" cy=\"182.216\" r=\"5\"/>\n",
       "<g clip-path=\"url(#clip00)\">\n",
       "<text style=\"fill:#000000; fill-opacity:1; font-family:Arial,Helvetica Neue,Helvetica,sans-serif; font-size:12; text-anchor:start;\" transform=\"rotate(0, 709.633, 186.716)\" x=\"709.633\" y=\"186.716\">Read CSV (DateTime)</text>\n",
       "</g>\n",
       "<circle clip-path=\"url(#clip00)\" style=\"fill:#000000; stroke:none; fill-opacity:1\" cx=\"674.633\" cy=\"197.336\" r=\"6\"/>\n",
       "<circle clip-path=\"url(#clip00)\" style=\"fill:#c68125; stroke:none; fill-opacity:1\" cx=\"674.633\" cy=\"197.336\" r=\"5\"/>\n",
       "<g clip-path=\"url(#clip00)\">\n",
       "<text style=\"fill:#000000; fill-opacity:1; font-family:Arial,Helvetica Neue,Helvetica,sans-serif; font-size:12; text-anchor:start;\" transform=\"rotate(0, 709.633, 201.836)\" x=\"709.633\" y=\"201.836\">Read CSV (String)</text>\n",
       "</g>\n",
       "<circle clip-path=\"url(#clip00)\" style=\"fill:#000000; stroke:none; fill-opacity:1\" cx=\"674.633\" cy=\"212.456\" r=\"6\"/>\n",
       "<circle clip-path=\"url(#clip00)\" style=\"fill:#00a98d; stroke:none; fill-opacity:1\" cx=\"674.633\" cy=\"212.456\" r=\"5\"/>\n",
       "<g clip-path=\"url(#clip00)\">\n",
       "<text style=\"fill:#000000; fill-opacity:1; font-family:Arial,Helvetica Neue,Helvetica,sans-serif; font-size:12; text-anchor:start;\" transform=\"rotate(0, 709.633, 216.956)\" x=\"709.633\" y=\"216.956\">count(UDF, passenger_count)</text>\n",
       "</g>\n",
       "<circle clip-path=\"url(#clip00)\" style=\"fill:#000000; stroke:none; fill-opacity:1\" cx=\"674.633\" cy=\"227.576\" r=\"6\"/>\n",
       "<circle clip-path=\"url(#clip00)\" style=\"fill:#8e971d; stroke:none; fill-opacity:1\" cx=\"674.633\" cy=\"227.576\" r=\"5\"/>\n",
       "<g clip-path=\"url(#clip00)\">\n",
       "<text style=\"fill:#000000; fill-opacity:1; font-family:Arial,Helvetica Neue,Helvetica,sans-serif; font-size:12; text-anchor:start;\" transform=\"rotate(0, 709.633, 232.076)\" x=\"709.633\" y=\"232.076\">count(dayofweek, passenger_count)</text>\n",
       "</g>\n",
       "<circle clip-path=\"url(#clip00)\" style=\"fill:#000000; stroke:none; fill-opacity:1\" cx=\"674.633\" cy=\"242.696\" r=\"6\"/>\n",
       "<circle clip-path=\"url(#clip00)\" style=\"fill:#00a8cb; stroke:none; fill-opacity:1\" cx=\"674.633\" cy=\"242.696\" r=\"5\"/>\n",
       "<g clip-path=\"url(#clip00)\">\n",
       "<text style=\"fill:#000000; fill-opacity:1; font-family:Arial,Helvetica Neue,Helvetica,sans-serif; font-size:12; text-anchor:start;\" transform=\"rotate(0, 709.633, 247.196)\" x=\"709.633\" y=\"247.196\">count(dayofweek, passenger_count, floor)</text>\n",
       "</g>\n",
       "<circle clip-path=\"url(#clip00)\" style=\"fill:#000000; stroke:none; fill-opacity:1\" cx=\"674.633\" cy=\"257.816\" r=\"6\"/>\n",
       "<circle clip-path=\"url(#clip00)\" style=\"fill:#9b7fe8; stroke:none; fill-opacity:1\" cx=\"674.633\" cy=\"257.816\" r=\"5\"/>\n",
       "<g clip-path=\"url(#clip00)\">\n",
       "<text style=\"fill:#000000; fill-opacity:1; font-family:Arial,Helvetica Neue,Helvetica,sans-serif; font-size:12; text-anchor:start;\" transform=\"rotate(0, 709.633, 262.316)\" x=\"709.633\" y=\"262.316\">count(passenger_count, dayofweek)</text>\n",
       "</g>\n",
       "<circle clip-path=\"url(#clip00)\" style=\"fill:#000000; stroke:none; fill-opacity:1\" cx=\"674.633\" cy=\"272.936\" r=\"6\"/>\n",
       "<circle clip-path=\"url(#clip00)\" style=\"fill:#608cf6; stroke:none; fill-opacity:1\" cx=\"674.633\" cy=\"272.936\" r=\"5\"/>\n",
       "<g clip-path=\"url(#clip00)\">\n",
       "<text style=\"fill:#000000; fill-opacity:1; font-family:Arial,Helvetica Neue,Helvetica,sans-serif; font-size:12; text-anchor:start;\" transform=\"rotate(0, 709.633, 277.436)\" x=\"709.633\" y=\"277.436\">mean(VendorID)</text>\n",
       "</g>\n",
       "</svg>\n"
      ]
     },
     "execution_count": 75,
     "metadata": {},
     "output_type": "execute_result"
    }
   ],
   "source": [
    "plt"
   ]
  },
  {
   "cell_type": "markdown",
   "metadata": {
    "slideshow": {
     "slide_type": "slide"
    }
   },
   "source": [
    "# `loadtable` benchmarks\n",
    "\n",
    "- NY Taxi file: yellow_trips_2016-01.csv -- 10.9 million rows, 19 columns\n",
    "<br>\n",
    "<table>\n",
    "    <tr>\n",
    "        <td style=\"width: 200px\"><strong style=\"font-size:20px;\">Benchmark</strong></td> \n",
    "        <td style=\"width: 200px\"><strong style=\"font-size:20px;\">JuliaDB</strong></td>\n",
    "        <td style=\"width: 200px\"><strong style=\"font-size:20px;\">Pandas</strong></td>\n",
    "    </tr>\n",
    "    <tr>\n",
    "        <td style=\"width: 300px\"><strong style=\"font-size:20px;\">Read CSV (DateTime)</strong></td>\n",
    "        <td style=\"font-size:20px;\">16.8086 s</td>\n",
    "        <td style=\"font-size:20px;\">32.8733 s</td>\n",
    "    </tr>\n",
    "    <tr>\n",
    "        <td style=\"width: 300px\"><strong style=\"font-size:20px;\">Read CSV (String)</strong></td>\n",
    "        <td style=\"font-size:20px;\">18.0826 s</td>\n",
    "        <td style=\"font-size:20px;\">29.6489 s</td>\n",
    "    </tr>\n",
    "</table>"
   ]
  },
  {
   "cell_type": "markdown",
   "metadata": {
    "slideshow": {
     "slide_type": "slide"
    }
   },
   "source": [
    "# `groupby` Benchmarks\n",
    "\n",
    "1.6 million rows of taxi data\n",
    "\n",
    "<br>\n",
    "<table>\n",
    "    <tr>\n",
    "        <td style=\"width: 200px\"><strong style=\"font-size:20px;\">Benchmark</strong></td> \n",
    "        <td style=\"width: 200px\"><strong style=\"font-size:20px;\">JuliaDB</strong></td>\n",
    "        <td style=\"width: 200px\"><strong style=\"font-size:20px;\">Pandas</strong></td>\n",
    "    </tr>\n",
    "    <tr>\n",
    "        <td style=\"width: 300px\"><strong style=\"font-size:20px;\">mean(VendorID)</strong></td>\n",
    "        <td style=\"font-size:20px;\">11.797 ms</td>\n",
    "        <td style=\"font-size:20px;\">16.487 ms</td>\n",
    "    </tr>\n",
    "    <tr>\n",
    "        <td style=\"width: 300px\"><strong style=\"font-size:20px;\">count(dayofweek, passenger_count)</strong></td>\n",
    "        <td style=\"font-size:20px;\">47.192 ms</td>\n",
    "        <td style=\"font-size:20px;\">83.629 ms</td>\n",
    "    </tr>\n",
    "    <tr>\n",
    "        <td style=\"width: 300px\"><strong style=\"font-size:20px;\">count(UDF, passenger_count)</strong></td>\n",
    "        <td style=\"font-size:20px;\">51.797 ms</td>\n",
    "        <td style=\"font-size:20px;\">280.981 ms</td>\n",
    "    </tr>\n",
    "    <tr>\n",
    "        <td style=\"width: 300px\"><strong style=\"font-size:20px;\">count(dayofweek, passenger_count, floor)</strong></td>\n",
    "        <td style=\"font-size:20px;\">190.741 ms</td>\n",
    "        <td style=\"font-size:20px;\">115.429 ms</td>\n",
    "    </tr>\n",
    "    <tr>\n",
    "        <td style=\"width: 300px\"><strong style=\"font-size:20px;\">count(dayofweek, passenger_count, floor(Int))</strong></td>\n",
    "        <td style=\"font-size:20px;\">95.103 ms</td>\n",
    "        <td style=\"font-size:20px;\">NA</td>\n",
    "    </tr>\n",
    "    <tr>\n",
    "        <td style=\"width: 300px\"><strong style=\"font-size:20px;\">count(passenger_count, dayofweek)</strong></td>\n",
    "        <td style=\"font-size:20px;\">5.207 ms</td>\n",
    "        <td style=\"font-size:20px;\">51.726 ms</td>\n",
    "    </tr>\n",
    "</table>"
   ]
  },
  {
   "cell_type": "markdown",
   "metadata": {
    "slideshow": {
     "slide_type": "slide"
    }
   },
   "source": [
    "# Join Benchmarks\n",
    "\n",
    "**left:** 80k keys with 8k with uniques\n",
    "\n",
    "**right:** 8k keys where 6k are present in left\n",
    "\n",
    "**Key types:** 2 string fields, 2 floating point fields\n",
    "\n",
    "<br>\n",
    "<table>\n",
    "    <tr>\n",
    "        <td style=\"width: 200px\"><strong style=\"font-size:20px;\">Benchmark</strong></td> \n",
    "        <td style=\"width: 200px\"><strong style=\"font-size:20px;\">JuliaDB (String)</strong></td>\n",
    "        <td style=\"width: 200px\"><strong style=\"font-size:20px;\">Pandas (String)</strong></td>\n",
    "        <td style=\"width: 200px\"><strong style=\"font-size:20px;\">JuliaDB (Number)</strong></td>\n",
    "        <td style=\"width: 200px\"><strong style=\"font-size:20px;\">Pandas (Number)</strong></td>\n",
    "    </tr>\n",
    "    <tr>\n",
    "        <td style=\"width: 300px\"><strong style=\"font-size:20px;\">Inner Join</strong></td>\n",
    "        <td style=\"font-size:20px;\">41.59 ms</td>\n",
    "        <td style=\"font-size:20px;\">16.48 ms</td>\n",
    "        <td style=\"font-size:20px;\">12.40 ms</td>\n",
    "        <td style=\"font-size:20px;\">19.28 ms</td>\n",
    "    </tr>\n",
    "    <tr>\n",
    "        <td style=\"width: 300px\"><strong style=\"font-size:20px;\">Outer Join</strong></td>\n",
    "        <td style=\"font-size:20px;\">44.43 ms</td>\n",
    "        <td style=\"font-size:20px;\">24.92 ms</td>\n",
    "        <td style=\"font-size:20px;\">15.06 ms</td>\n",
    "        <td style=\"font-size:20px;\">37.32 ms</td>\n",
    "    </tr>\n",
    "    <tr>\n",
    "        <td style=\"width: 300px\"><strong style=\"font-size:20px;\">Left Join</strong></td>\n",
    "        <td style=\"font-size:20px;\">42.88 ms</td>\n",
    "        <td style=\"font-size:20px;\">16.87 ms</td>\n",
    "        <td style=\"font-size:20px;\">13.34 ms</td>\n",
    "        <td style=\"font-size:20px;\">19.57 ms</td>\n",
    "    </tr>\n",
    "</table>"
   ]
  },
  {
   "cell_type": "markdown",
   "metadata": {
    "slideshow": {
     "slide_type": "slide"
    }
   },
   "source": [
    "# API Overview\n",
    "\n",
    "## Data structures\n",
    "\n",
    "- **Table** -- a collection of rows, ordered by some fields\n",
    "  - Good for analytics workloads\n",
    "- **NDSparse** -- N-Dimensional sparse array\n",
    "  - Good for scientific computing workloads"
   ]
  },
  {
   "cell_type": "markdown",
   "metadata": {
    "slideshow": {
     "slide_type": "slide"
    }
   },
   "source": [
    "# API Overview\n",
    "\n",
    "```\n",
    "reindex, select, map, filter, dropna, columns, rows\n",
    "\n",
    "setcol, pushcol, popcol, insertcol, insertcolafter, insertcolbefore, renamecol\n",
    "\n",
    "reduce, groupreduce, groupby, flatten\n",
    "\n",
    "join, groupjoin, asofjoin, merge\n",
    "\n",
    "save, load\n",
    "```"
   ]
  },
  {
   "cell_type": "markdown",
   "metadata": {
    "slideshow": {
     "slide_type": "slide"
    }
   },
   "source": [
    "## Table specific\n",
    "\n",
    "`loadtable`\n",
    "\n",
    "## NDSparse specific\n",
    "\n",
    "`loadndsparse, keys, values, selectkeys, selectvalues, reducedim, broadcast`"
   ]
  },
  {
   "cell_type": "markdown",
   "metadata": {
    "slideshow": {
     "slide_type": "slide"
    }
   },
   "source": [
    "# Selection\n"
   ]
  },
  {
   "cell_type": "code",
   "execution_count": 76,
   "metadata": {
    "slideshow": {
     "slide_type": "skip"
    }
   },
   "outputs": [],
   "source": [
    "using Interact, JuliaDB\n",
    "tbl = table([0.01,0.05,0.07], [1,2,3], [6,5,4], names=[:t, :x, :y])\n",
    "\n",
    "selectors = split(\"\"\"\n",
    "    :x\n",
    "    (:x, :y)\n",
    "    :x => -\n",
    "    (:x, :y) => p -> hypot(p.x, p.y)\n",
    "    [1,2,3]\n",
    "    (:x, :z => [7,8,9])\n",
    "    (:t, :r => (:x, :y) => p -> hypot(p.x, p.y))\"\"\", \"\\n\")\n",
    "\n",
    "\n",
    "opts = Interact.selection(selectors)\n",
    "\n",
    "result = map(signal(opts)) do sel\n",
    "    code = \"JuliaDB.select(tbl, $sel)\"\n",
    "    HTML(\"<pre>\n",
    "        <strong>\n",
    "        select(tbl, <span style='color:green'>$sel</span>)</strong>\\n\\n\" * repr(\n",
    "        eval(parse(\"JuliaDB.$code\"))) * \"</pre>\"\n",
    "    )\n",
    "    end;"
   ]
  },
  {
   "cell_type": "code",
   "execution_count": 77,
   "metadata": {
    "slideshow": {
     "slide_type": "-"
    }
   },
   "outputs": [
    {
     "data": {
      "text/plain": [
       "Table with 3 rows, 3 columns:\n",
       "t     x  y\n",
       "──────────\n",
       "0.01  1  6\n",
       "0.05  2  5\n",
       "0.07  3  4"
      ]
     },
     "metadata": {},
     "output_type": "display_data"
    },
    {
     "data": {
      "application/vnd.jupyter.widget-view+json": {
       "model_id": "c6ed612e-c741-4e16-8800-1cad5f471a72",
       "version_major": 2,
       "version_minor": 0
      }
     },
     "metadata": {},
     "output_type": "display_data"
    },
    {
     "data": {
      "text/html": [],
      "text/plain": [
       "Interact.Options{:Select,Any}(9: \"input-3\" = :x Any , \"\", \":x\", \":x\", 0, Interact.OptionDict(DataStructures.OrderedDict{Any,Any}(\":x\"=>\":x\",\"(:x, :y)\"=>\"(:x, :y)\",\":x => -\"=>\":x => -\",\"(:x, :y) => p -> hypot(p.x, p.y)\"=>\"(:x, :y) => p -> hypot(p.x, p.y)\",\"[1,2,3]\"=>\"[1,2,3]\",\"(:x, :z => [7,8,9])\"=>\"(:x, :z => [7,8,9])\",\"(:t, :r => (:x, :y) => p -> hypot(p.x, p.y))\"=>\"(:t, :r => (:x, :y) => p -> hypot(p.x, p.y))\"), Dict{Any,Any}(Pair{Any,Any}(\":x\", \":x\"),Pair{Any,Any}(\"(:x, :y) => p -> hypot(p.x, p.y)\", \"(:x, :y) => p -> hypot(p.x, p.y)\"),Pair{Any,Any}(\"(:x, :z => [7,8,9])\", \"(:x, :z => [7,8,9])\"),Pair{Any,Any}(\"(:x, :y)\", \"(:x, :y)\"),Pair{Any,Any}(\":x => -\", \":x => -\"),Pair{Any,Any}(\"(:t, :r => (:x, :y) => p -> hypot(p.x, p.y))\", \"(:t, :r => (:x, :y) => p -> hypot(p.x, p.y))\"),Pair{Any,Any}(\"[1,2,3]\", \"[1,2,3]\"))), Any[], Any[], true, \"horizontal\")"
      ]
     },
     "metadata": {},
     "output_type": "display_data"
    },
    {
     "data": {
      "text/html": [
       "<pre>\n",
       "        <strong>\n",
       "        select(tbl, <span style='color:green'>:x</span>)</strong>\n",
       "\n",
       "[1, 2, 3]</pre>"
      ],
      "text/plain": [
       "HTML{String}(\"<pre>\\n        <strong>\\n        select(tbl, <span style='color:green'>:x</span>)</strong>\\n\\n[1, 2, 3]</pre>\")"
      ]
     },
     "metadata": {
      "comm_id": "46fe2d93-b311-4415-91d4-938c8b8af331",
      "reactive": true
     },
     "output_type": "display_data"
    }
   ],
   "source": [
    "display(tbl)\n",
    "display(opts)\n",
    "display(result)"
   ]
  },
  {
   "cell_type": "markdown",
   "metadata": {
    "slideshow": {
     "slide_type": "slide"
    }
   },
   "source": [
    "# Selection\n",
    "\n",
    "Wildly useful.\n",
    "\n",
    "<code>select(t, <span style=\"color: green\">which</span>)\n",
    "map(f, t; <span style=\"color: green\">select</span>)\n",
    "reduce(f, t; <span style=\"color: green\">select</span>)\n",
    "filter(f, t; <span style=\"color: green\">select</span>)\n",
    "groupby(f, t, <span style=\"color: green\">by</span>; <span style=\"color: green\">select</span>)\n",
    "groupreduce(f, t, <span style=\"color: green\">by</span>; <span style=\"color: green\">select</span>)\n",
    "join(f, l, r; how, <span style=\"color: green\">lkey</span>, <span style=\"color: green\">rkey</span>, <span style=\"color: green\">lselect</span>, <span style=\"color: green\">rselect</span>)\n",
    "groupjoin(f, l, r;how,  <span style=\"color: green\">lkey</span>, <span style=\"color: green\">rkey</span>, <span style=\"color: green\">lselect</span>, <span style=\"color: green\">rselect</span>)\n",
    "</code>\n",
    "\n",
    "\n",
    "(Green arguments are selectors)"
   ]
  },
  {
   "cell_type": "markdown",
   "metadata": {
    "slideshow": {
     "slide_type": "slide"
    }
   },
   "source": [
    "# NDSparse\n",
    "\n",
    "Key-value store that behaves like an n-dimensional array"
   ]
  },
  {
   "cell_type": "code",
   "execution_count": 78,
   "metadata": {
    "slideshow": {
     "slide_type": "fragment"
    }
   },
   "outputs": [
    {
     "name": "stdout",
     "output_type": "stream",
     "text": [
      "Metadata for 5 / 5 files can be loaded from cache.\n"
     ]
    },
    {
     "data": {
      "text/plain": [
       "2-d NDSparse with 6532219 values (2 field named tuples):\n",
       "pair       time                    │ bid      ask\n",
       "───────────────────────────────────┼─────────────────\n",
       "\"AUD/JPY\"  2016-12-01T00:00:00.04  │ 84.719   84.736\n",
       "\"AUD/JPY\"  2016-12-01T00:00:00.415 │ 84.722   84.738\n",
       "\"AUD/JPY\"  2016-12-01T00:00:00.625 │ 84.717   84.734\n",
       "\"AUD/JPY\"  2016-12-01T00:00:00.842 │ 84.716   84.727\n",
       "\"AUD/JPY\"  2016-12-01T00:00:01.056 │ 84.713   84.73\n",
       "\"AUD/JPY\"  2016-12-01T00:00:01.457 │ 84.715   84.731\n",
       "\"AUD/JPY\"  2016-12-01T00:00:01.926 │ 84.713   84.729\n",
       "\"AUD/JPY\"  2016-12-01T00:00:02.39  │ 84.714   84.73\n",
       "\"AUD/JPY\"  2016-12-01T00:00:02.611 │ 84.714   84.73\n",
       "\"AUD/JPY\"  2016-12-01T00:00:02.85  │ 84.721   84.734\n",
       "\"AUD/JPY\"  2016-12-01T00:00:03.159 │ 84.719   84.733\n",
       "\"AUD/JPY\"  2016-12-01T00:00:03.407 │ 84.725   84.739\n",
       "                                   ⋮\n",
       "\"EUR/CHF\"  2016-12-30T21:59:11.315 │ 1.07122  1.07281\n",
       "\"EUR/CHF\"  2016-12-30T21:59:17.272 │ 1.07122  1.07276\n",
       "\"EUR/CHF\"  2016-12-30T21:59:23.293 │ 1.07132  1.07247\n",
       "\"EUR/CHF\"  2016-12-30T21:59:25.069 │ 1.07132  1.07252\n",
       "\"EUR/CHF\"  2016-12-30T21:59:27.241 │ 1.07122  1.07285\n",
       "\"EUR/CHF\"  2016-12-30T21:59:29.473 │ 1.07122  1.07276\n",
       "\"EUR/CHF\"  2016-12-30T21:59:35.949 │ 1.07122  1.07275\n",
       "\"EUR/CHF\"  2016-12-30T21:59:40.014 │ 1.07115  1.07276\n",
       "\"EUR/CHF\"  2016-12-30T21:59:41.132 │ 1.07097  1.07246\n",
       "\"EUR/CHF\"  2016-12-30T21:59:45.047 │ 1.07106  1.07277\n",
       "\"EUR/CHF\"  2016-12-30T21:59:46.19  │ 1.0708   1.07277"
      ]
     },
     "execution_count": 78,
     "metadata": {},
     "output_type": "execute_result"
    }
   ],
   "source": [
    "path = \"/Users/joshday/datasets/pydatanyc/truefx\"\n",
    "X = loadndsparse(path,\n",
    "        indexcols=[1,2],\n",
    "        header_exists=false,\n",
    "        distributed=false,\n",
    "        colnames=[\"pair\", \"time\", \"bid\", \"ask\"])"
   ]
  },
  {
   "cell_type": "markdown",
   "metadata": {
    "slideshow": {
     "slide_type": "slide"
    }
   },
   "source": [
    "# Indexing by arbitrary keys"
   ]
  },
  {
   "cell_type": "code",
   "execution_count": 79,
   "metadata": {},
   "outputs": [
    {
     "data": {
      "text/plain": [
       "Tuple{String,DateTime}"
      ]
     },
     "execution_count": 79,
     "metadata": {},
     "output_type": "execute_result"
    }
   ],
   "source": [
    "keytype(X)"
   ]
  },
  {
   "cell_type": "code",
   "execution_count": 80,
   "metadata": {},
   "outputs": [
    {
     "data": {
      "text/plain": [
       "NamedTuples._NT_bid_ask{Float64,Float64}"
      ]
     },
     "execution_count": 80,
     "metadata": {},
     "output_type": "execute_result"
    }
   ],
   "source": [
    "eltype(X)"
   ]
  },
  {
   "cell_type": "code",
   "execution_count": 81,
   "metadata": {},
   "outputs": [
    {
     "data": {
      "text/plain": [
       "(bid = 84.153, ask = 84.171997)"
      ]
     },
     "execution_count": 81,
     "metadata": {},
     "output_type": "execute_result"
    }
   ],
   "source": [
    "X[\"AUD/JPY\", DateTime(\"2016-12-30T00:00:00.032\")]"
   ]
  },
  {
   "cell_type": "code",
   "execution_count": 82,
   "metadata": {
    "slideshow": {
     "slide_type": "skip"
    }
   },
   "outputs": [],
   "source": [
    "using IntervalSets"
   ]
  },
  {
   "cell_type": "code",
   "execution_count": 83,
   "metadata": {
    "slideshow": {
     "slide_type": "fragment"
    }
   },
   "outputs": [
    {
     "data": {
      "text/plain": [
       "NamedTuples._NT_pair_time_bid_ask{String,DateTime,Float64,Float64}"
      ]
     },
     "execution_count": 83,
     "metadata": {},
     "output_type": "execute_result"
    }
   ],
   "source": [
    "t = table(X)\n",
    "eltype(t)"
   ]
  },
  {
   "cell_type": "code",
   "execution_count": 84,
   "metadata": {},
   "outputs": [
    {
     "data": {
      "text/plain": [
       "(pair = \"AUD/JPY\", time = 2016-12-01T00:00:00.04, bid = 84.719002, ask = 84.736)"
      ]
     },
     "execution_count": 84,
     "metadata": {},
     "output_type": "execute_result"
    }
   ],
   "source": [
    "t[1]"
   ]
  },
  {
   "cell_type": "markdown",
   "metadata": {
    "slideshow": {
     "slide_type": "slide"
    }
   },
   "source": [
    "# Indexing by arbitrary keys"
   ]
  },
  {
   "cell_type": "code",
   "execution_count": 85,
   "metadata": {},
   "outputs": [
    {
     "data": {
      "text/plain": [
       "2-d NDSparse with 323859 values (2 field named tuples):\n",
       "pair       time                    │ bid      ask\n",
       "───────────────────────────────────┼─────────────────\n",
       "\"AUD/JPY\"  2016-12-30T00:00:00.032 │ 84.153   84.172\n",
       "\"AUD/JPY\"  2016-12-30T00:00:00.457 │ 84.158   84.172\n",
       "\"AUD/JPY\"  2016-12-30T00:00:00.978 │ 84.161   84.174\n",
       "\"AUD/JPY\"  2016-12-30T00:00:01.579 │ 84.159   84.169\n",
       "\"AUD/JPY\"  2016-12-30T00:00:02.213 │ 84.154   84.172\n",
       "\"AUD/JPY\"  2016-12-30T00:00:03.301 │ 84.154   84.171\n",
       "\"AUD/JPY\"  2016-12-30T00:00:04.558 │ 84.155   84.172\n",
       "\"AUD/JPY\"  2016-12-30T00:00:05.427 │ 84.154   84.169\n",
       "\"AUD/JPY\"  2016-12-30T00:00:06.258 │ 84.156   84.174\n",
       "\"AUD/JPY\"  2016-12-30T00:00:07.086 │ 84.158   84.175\n",
       "\"AUD/JPY\"  2016-12-30T00:00:08.134 │ 84.158   84.175\n",
       "\"AUD/JPY\"  2016-12-30T00:00:08.747 │ 84.155   84.167\n",
       "                                   ⋮\n",
       "\"EUR/CHF\"  2016-12-30T21:59:11.315 │ 1.07122  1.07281\n",
       "\"EUR/CHF\"  2016-12-30T21:59:17.272 │ 1.07122  1.07276\n",
       "\"EUR/CHF\"  2016-12-30T21:59:23.293 │ 1.07132  1.07247\n",
       "\"EUR/CHF\"  2016-12-30T21:59:25.069 │ 1.07132  1.07252\n",
       "\"EUR/CHF\"  2016-12-30T21:59:27.241 │ 1.07122  1.07285\n",
       "\"EUR/CHF\"  2016-12-30T21:59:29.473 │ 1.07122  1.07276\n",
       "\"EUR/CHF\"  2016-12-30T21:59:35.949 │ 1.07122  1.07275\n",
       "\"EUR/CHF\"  2016-12-30T21:59:40.014 │ 1.07115  1.07276\n",
       "\"EUR/CHF\"  2016-12-30T21:59:41.132 │ 1.07097  1.07246\n",
       "\"EUR/CHF\"  2016-12-30T21:59:45.047 │ 1.07106  1.07277\n",
       "\"EUR/CHF\"  2016-12-30T21:59:46.19  │ 1.0708   1.07277"
      ]
     },
     "execution_count": 85,
     "metadata": {},
     "output_type": "execute_result"
    }
   ],
   "source": [
    "X[:, Date(\"2016-12-30\")..Date(\"2016-12-31\")]"
   ]
  },
  {
   "cell_type": "markdown",
   "metadata": {
    "slideshow": {
     "slide_type": "slide"
    }
   },
   "source": [
    "# Indexing by arbitrary keys"
   ]
  },
  {
   "cell_type": "code",
   "execution_count": 86,
   "metadata": {
    "slideshow": {
     "slide_type": "-"
    }
   },
   "outputs": [
    {
     "data": {
      "text/plain": [
       "2-d NDSparse with 113955 values (2 field named tuples):\n",
       "pair       time                    │ bid      ask\n",
       "───────────────────────────────────┼─────────────────\n",
       "\"AUD/USD\"  2016-12-30T00:00:00.617 │ 0.72343  0.72358\n",
       "\"AUD/USD\"  2016-12-30T00:00:01.433 │ 0.72343  0.72357\n",
       "\"AUD/USD\"  2016-12-30T00:00:01.932 │ 0.72343  0.72356\n",
       "\"AUD/USD\"  2016-12-30T00:00:03.168 │ 0.72342  0.72356\n",
       "\"AUD/USD\"  2016-12-30T00:00:04.431 │ 0.72343  0.72357\n",
       "\"AUD/USD\"  2016-12-30T00:00:06.205 │ 0.72343  0.72357\n",
       "\"AUD/USD\"  2016-12-30T00:00:07.025 │ 0.72343  0.72357\n",
       "\"AUD/USD\"  2016-12-30T00:00:08.548 │ 0.72343  0.72358\n",
       "\"AUD/USD\"  2016-12-30T00:00:09.573 │ 0.72353  0.72361\n",
       "\"AUD/USD\"  2016-12-30T00:00:10.19  │ 0.72353  0.72366\n",
       "\"AUD/USD\"  2016-12-30T00:00:11.076 │ 0.72353  0.72368\n",
       "\"AUD/USD\"  2016-12-30T00:00:11.965 │ 0.72353  0.72368\n",
       "                                   ⋮\n",
       "\"CAD/JPY\"  2016-12-30T21:58:52.225 │ 87.003   87.156\n",
       "\"CAD/JPY\"  2016-12-30T21:59:00.056 │ 86.818   87.156\n",
       "\"CAD/JPY\"  2016-12-30T21:59:01.092 │ 86.976   87.285\n",
       "\"CAD/JPY\"  2016-12-30T21:59:07.292 │ 87.003   87.2\n",
       "\"CAD/JPY\"  2016-12-30T21:59:15.858 │ 86.961   87.159\n",
       "\"CAD/JPY\"  2016-12-30T21:59:23.009 │ 87.003   87.162\n",
       "\"CAD/JPY\"  2016-12-30T21:59:25.844 │ 87.003   87.184\n",
       "\"CAD/JPY\"  2016-12-30T21:59:30.112 │ 87.003   87.159\n",
       "\"CAD/JPY\"  2016-12-30T21:59:40.332 │ 86.952   87.192\n",
       "\"CAD/JPY\"  2016-12-30T21:59:45.025 │ 86.856   87.208\n",
       "\"CAD/JPY\"  2016-12-30T21:59:56.051 │ 86.896   87.208"
      ]
     },
     "execution_count": 86,
     "metadata": {},
     "output_type": "execute_result"
    }
   ],
   "source": [
    "X[[\"AUD/USD\", \"CAD/JPY\"], Date(\"2016-12-30\")..Date(\"2016-12-31\")]"
   ]
  },
  {
   "cell_type": "markdown",
   "metadata": {
    "slideshow": {
     "slide_type": "slide"
    }
   },
   "source": [
    "# Indexing by arbitrary keys"
   ]
  },
  {
   "cell_type": "code",
   "execution_count": 87,
   "metadata": {},
   "outputs": [
    {
     "data": {
      "text/plain": [
       "2-d NDSparse with 6532219 values (Float64):\n",
       "pair       time                    │\n",
       "───────────────────────────────────┼────────\n",
       "\"AUD/JPY\"  2016-12-01T00:00:00.04  │ 84.719\n",
       "\"AUD/JPY\"  2016-12-01T00:00:00.415 │ 84.722\n",
       "\"AUD/JPY\"  2016-12-01T00:00:00.625 │ 84.717\n",
       "\"AUD/JPY\"  2016-12-01T00:00:00.842 │ 84.716\n",
       "\"AUD/JPY\"  2016-12-01T00:00:01.056 │ 84.713\n",
       "\"AUD/JPY\"  2016-12-01T00:00:01.457 │ 84.715\n",
       "\"AUD/JPY\"  2016-12-01T00:00:01.926 │ 84.713\n",
       "\"AUD/JPY\"  2016-12-01T00:00:02.39  │ 84.714\n",
       "\"AUD/JPY\"  2016-12-01T00:00:02.611 │ 84.714\n",
       "\"AUD/JPY\"  2016-12-01T00:00:02.85  │ 84.721\n",
       "\"AUD/JPY\"  2016-12-01T00:00:03.159 │ 84.719\n",
       "\"AUD/JPY\"  2016-12-01T00:00:03.407 │ 84.725\n",
       "                                   ⋮\n",
       "\"EUR/CHF\"  2016-12-30T21:59:11.315 │ 1.07122\n",
       "\"EUR/CHF\"  2016-12-30T21:59:17.272 │ 1.07122\n",
       "\"EUR/CHF\"  2016-12-30T21:59:23.293 │ 1.07132\n",
       "\"EUR/CHF\"  2016-12-30T21:59:25.069 │ 1.07132\n",
       "\"EUR/CHF\"  2016-12-30T21:59:27.241 │ 1.07122\n",
       "\"EUR/CHF\"  2016-12-30T21:59:29.473 │ 1.07122\n",
       "\"EUR/CHF\"  2016-12-30T21:59:35.949 │ 1.07122\n",
       "\"EUR/CHF\"  2016-12-30T21:59:40.014 │ 1.07115\n",
       "\"EUR/CHF\"  2016-12-30T21:59:41.132 │ 1.07097\n",
       "\"EUR/CHF\"  2016-12-30T21:59:45.047 │ 1.07106\n",
       "\"EUR/CHF\"  2016-12-30T21:59:46.19  │ 1.0708"
      ]
     },
     "execution_count": 87,
     "metadata": {},
     "output_type": "execute_result"
    }
   ],
   "source": [
    "bids = selectvalues(X, :bid)"
   ]
  },
  {
   "cell_type": "markdown",
   "metadata": {
    "slideshow": {
     "slide_type": "slide"
    }
   },
   "source": [
    "# Behaves like N-Dimensional Array"
   ]
  },
  {
   "cell_type": "code",
   "execution_count": 88,
   "metadata": {},
   "outputs": [
    {
     "data": {
      "text/plain": [
       "Float64"
      ]
     },
     "execution_count": 88,
     "metadata": {},
     "output_type": "execute_result"
    }
   ],
   "source": [
    "eltype(bids)"
   ]
  },
  {
   "cell_type": "code",
   "execution_count": 89,
   "metadata": {},
   "outputs": [
    {
     "data": {
      "text/plain": [
       "1-d NDSparse with 5 values (Float64):\n",
       "pair      │\n",
       "──────────┼──────────\n",
       "\"AUD/JPY\" │ 1.2507e8\n",
       "\"AUD/NZD\" │ 1.16549e6\n",
       "\"AUD/USD\" │ 1.05043e6\n",
       "\"CAD/JPY\" │ 9.32479e7\n",
       "\"EUR/CHF\" │ 1.55584e6"
      ]
     },
     "execution_count": 89,
     "metadata": {},
     "output_type": "execute_result"
    }
   ],
   "source": [
    "reducedim(+, bids, 2)"
   ]
  },
  {
   "cell_type": "markdown",
   "metadata": {
    "slideshow": {
     "slide_type": "slide"
    }
   },
   "source": [
    "# Behaves like N-Dimensional Array"
   ]
  },
  {
   "cell_type": "code",
   "execution_count": 90,
   "metadata": {},
   "outputs": [
    {
     "data": {
      "text/plain": [
       "2-d NDSparse with 2590 values (Float64):\n",
       "pair       time                │\n",
       "───────────────────────────────┼────────\n",
       "\"AUD/JPY\"  2016-12-01T00:00:00 │ 84.75\n",
       "\"AUD/JPY\"  2016-12-01T01:00:00 │ 84.706\n",
       "\"AUD/JPY\"  2016-12-01T02:00:00 │ 84.662\n",
       "\"AUD/JPY\"  2016-12-01T03:00:00 │ 84.595\n",
       "\"AUD/JPY\"  2016-12-01T04:00:00 │ 84.674\n",
       "\"AUD/JPY\"  2016-12-01T05:00:00 │ 84.599\n",
       "\"AUD/JPY\"  2016-12-01T06:00:00 │ 84.651\n",
       "\"AUD/JPY\"  2016-12-01T07:00:00 │ 84.534\n",
       "\"AUD/JPY\"  2016-12-01T08:00:00 │ 84.542\n",
       "\"AUD/JPY\"  2016-12-01T09:00:00 │ 84.538\n",
       "\"AUD/JPY\"  2016-12-01T10:00:00 │ 84.508\n",
       "\"AUD/JPY\"  2016-12-01T11:00:00 │ 84.487\n",
       "                               ⋮\n",
       "\"EUR/CHF\"  2016-12-30T11:00:00 │ 1.07544\n",
       "\"EUR/CHF\"  2016-12-30T12:00:00 │ 1.07557\n",
       "\"EUR/CHF\"  2016-12-30T13:00:00 │ 1.07405\n",
       "\"EUR/CHF\"  2016-12-30T14:00:00 │ 1.07304\n",
       "\"EUR/CHF\"  2016-12-30T15:00:00 │ 1.07451\n",
       "\"EUR/CHF\"  2016-12-30T16:00:00 │ 1.07316\n",
       "\"EUR/CHF\"  2016-12-30T17:00:00 │ 1.07311\n",
       "\"EUR/CHF\"  2016-12-30T18:00:00 │ 1.07293\n",
       "\"EUR/CHF\"  2016-12-30T19:00:00 │ 1.07288\n",
       "\"EUR/CHF\"  2016-12-30T20:00:00 │ 1.07259\n",
       "\"EUR/CHF\"  2016-12-30T21:00:00 │ 1.0722"
      ]
     },
     "execution_count": 90,
     "metadata": {},
     "output_type": "execute_result"
    }
   ],
   "source": [
    "# Aggregate maximum bid for every hour\n",
    "\n",
    "hourlybids = convertdim(bids, :time, x->trunc(x, Dates.Hour),\n",
    "                        agg=max)"
   ]
  },
  {
   "cell_type": "markdown",
   "metadata": {
    "slideshow": {
     "slide_type": "slide"
    }
   },
   "source": [
    "# Behaves like N-Dimensional Array"
   ]
  },
  {
   "cell_type": "code",
   "execution_count": 91,
   "metadata": {},
   "outputs": [
    {
     "data": {
      "text/plain": [
       "1-d NDSparse with 518 values (Float64):\n",
       "time                │\n",
       "────────────────────┼───────\n",
       "2016-12-01T00:00:00 │ 84.75\n",
       "2016-12-01T01:00:00 │ 84.706\n",
       "2016-12-01T02:00:00 │ 84.662\n",
       "2016-12-01T03:00:00 │ 84.595\n",
       "2016-12-01T04:00:00 │ 84.674\n",
       "2016-12-01T05:00:00 │ 84.599\n",
       "2016-12-01T06:00:00 │ 84.651\n",
       "2016-12-01T07:00:00 │ 84.534\n",
       "2016-12-01T08:00:00 │ 84.542\n",
       "2016-12-01T09:00:00 │ 84.538\n",
       "2016-12-01T10:00:00 │ 84.508\n",
       "2016-12-01T11:00:00 │ 84.487\n",
       "                    ⋮\n",
       "2016-12-30T11:00:00 │ 84.548\n",
       "2016-12-30T12:00:00 │ 84.59\n",
       "2016-12-30T13:00:00 │ 84.565\n",
       "2016-12-30T14:00:00 │ 84.474\n",
       "2016-12-30T15:00:00 │ 84.518\n",
       "2016-12-30T16:00:00 │ 84.515\n",
       "2016-12-30T17:00:00 │ 84.429\n",
       "2016-12-30T18:00:00 │ 84.378\n",
       "2016-12-30T19:00:00 │ 84.351\n",
       "2016-12-30T20:00:00 │ 84.345\n",
       "2016-12-30T21:00:00 │ 84.381"
      ]
     },
     "execution_count": 91,
     "metadata": {},
     "output_type": "execute_result"
    }
   ],
   "source": [
    "audjpy = hourlybids[\"AUD/JPY\", :]\n",
    "audjpy = selectkeys(audjpy, (:time,)) # squeeze"
   ]
  },
  {
   "cell_type": "markdown",
   "metadata": {
    "slideshow": {
     "slide_type": "slide"
    }
   },
   "source": [
    "# Behaves like N-Dimensional Array"
   ]
  },
  {
   "cell_type": "code",
   "execution_count": 92,
   "metadata": {},
   "outputs": [
    {
     "data": {
      "text/plain": [
       "2-d NDSparse with 2590 values (Float64):\n",
       "pair       time                │\n",
       "───────────────────────────────┼──────────\n",
       "\"AUD/JPY\"  2016-12-01T00:00:00 │ 1.0\n",
       "\"AUD/JPY\"  2016-12-01T01:00:00 │ 1.0\n",
       "\"AUD/JPY\"  2016-12-01T02:00:00 │ 1.0\n",
       "\"AUD/JPY\"  2016-12-01T03:00:00 │ 1.0\n",
       "\"AUD/JPY\"  2016-12-01T04:00:00 │ 1.0\n",
       "\"AUD/JPY\"  2016-12-01T05:00:00 │ 1.0\n",
       "\"AUD/JPY\"  2016-12-01T06:00:00 │ 1.0\n",
       "\"AUD/JPY\"  2016-12-01T07:00:00 │ 1.0\n",
       "\"AUD/JPY\"  2016-12-01T08:00:00 │ 1.0\n",
       "\"AUD/JPY\"  2016-12-01T09:00:00 │ 1.0\n",
       "\"AUD/JPY\"  2016-12-01T10:00:00 │ 1.0\n",
       "\"AUD/JPY\"  2016-12-01T11:00:00 │ 1.0\n",
       "                               ⋮\n",
       "\"EUR/CHF\"  2016-12-30T11:00:00 │ 0.0127199\n",
       "\"EUR/CHF\"  2016-12-30T12:00:00 │ 0.0127151\n",
       "\"EUR/CHF\"  2016-12-30T13:00:00 │ 0.0127009\n",
       "\"EUR/CHF\"  2016-12-30T14:00:00 │ 0.0127026\n",
       "\"EUR/CHF\"  2016-12-30T15:00:00 │ 0.0127134\n",
       "\"EUR/CHF\"  2016-12-30T16:00:00 │ 0.0126979\n",
       "\"EUR/CHF\"  2016-12-30T17:00:00 │ 0.0127102\n",
       "\"EUR/CHF\"  2016-12-30T18:00:00 │ 0.0127158\n",
       "\"EUR/CHF\"  2016-12-30T19:00:00 │ 0.0127192\n",
       "\"EUR/CHF\"  2016-12-30T20:00:00 │ 0.0127167\n",
       "\"EUR/CHF\"  2016-12-30T21:00:00 │ 0.0127067"
      ]
     },
     "execution_count": 92,
     "metadata": {},
     "output_type": "execute_result"
    }
   ],
   "source": [
    "hourlybids ./ audjpy"
   ]
  },
  {
   "cell_type": "markdown",
   "metadata": {
    "slideshow": {
     "slide_type": "slide"
    }
   },
   "source": [
    "# Behaves like N-Dimensional Array"
   ]
  },
  {
   "cell_type": "code",
   "execution_count": 93,
   "metadata": {},
   "outputs": [
    {
     "data": {
      "text/plain": [
       "2-d NDSparse with 2590 values (Float64):\n",
       "pair       time                │\n",
       "───────────────────────────────┼────────\n",
       "\"AUD/JPY\"  2016-12-01T00:00:00 │ 119.855\n",
       "\"AUD/JPY\"  2016-12-01T01:00:00 │ 119.792\n",
       "\"AUD/JPY\"  2016-12-01T02:00:00 │ 119.73\n",
       "\"AUD/JPY\"  2016-12-01T03:00:00 │ 119.635\n",
       "\"AUD/JPY\"  2016-12-01T04:00:00 │ 119.747\n",
       "\"AUD/JPY\"  2016-12-01T05:00:00 │ 119.641\n",
       "\"AUD/JPY\"  2016-12-01T06:00:00 │ 119.715\n",
       "\"AUD/JPY\"  2016-12-01T07:00:00 │ 119.549\n",
       "\"AUD/JPY\"  2016-12-01T08:00:00 │ 119.56\n",
       "\"AUD/JPY\"  2016-12-01T09:00:00 │ 119.555\n",
       "\"AUD/JPY\"  2016-12-01T10:00:00 │ 119.512\n",
       "\"AUD/JPY\"  2016-12-01T11:00:00 │ 119.483\n",
       "                               ⋮\n",
       "\"EUR/CHF\"  2016-12-30T11:00:00 │ 84.5548\n",
       "\"EUR/CHF\"  2016-12-30T12:00:00 │ 84.5968\n",
       "\"EUR/CHF\"  2016-12-30T13:00:00 │ 84.5718\n",
       "\"EUR/CHF\"  2016-12-30T14:00:00 │ 84.4808\n",
       "\"EUR/CHF\"  2016-12-30T15:00:00 │ 84.5248\n",
       "\"EUR/CHF\"  2016-12-30T16:00:00 │ 84.5218\n",
       "\"EUR/CHF\"  2016-12-30T17:00:00 │ 84.4358\n",
       "\"EUR/CHF\"  2016-12-30T18:00:00 │ 84.3848\n",
       "\"EUR/CHF\"  2016-12-30T19:00:00 │ 84.3578\n",
       "\"EUR/CHF\"  2016-12-30T20:00:00 │ 84.3518\n",
       "\"EUR/CHF\"  2016-12-30T21:00:00 │ 84.3878"
      ]
     },
     "execution_count": 93,
     "metadata": {},
     "output_type": "execute_result"
    }
   ],
   "source": [
    "broadcast(hypot, hourlybids, audjpy)"
   ]
  },
  {
   "cell_type": "markdown",
   "metadata": {
    "slideshow": {
     "slide_type": "slide"
    }
   },
   "source": [
    "# NDSparse -- summary\n",
    "\n",
    "- indexing by arbitrary keys or intervals of values\n",
    "- iterates by values\n",
    "- behaves like multi-dimensional arrays\n",
    "- supports array syntax like broadcast, reducedim, map, reduce\n",
    "- great for any \"Series\" -- esp. time series"
   ]
  },
  {
   "cell_type": "markdown",
   "metadata": {
    "slideshow": {
     "slide_type": "slide"
    }
   },
   "source": [
    "## Onward!\n",
    "\n",
    "- Feature extraction for machine-learning\n",
    "- More comprehensive out-of-core support\n",
    "- Dense ND data store (e.g. satellite imagery: X, Y, Z, T -> R, G, B)\n",
    "- Streaming updates"
   ]
  },
  {
   "cell_type": "markdown",
   "metadata": {
    "slideshow": {
     "slide_type": "slide"
    }
   },
   "source": [
    "# Thank You\n",
    "\n",
    "<center><img src = \"https://juliacomputing.com/assets/img/new/JuliaDB_logo2.svg\" width=400>\n",
    "\n",
    "</center>\n",
    "<br>\n",
    "<table>\n",
    "    <tr>\n",
    "        <td style=\"width: 200px\"><strong style=\"font-size:20px;\">jeff@juliacomputing.com<br>shashi@juliacomputing.com<br>josh@juliacomputing.com</strong></td>\n",
    "        <td><img src = \"https://juliacomputing.com/assets/img/new/julia-computing.svg\" width=400></td>\n",
    "    </tr>\n",
    "</table>\n",
    "\n",
    "- https://github.com/JuliaComputing/JuliaDB.jl\n",
    "- https://juliacomputing.com"
   ]
  },
  {
   "cell_type": "code",
   "execution_count": null,
   "metadata": {},
   "outputs": [],
   "source": []
  }
 ],
 "metadata": {
  "celltoolbar": "Slideshow",
  "kernelspec": {
   "display_name": "Julia 0.6.1-pre",
   "language": "julia",
   "name": "julia-0.6"
  },
  "language_info": {
   "file_extension": ".jl",
   "mimetype": "application/julia",
   "name": "julia",
   "version": "0.6.2"
  }
 },
 "nbformat": 4,
 "nbformat_minor": 2
}
